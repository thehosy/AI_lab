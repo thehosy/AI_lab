{
  "cells": [
    {
      "cell_type": "markdown",
      "metadata": {
        "id": "yHHAn28X7TPx"
      },
      "source": [
        "# **INTRODUCTION TO PROGRAMMING REVIEW**\n",
        "***Written by Hoang Tran Nhat Minh,***\n",
        "\n",
        "Hanoi University of Science and Technology,\n",
        "\n",
        "Data Science and Artificial Intelligence - K65.\n",
        "\n",
        "**Guided by Dr. Dinh Viet Sang.**"
      ]
    },
    {
      "cell_type": "markdown",
      "metadata": {
        "id": "51bJZ42gNjOY"
      },
      "source": [
        "## PREFACE"
      ]
    },
    {
      "cell_type": "markdown",
      "metadata": {
        "id": "1GRT5C67N4dv"
      },
      "source": [
        "**Thank you, my teacher, Dr. Dinh Viet Sang, I cannot learn programming in Python that much without you. This notebook uses a huge part your lectures as a guidance.**\n",
        "\n",
        "*Dear Data Science & AI - K65,*\n",
        "\n",
        "This is my last notebook in order to prepare for the final exam on Introduction to Programming. If you find this notebook helpful, thanks for reading it. Some might find this one not that helpful, I highly appreciate every line of text you read, including this one.\n",
        "\n",
        "If you find any mistake, feedback and I will try to fix it as soon as possible.\n",
        "\n",
        "Thank y'all for supporting me all the time, good luck on all of your exams.\n",
        "\n",
        "Best wishes,\n",
        "\n",
        "*Hoang Tran Nhat Minh.*\n",
        "\n"
      ]
    },
    {
      "cell_type": "markdown",
      "metadata": {
        "id": "PVb9I_8fKP1O"
      },
      "source": [
        "## CODES FOR ALL EXERCISES AND SOURCES"
      ]
    },
    {
      "cell_type": "markdown",
      "metadata": {
        "id": "w0aNIZrANosW"
      },
      "source": [
        "SOME OF THE FOLLOWING CONTENTS MIGHT BE ADJUSTED OVER TIME.\n",
        "\n",
        "Code for all exercises:\n",
        "\n",
        "[https://github.com/htnminh/python-ex-intro-to-prog](https://github.com/htnminh/python-ex-intro-to-prog)\n",
        "\n",
        "Source of this documentation:\n",
        "\n",
        "[https://github.com/htnminh/pdf-python-books-docs/tree/main/PYTHON%20LAST%20REVIEW](https://github.com/htnminh/pdf-python-books-docs/tree/main/PYTHON%20LAST%20REVIEW)\n",
        "\n",
        "Source of this Colab Notebook:\n",
        "\n",
        "[https://colab.research.google.com/drive/1mjtoDbqNHKB2bAb6rTUU8hiJRfUX3Ryt?usp=sharing](https://colab.research.google.com/drive/1mjtoDbqNHKB2bAb6rTUU8hiJRfUX3Ryt?usp=sharing)"
      ]
    },
    {
      "cell_type": "markdown",
      "metadata": {
        "id": "2BBi9dSe7Zx1"
      },
      "source": [
        "# CHAPTER 1: INTRODUCTION"
      ]
    },
    {
      "cell_type": "markdown",
      "metadata": {
        "id": "DHF53f3hKZnr"
      },
      "source": [
        "## CONSTANTS"
      ]
    },
    {
      "cell_type": "code",
      "execution_count": null,
      "metadata": {
        "colab": {
          "base_uri": "https://localhost:8080/"
        },
        "id": "WE_EM8mVGXmo",
        "outputId": "cc6aab8e-c371-4b96-fad9-453f5a00a56d"
      },
      "outputs": [
        {
          "name": "stdout",
          "output_type": "stream",
          "text": [
            "Hello World\n",
            "12.3\n"
          ]
        }
      ],
      "source": [
        "# CONSTANTS\n",
        "print('Hello World')\n",
        "print(12.3)"
      ]
    },
    {
      "cell_type": "markdown",
      "metadata": {
        "id": "oHieA5AuKcul"
      },
      "source": [
        "## VARIABLES"
      ]
    },
    {
      "cell_type": "code",
      "execution_count": null,
      "metadata": {
        "colab": {
          "base_uri": "https://localhost:8080/"
        },
        "id": "7GtXuE7qIJX_",
        "outputId": "2cf7f950-368d-4d23-f976-4dc169b0787b"
      },
      "outputs": [
        {
          "name": "stdout",
          "output_type": "stream",
          "text": [
            "Hello\n",
            "4.3\n"
          ]
        }
      ],
      "source": [
        "# VARIABLES\n",
        "x = 13.4\n",
        "y = 4.3\n",
        "x = 'Hello'\n",
        "print(x)\n",
        "print(y)"
      ]
    },
    {
      "cell_type": "markdown",
      "metadata": {
        "id": "JDnVJrVqKiM1"
      },
      "source": [
        "## NUMERIC OPERATORS"
      ]
    },
    {
      "cell_type": "code",
      "execution_count": null,
      "metadata": {
        "colab": {
          "base_uri": "https://localhost:8080/"
        },
        "id": "sGfQ8qzTIX0w",
        "outputId": "a1e2db37-a1af-4b50-a1c1-d711b9919b9d"
      },
      "outputs": [
        {
          "name": "stdout",
          "output_type": "stream",
          "text": [
            "279.5084971874737\n",
            "3.8\n",
            "3\n",
            "4\n"
          ]
        }
      ],
      "source": [
        "# NUMERIC OPERATORS\n",
        "print(5 ** 3.5)\n",
        "print(19 / 5)\n",
        "print(19 // 5)\n",
        "print(19 % 5)"
      ]
    },
    {
      "cell_type": "markdown",
      "metadata": {
        "id": "3pd-Nv4bKl1O"
      },
      "source": [
        "## SCIENTIFIC NOTATION"
      ]
    },
    {
      "cell_type": "code",
      "execution_count": null,
      "metadata": {
        "colab": {
          "base_uri": "https://localhost:8080/"
        },
        "id": "iX0OuOZ6JDVA",
        "outputId": "ba931cda-8cf1-45a2-a0b1-98ebe2c06f47"
      },
      "outputs": [
        {
          "name": "stdout",
          "output_type": "stream",
          "text": [
            "123.4\n",
            "123.4\n",
            "0.001234\n"
          ]
        }
      ],
      "source": [
        "# SCIENTIFIC NOTATION\n",
        "print(1.234e2)\n",
        "print(1.234E+2)\n",
        "print(1.234e-3)"
      ]
    },
    {
      "cell_type": "markdown",
      "metadata": {
        "id": "gpHNuVBtKpEF"
      },
      "source": [
        "## INT AND FLOAT"
      ]
    },
    {
      "cell_type": "code",
      "execution_count": null,
      "metadata": {
        "colab": {
          "base_uri": "https://localhost:8080/"
        },
        "id": "6yLoagkwJ_6o",
        "outputId": "bfc837b0-9bee-49f6-a041-adc0bc899021"
      },
      "outputs": [
        {
          "name": "stdout",
          "output_type": "stream",
          "text": [
            "6.3\n",
            "1.0\n",
            "8\n"
          ]
        }
      ],
      "source": [
        "# INT AND FLOAT\n",
        "print(1 + 5.3)\n",
        "print(5 / 5)\n",
        "print(3 + 5)"
      ]
    },
    {
      "cell_type": "markdown",
      "metadata": {
        "id": "tOqRJATeKswH"
      },
      "source": [
        "## TYPES"
      ]
    },
    {
      "cell_type": "code",
      "execution_count": null,
      "metadata": {
        "colab": {
          "base_uri": "https://localhost:8080/"
        },
        "id": "1PVKKLLLKb_Q",
        "outputId": "f72fd2ab-266b-43c7-de88-f39e0a4648aa"
      },
      "outputs": [
        {
          "name": "stdout",
          "output_type": "stream",
          "text": [
            "9\n",
            "hello there\n",
            "<class 'float'>\n",
            "<class 'str'>\n",
            "3.0\n",
            "45\n",
            "8\n"
          ]
        }
      ],
      "source": [
        "# TYPES\n",
        "print(3 + 6)\n",
        "print('hello' + ' there')\n",
        "\n",
        "print(type(3.5))\n",
        "print(type('?'))\n",
        "\n",
        "print(float(3))\n",
        "print(str(4) + str(5))\n",
        "print(int('8'))"
      ]
    },
    {
      "cell_type": "markdown",
      "metadata": {
        "id": "gwodJRIHK6Ir"
      },
      "source": [
        "## (INPUT) TYPE DIFFERENCES"
      ]
    },
    {
      "cell_type": "code",
      "execution_count": null,
      "metadata": {
        "colab": {
          "base_uri": "https://localhost:8080/"
        },
        "id": "2ExwCiCpLWp3",
        "outputId": "a6066895-9a0a-4e85-d38b-6cd1b42af798"
      },
      "outputs": [
        {
          "name": "stdout",
          "output_type": "stream",
          "text": [
            "a = 8\n",
            "88888\n",
            "40\n"
          ]
        }
      ],
      "source": [
        "# TYPE DIFFERENCES\n",
        "a = input('a = ')\n",
        "print(a * 5)\n",
        "print(int(a) * 5)"
      ]
    },
    {
      "cell_type": "markdown",
      "metadata": {
        "id": "YFq4ThmwKwcO"
      },
      "source": [
        "## (INPUT) FILE NAME"
      ]
    },
    {
      "cell_type": "code",
      "execution_count": null,
      "metadata": {
        "colab": {
          "base_uri": "https://localhost:8080/"
        },
        "id": "TsRV90fKLggo",
        "outputId": "636fa934-57af-4799-b22b-4468e334ff4a"
      },
      "outputs": [
        {
          "name": "stdout",
          "output_type": "stream",
          "text": [
            "Name = /content/sample_data/README.md\n",
            "This directory includes a few sample datasets to get you started.\n",
            "\n",
            "*   `california_housing_data*.csv` is California housing data from the 1990 US\n",
            "    Census; more information is available at:\n",
            "    https://developers.google.com/machine-learning/crash-course/california-housing-data-description\n",
            "\n",
            "*   `mnist_*.csv` is a small sample of the\n",
            "    [MNIST database](https://en.wikipedia.org/wiki/MNIST_database), which is\n",
            "    described at: http://yann.lecun.com/exdb/mnist/\n",
            "\n",
            "*   `anscombe.json` contains a copy of\n",
            "    [Anscombe's quartet](https://en.wikipedia.org/wiki/Anscombe%27s_quartet); it\n",
            "    was originally described in\n",
            "\n",
            "    Anscombe, F. J. (1973). 'Graphs in Statistical Analysis'. American\n",
            "    Statistician. 27 (1): 17-21. JSTOR 2682899.\n",
            "\n",
            "    and our copy was prepared by the\n",
            "    [vega_datasets library](https://github.com/altair-viz/vega_datasets/blob/4f67bdaad10f45e3549984e17e1b3088c731503d/vega_datasets/_data/anscombe.json).\n",
            "\n"
          ]
        }
      ],
      "source": [
        "# FILE NAME\n",
        "name = input('Name = ')\n",
        "#/content/sample_data/README.md\n",
        "f = open(name, 'r')\n",
        "print(f.read())\n",
        "f.close()"
      ]
    },
    {
      "cell_type": "markdown",
      "metadata": {
        "id": "xTFbp-9eNm-p"
      },
      "source": [
        "# CHAPTER 2: CONTROL FLOW"
      ]
    },
    {
      "cell_type": "markdown",
      "metadata": {
        "id": "3_11s2BKLEDd"
      },
      "source": [
        "## COMPARISON OPERATORS"
      ]
    },
    {
      "cell_type": "code",
      "execution_count": null,
      "metadata": {
        "colab": {
          "base_uri": "https://localhost:8080/"
        },
        "id": "jm80DA7LN2NB",
        "outputId": "33e2b890-a470-483e-a3bb-728c065c57ef"
      },
      "outputs": [
        {
          "name": "stdout",
          "output_type": "stream",
          "text": [
            "False\n",
            "True\n",
            "True\n",
            "False\n"
          ]
        }
      ],
      "source": [
        "# COMPARISON OPERATORS\n",
        "print(3 == 4)\n",
        "print(3 != 4)\n",
        "print(3 < 4)\n",
        "print(3 >= 4)"
      ]
    },
    {
      "cell_type": "markdown",
      "metadata": {
        "id": "mF9tfmVcLFzc"
      },
      "source": [
        "## LOGIC OPERATORS"
      ]
    },
    {
      "cell_type": "code",
      "execution_count": null,
      "metadata": {
        "colab": {
          "base_uri": "https://localhost:8080/"
        },
        "id": "1IqaaB8YPdMo",
        "outputId": "cd9d1f28-1a4d-41b3-dc87-c091251d3b8d"
      },
      "outputs": [
        {
          "name": "stdout",
          "output_type": "stream",
          "text": [
            "True\n",
            "False\n",
            "True\n"
          ]
        }
      ],
      "source": [
        "# LOGIC OPERATORS\n",
        "print(not False)\n",
        "print(True and False)\n",
        "print(True or False)"
      ]
    },
    {
      "cell_type": "markdown",
      "metadata": {
        "id": "gMFHOZ47LH3M"
      },
      "source": [
        "## (INPUT) BRANCHING"
      ]
    },
    {
      "cell_type": "code",
      "execution_count": null,
      "metadata": {
        "colab": {
          "base_uri": "https://localhost:8080/"
        },
        "id": "WDxV4e8bPtQQ",
        "outputId": "5889706e-cb4a-40a8-fad5-e9f15afb7e20"
      },
      "outputs": [
        {
          "name": "stdout",
          "output_type": "stream",
          "text": [
            "a = 3\n",
            "b = 5\n",
            "less\n"
          ]
        }
      ],
      "source": [
        "# BRANCHING\n",
        "a = int(input('a = '))\n",
        "b = int(input('b = '))\n",
        "if a > b:\n",
        "    print('larger')\n",
        "elif a == b:\n",
        "    print('equal')\n",
        "else:\n",
        "    print('less')"
      ]
    },
    {
      "cell_type": "markdown",
      "metadata": {
        "id": "484ue29hSX9h"
      },
      "source": [
        "# CHAPTER 3: FUNCTIONS"
      ]
    },
    {
      "cell_type": "markdown",
      "metadata": {
        "id": "G1-Wx0mlLLvl"
      },
      "source": [
        "## FUNCTION EXAMPLE"
      ]
    },
    {
      "cell_type": "code",
      "execution_count": null,
      "metadata": {
        "colab": {
          "base_uri": "https://localhost:8080/"
        },
        "id": "mUgVinH7Sjs4",
        "outputId": "3549f261-610e-439e-eea8-68610145ae24"
      },
      "outputs": [
        {
          "name": "stdout",
          "output_type": "stream",
          "text": [
            "16\n",
            "\n",
            "    2 times a number\n",
            "    \n"
          ]
        }
      ],
      "source": [
        "# FUNCTION EXAMPLE\n",
        "\n",
        "#   name    parameter(s)\n",
        "def two_time(number):\n",
        "    # docstring\n",
        "    \"\"\"2 times a number\"\"\"\n",
        "\n",
        "    # body\n",
        "    doubled = 2 * number\n",
        "\n",
        "    # returns (if not, it is a void function)\n",
        "    return doubled\n",
        "\n",
        "# call function, pass argument(s) to parameter(s)\n",
        "print(two_time(8))\n",
        "\n",
        "print(two_time.__doc__)"
      ]
    },
    {
      "cell_type": "markdown",
      "metadata": {
        "id": "-eX6L98wLRQd"
      },
      "source": [
        "## COMMON BUILT-IN PYTHON FUNCTIONS"
      ]
    },
    {
      "cell_type": "code",
      "execution_count": null,
      "metadata": {
        "colab": {
          "base_uri": "https://localhost:8080/"
        },
        "id": "P7KtieS1UlxB",
        "outputId": "461c9da6-943b-46ef-9d25-862e0c293e95"
      },
      "outputs": [
        {
          "name": "stdout",
          "output_type": "stream",
          "text": [
            "8\n",
            "3\n"
          ]
        }
      ],
      "source": [
        "# COMMON BUILT-IN PYTHON FUNCTIONS\n",
        "# previous ones: input(), type(), float(),...\n",
        "print(max(6, 8, 5))\n",
        "print(min(3, 6, 7))"
      ]
    },
    {
      "cell_type": "markdown",
      "metadata": {
        "id": "QdQL5KG6LVdU"
      },
      "source": [
        "## PASS-BY-OBJECT-REFERENCE"
      ]
    },
    {
      "cell_type": "code",
      "execution_count": null,
      "metadata": {
        "colab": {
          "base_uri": "https://localhost:8080/"
        },
        "id": "YCG2_l88Vyep",
        "outputId": "b77d8cce-cc84-47f1-8503-23fcd163b27b"
      },
      "outputs": [
        {
          "name": "stdout",
          "output_type": "stream",
          "text": [
            "4\n",
            "4\n",
            "['original']\n",
            "['original', 'changed']\n"
          ]
        }
      ],
      "source": [
        "# PASS-BY-OBJECT-REFERENCE\n",
        "# Immutable objects: int, float, complex, string, tuple, frozen set, bytes\n",
        "# Mutable objects: list, dict, set, byte array\n",
        "\n",
        "def change_num(num):\n",
        "    num += 1\n",
        "\n",
        "a = 4\n",
        "print(a)\n",
        "change_num(a)\n",
        "print(a)\n",
        "\n",
        "def change_lst(lst):\n",
        "    lst.append('changed')\n",
        "\n",
        "l = ['original']\n",
        "print(l)\n",
        "change_lst(l)\n",
        "print(l)"
      ]
    },
    {
      "cell_type": "markdown",
      "metadata": {
        "id": "sYVR_M2QLXSV"
      },
      "source": [
        "## SCOPE"
      ]
    },
    {
      "cell_type": "code",
      "execution_count": null,
      "metadata": {
        "colab": {
          "base_uri": "https://localhost:8080/"
        },
        "id": "-oYQNgGGdh1k",
        "outputId": "2ba8b4e8-f93f-442a-abbf-f6c1345df6d3"
      },
      "outputs": [
        {
          "name": "stdout",
          "output_type": "stream",
          "text": [
            "First:   x = 0\n",
            "In f:    x = 1\n",
            "After f: x = 0\n"
          ]
        }
      ],
      "source": [
        "# SCOPE\n",
        "def f(x):\n",
        "    x += 1\n",
        "    print('In f:    x =',x)\n",
        "\n",
        "x = 0\n",
        "print('First:   x =', x)\n",
        "\n",
        "f(x)\n",
        "print('After f: x =', x)"
      ]
    },
    {
      "cell_type": "markdown",
      "metadata": {
        "id": "TaAgUlL6LY2M"
      },
      "source": [
        "## FUNCTIONS AS ARGUMENTS"
      ]
    },
    {
      "cell_type": "code",
      "execution_count": null,
      "metadata": {
        "colab": {
          "base_uri": "https://localhost:8080/"
        },
        "id": "wYIGUnL0foMr",
        "outputId": "d6f095c8-531c-4f11-fc92-5f0055ef709f"
      },
      "outputs": [
        {
          "name": "stdout",
          "output_type": "stream",
          "text": [
            "79\n",
            "79\n"
          ]
        }
      ],
      "source": [
        "# FUNCTIONS AS ARGUMENTS\n",
        "def triple(num):\n",
        "    return 3 * num\n",
        "\n",
        "def square(num):\n",
        "    return num ** 2\n",
        "\n",
        "\n",
        "def fx_plus_gy(f, x, g, y):\n",
        "    return f(x) + g(y)\n",
        "\n",
        "print(fx_plus_gy(triple, 5, square, 8))\n",
        "print(3 * 5 + 8 ** 2)"
      ]
    },
    {
      "cell_type": "markdown",
      "metadata": {
        "id": "uJA2eC52LaqM"
      },
      "source": [
        "##  DEFAULT PARAMETER VALUE"
      ]
    },
    {
      "cell_type": "code",
      "execution_count": null,
      "metadata": {
        "colab": {
          "base_uri": "https://localhost:8080/"
        },
        "id": "C1VAds4Widl7",
        "outputId": "ba34025c-1de1-4df4-c8da-cab3dab3c904"
      },
      "outputs": [
        {
          "name": "stdout",
          "output_type": "stream",
          "text": [
            "6\n",
            "8\n",
            "9\n"
          ]
        }
      ],
      "source": [
        "# DEFAULT PARAMETER VALUE\n",
        "def tong(a, b = 2, c = 3):\n",
        "    return a + b + c\n",
        "\n",
        "print(tong(1))\n",
        "# 1 + 2 + 3\n",
        "print(tong(1, 4))\n",
        "# 1 + 4 + 3\n",
        "print(tong(0, 3, 6))\n",
        "# 0 + 3 + 6"
      ]
    },
    {
      "cell_type": "markdown",
      "metadata": {
        "id": "Miim09wtLcJ0"
      },
      "source": [
        "##  LAMBDA FUNCTION"
      ]
    },
    {
      "cell_type": "code",
      "execution_count": null,
      "metadata": {
        "colab": {
          "base_uri": "https://localhost:8080/"
        },
        "id": "6XBjOWnAjPts",
        "outputId": "e69746c1-3054-47e7-c980-ccf39028080d"
      },
      "outputs": [
        {
          "name": "stdout",
          "output_type": "stream",
          "text": [
            "8\n",
            "18\n"
          ]
        }
      ],
      "source": [
        "# LAMBDA FUNCTION\n",
        "tong = lambda x, y: x + y\n",
        "print(tong(3, 5))\n",
        "\n",
        "print((lambda x, y: x * y)(2, 9))"
      ]
    },
    {
      "cell_type": "markdown",
      "metadata": {
        "id": "UuxNIR1fLeKs"
      },
      "source": [
        "###  LAMBDA EXAMPLE"
      ]
    },
    {
      "cell_type": "code",
      "execution_count": null,
      "metadata": {
        "colab": {
          "base_uri": "https://localhost:8080/"
        },
        "id": "ar3ikJrYjseL",
        "outputId": "d510e859-1b9b-41b8-cef9-fa40a77952a3"
      },
      "outputs": [
        {
          "name": "stdout",
          "output_type": "stream",
          "text": [
            "32\n",
            "12\n"
          ]
        }
      ],
      "source": [
        "# LAMBDA EXAMPLE\n",
        "def multiply_by(n):\n",
        "    return lambda x: x * n\n",
        "\n",
        "double = multiply_by(2)\n",
        "# multiply_by(2) ->  lambda x: x * 2\n",
        "# -> a doubling function\n",
        "triple = multiply_by(3)\n",
        "\n",
        "print(double(16))\n",
        "print(triple(4))"
      ]
    },
    {
      "cell_type": "markdown",
      "metadata": {
        "id": "TsHmDufFLg9E"
      },
      "source": [
        "###  TEST: WITHOUT LAMBDA"
      ]
    },
    {
      "cell_type": "code",
      "execution_count": null,
      "metadata": {
        "colab": {
          "base_uri": "https://localhost:8080/"
        },
        "id": "xcpRd19ekNGU",
        "outputId": "b4fa8b3a-1520-4e25-8c9a-832fdda1af7c"
      },
      "outputs": [
        {
          "name": "stdout",
          "output_type": "stream",
          "text": [
            "32\n",
            "12\n"
          ]
        }
      ],
      "source": [
        "# TEST: WITHOUT LAMBDA\n",
        "def multiply_by(n):\n",
        "    def multi(x):\n",
        "        return x * n\n",
        "    return multi\n",
        "\n",
        "double = multiply_by(2)\n",
        "# multiply_by(2) -> function: multi, where multi return the doubled argument\n",
        "# -> a doubling function\n",
        "triple = multiply_by(3)\n",
        "\n",
        "print(double(16))\n",
        "print(triple(4))"
      ]
    },
    {
      "cell_type": "markdown",
      "metadata": {
        "id": "kdjmVlTELie9"
      },
      "source": [
        "### LAMBDA EXAMPLE"
      ]
    },
    {
      "cell_type": "code",
      "execution_count": null,
      "metadata": {
        "colab": {
          "base_uri": "https://localhost:8080/"
        },
        "id": "G7Uzfy6ynFeU",
        "outputId": "1e38ed44-a5be-45ad-fa36-cf2e122471e3"
      },
      "outputs": [
        {
          "name": "stdout",
          "output_type": "stream",
          "text": [
            "12\n"
          ]
        }
      ],
      "source": [
        "# LAMBDA EXAMPLE\n",
        "x_plus_fx = lambda x, f: x + f(x)\n",
        "\n",
        "print(x_plus_fx(3, lambda x: x ** 2))\n",
        "# x + f(x) = x + x ** 2\n",
        "# 3 + f(3) = 3 + 3 ** 2"
      ]
    },
    {
      "cell_type": "markdown",
      "metadata": {
        "id": "Oz0VdEQzLk6W"
      },
      "source": [
        "## RECURSION EXAMPLES"
      ]
    },
    {
      "cell_type": "code",
      "execution_count": null,
      "metadata": {
        "colab": {
          "base_uri": "https://localhost:8080/"
        },
        "id": "VhVkrvzfoZc8",
        "outputId": "e246035c-fdd1-41ad-a279-adad081f9123"
      },
      "outputs": [
        {
          "name": "stdout",
          "output_type": "stream",
          "text": [
            "7! = 6! * 7\n",
            "6! = 5! * 6\n",
            "5! = 4! * 5\n",
            "4! = 3! * 4\n",
            "3! = 2! * 3\n",
            "2! = 1! * 2\n",
            "1! = 0! * 1\n",
            "0! = 1\n",
            "5040\n"
          ]
        }
      ],
      "source": [
        "# RECURSION EXAMPLES\n",
        "def pr(n):\n",
        "    print(str(n) + '! = ' + str(n - 1) + '! * ' + str(n))\n",
        "\n",
        "def factorial(n):\n",
        "    if n == 0:\n",
        "        print('0! = 1')\n",
        "        return 1\n",
        "    pr(n)\n",
        "    return factorial(n - 1) * n\n",
        "\n",
        "print(factorial(7))"
      ]
    },
    {
      "cell_type": "markdown",
      "metadata": {
        "id": "hV_svzDALoVO"
      },
      "source": [
        "###  FACTORIAL RECURSION IN SHORT"
      ]
    },
    {
      "cell_type": "code",
      "execution_count": null,
      "metadata": {
        "colab": {
          "base_uri": "https://localhost:8080/"
        },
        "id": "2yw72lgXqtvs",
        "outputId": "ff6b74ac-a78c-47cd-a7d5-7364839efa68"
      },
      "outputs": [
        {
          "name": "stdout",
          "output_type": "stream",
          "text": [
            "5040\n"
          ]
        }
      ],
      "source": [
        "# FACTORIAL RECURSION IN SHORT\n",
        "factorial = lambda n: 1 if n == 0 else factorial(n - 1) * n\n",
        "print(factorial(7))"
      ]
    },
    {
      "cell_type": "markdown",
      "metadata": {
        "id": "1R_WJFS8Lpx9"
      },
      "source": [
        "### FIBONACCI RECURSION IN SHORT"
      ]
    },
    {
      "cell_type": "code",
      "execution_count": null,
      "metadata": {
        "colab": {
          "base_uri": "https://localhost:8080/"
        },
        "id": "_JXLedW4zlpK",
        "outputId": "e3d63a33-55fe-4c8d-e212-a09613dd6d9b"
      },
      "outputs": [
        {
          "name": "stdout",
          "output_type": "stream",
          "text": [
            "0 1 1 2 3 5 8 13 21 34 55 89 144 233 377\n"
          ]
        }
      ],
      "source": [
        "# FIBONACCI RECURSION IN SHORT\n",
        "fib = lambda n: n if n <= 1 else fib(n - 1) + fib(n - 2)\n",
        "print(*[fib(i) for i in range(15)])"
      ]
    },
    {
      "cell_type": "markdown",
      "metadata": {
        "id": "6XYgaqc_1qOB"
      },
      "source": [
        "### (INPUT) (WARNING: WALL-OF-CODE) TOWER OF HANOI: TRADITIONAL RECURSION PROBLEM"
      ]
    },
    {
      "cell_type": "code",
      "execution_count": null,
      "metadata": {
        "colab": {
          "base_uri": "https://localhost:8080/"
        },
        "id": "poyxAJR2w287",
        "outputId": "d715c89b-39fd-49aa-e41e-95a196d5b42d"
      },
      "outputs": [
        {
          "name": "stdout",
          "output_type": "stream",
          "text": [
            "n = 4\n",
            "\n",
            "|  A  B  C  |\n",
            "|  1  .  .  |\n",
            "|  2  .  .  |\n",
            "|  3  .  .  |\n",
            "|  4  .  .  |\n",
            "                  Step 1: A -> B\n",
            "|  A  B  C  |\n",
            "|  .  .  .  |\n",
            "|  2  .  .  |\n",
            "|  3  .  .  |\n",
            "|  4  1  .  |\n",
            "                  Step 2: A -> C\n",
            "|  A  B  C  |\n",
            "|  .  .  .  |\n",
            "|  .  .  .  |\n",
            "|  3  .  .  |\n",
            "|  4  1  2  |\n",
            "                  Step 3: B -> C\n",
            "|  A  B  C  |\n",
            "|  .  .  .  |\n",
            "|  .  .  .  |\n",
            "|  3  .  1  |\n",
            "|  4  .  2  |\n",
            "                  Step 4: A -> B\n",
            "|  A  B  C  |\n",
            "|  .  .  .  |\n",
            "|  .  .  .  |\n",
            "|  .  .  1  |\n",
            "|  4  3  2  |\n",
            "                  Step 5: C -> A\n",
            "|  A  B  C  |\n",
            "|  .  .  .  |\n",
            "|  .  .  .  |\n",
            "|  1  .  .  |\n",
            "|  4  3  2  |\n",
            "                  Step 6: C -> B\n",
            "|  A  B  C  |\n",
            "|  .  .  .  |\n",
            "|  .  .  .  |\n",
            "|  1  2  .  |\n",
            "|  4  3  .  |\n",
            "                  Step 7: A -> B\n",
            "|  A  B  C  |\n",
            "|  .  .  .  |\n",
            "|  .  1  .  |\n",
            "|  .  2  .  |\n",
            "|  4  3  .  |\n",
            "                  Step 8: A -> C\n",
            "|  A  B  C  |\n",
            "|  .  .  .  |\n",
            "|  .  1  .  |\n",
            "|  .  2  .  |\n",
            "|  .  3  4  |\n",
            "                  Step 9: B -> C\n",
            "|  A  B  C  |\n",
            "|  .  .  .  |\n",
            "|  .  .  .  |\n",
            "|  .  2  1  |\n",
            "|  .  3  4  |\n",
            "                  Step 10: B -> A\n",
            "|  A  B  C  |\n",
            "|  .  .  .  |\n",
            "|  .  .  .  |\n",
            "|  .  .  1  |\n",
            "|  2  3  4  |\n",
            "                  Step 11: C -> A\n",
            "|  A  B  C  |\n",
            "|  .  .  .  |\n",
            "|  .  .  .  |\n",
            "|  1  .  .  |\n",
            "|  2  3  4  |\n",
            "                  Step 12: B -> C\n",
            "|  A  B  C  |\n",
            "|  .  .  .  |\n",
            "|  .  .  .  |\n",
            "|  1  .  3  |\n",
            "|  2  .  4  |\n",
            "                  Step 13: A -> B\n",
            "|  A  B  C  |\n",
            "|  .  .  .  |\n",
            "|  .  .  .  |\n",
            "|  .  .  3  |\n",
            "|  2  1  4  |\n",
            "                  Step 14: A -> C\n",
            "|  A  B  C  |\n",
            "|  .  .  .  |\n",
            "|  .  .  2  |\n",
            "|  .  .  3  |\n",
            "|  .  1  4  |\n",
            "                  Step 15: B -> C\n",
            "|  A  B  C  |\n",
            "|  .  .  1  |\n",
            "|  .  .  2  |\n",
            "|  .  .  3  |\n",
            "|  .  .  4  |\n",
            "\n",
            "Number of transfers: 15\n"
          ]
        }
      ],
      "source": [
        "# TOWER OF HANOI: TRADITIONAL RECURSION PROBLEM\n",
        "# EXPLICITLY VISUALIZED CODE\n",
        "def hanoi_tower(n):\n",
        "    \"\"\"run and return number of transfers\"\"\"\n",
        "    def transfer(n, start, end, mid):\n",
        "        \"\"\"print each step and increase count by 1\"\"\"\n",
        "        if n == 1:\n",
        "            nonlocal count\n",
        "            count += 1\n",
        "            map_ind = ['A', 'B', 'C']\n",
        "            print(' '*18 + 'Step ' + str(count) + ': ' + map_ind[start]\n",
        "                                                    + ' -> ' + map_ind[end])\n",
        "            move(start, end)\n",
        "            print_board()\n",
        "        else:\n",
        "            transfer(n - 1, start, mid, end)\n",
        "            transfer(1, start, end, mid)\n",
        "            transfer(n - 1, mid, end, start)\n",
        "\n",
        "    count = 0\n",
        "    transfer(n, 0, 2, 1)\n",
        "    return count\n",
        "\n",
        "\"\"\"\n",
        "# the list of list board if n=4\n",
        "board =                     \n",
        "      0  1  2  3                    \n",
        "\n",
        "0     4  3  2  1                    \n",
        "1     0  0  0  0                    \n",
        "2     0  0  0  0\n",
        "\n",
        "print_board() print\n",
        "                A  B  C\n",
        "\n",
        "                1  .  .\n",
        "                2  .  .\n",
        "                3  .  .\n",
        "                4  .  .\n",
        "\"\"\"\n",
        "\n",
        "def print_board():\n",
        "    \"\"\"print current board\"\"\"\n",
        "    print('|  A  B  C  |')\n",
        "    \n",
        "    for col in range(n - 1, -1, -1):\n",
        "        print('|  ', end = '')\n",
        "        for row in range(3):\n",
        "            character = '.' if board[row][col] == 0 else board[row][col]\n",
        "            print(str(character) + '  ', end = '')\n",
        "        print('|')\n",
        "        \n",
        "\n",
        "def move(row_start, row_end):\n",
        "    \"\"\"make a move\"\"\"\n",
        "    def col_lastnonenull(row):\n",
        "        for col_ind in range(n - 1, -1, -1):\n",
        "            if board[row][col_ind] != 0:\n",
        "                return col_ind\n",
        "\n",
        "    def col_firstnull(row):\n",
        "        for col_ind in range(n):\n",
        "            if board[row][col_ind] == 0:\n",
        "                return col_ind\n",
        "\n",
        "    board[row_end][col_firstnull(row_end)] = \\\n",
        "                            board[row_start][col_lastnonenull(row_start)]\n",
        "    board[row_start][col_lastnonenull(row_start)] = 0\n",
        "\n",
        "# MAIN:\n",
        "\n",
        "# input n\n",
        "n = int(input('n = '))\n",
        "\n",
        "# initialize list of list, n = 4, \n",
        "board = [[n - i for i in range(n)]]\n",
        "for i in range(2):\n",
        "    board.append([0 for j in range(n)])\n",
        "    \n",
        "# print the initialized board\n",
        "print()\n",
        "print_board()\n",
        "\n",
        "# run, print the board every move and return the result\n",
        "print('\\nNumber of transfers: %i' % hanoi_tower(n))\n",
        "\n",
        "# n SHOULD BE LESS THAN 5"
      ]
    },
    {
      "cell_type": "markdown",
      "metadata": {
        "id": "xt3pT21_1hvi"
      },
      "source": [
        "# CHAPTER 4: STRINGS"
      ]
    },
    {
      "cell_type": "markdown",
      "metadata": {
        "id": "wm6XN6ThL9_0"
      },
      "source": [
        "## STRING EXAMPLES"
      ]
    },
    {
      "cell_type": "code",
      "execution_count": null,
      "metadata": {
        "colab": {
          "base_uri": "https://localhost:8080/"
        },
        "id": "z0GumIEO1nSD",
        "outputId": "1bdc55b7-fa55-4e97-e79d-0aa948727998"
      },
      "outputs": [
        {
          "name": "stdout",
          "output_type": "stream",
          "text": [
            "abc\n"
          ]
        }
      ],
      "source": [
        "# STRING EXAMPLES\n",
        "print('abc')"
      ]
    },
    {
      "cell_type": "markdown",
      "metadata": {
        "id": "MXaP5ypAL_JV"
      },
      "source": [
        "## `len()` OF A STRING"
      ]
    },
    {
      "cell_type": "code",
      "execution_count": null,
      "metadata": {
        "colab": {
          "base_uri": "https://localhost:8080/"
        },
        "id": "ZW-nsEKe3NyR",
        "outputId": "ee947886-7918-4e57-da71-56e5b6208921"
      },
      "outputs": [
        {
          "name": "stdout",
          "output_type": "stream",
          "text": [
            "16\n"
          ]
        }
      ],
      "source": [
        "# LEN OF A STRING\n",
        "print(len('this is a string'))"
      ]
    },
    {
      "cell_type": "markdown",
      "metadata": {
        "id": "KmuJc-FcMBuU"
      },
      "source": [
        "## LOOP OVER A STRING"
      ]
    },
    {
      "cell_type": "code",
      "execution_count": null,
      "metadata": {
        "colab": {
          "base_uri": "https://localhost:8080/"
        },
        "id": "dwvG48DQ3Veg",
        "outputId": "a42807a7-1a98-45ae-a6fd-e4fb3601c56a"
      },
      "outputs": [
        {
          "name": "stdout",
          "output_type": "stream",
          "text": [
            "h\n",
            "i\n",
            " \n",
            "t\n",
            "h\n",
            "e\n",
            "r\n",
            "e\n",
            "?\n"
          ]
        }
      ],
      "source": [
        "# LOOP OVER A STRING\n",
        "for c in 'hi there?':\n",
        "    print(c)"
      ]
    },
    {
      "cell_type": "markdown",
      "metadata": {
        "id": "EuZeCIV2MDkc"
      },
      "source": [
        "##  SLICING A STRING"
      ]
    },
    {
      "cell_type": "code",
      "execution_count": null,
      "metadata": {
        "colab": {
          "base_uri": "https://localhost:8080/"
        },
        "id": "H2fir_Eb34Df",
        "outputId": "672bdaae-ac84-4787-e958-adc213b57eae"
      },
      "outputs": [
        {
          "name": "stdout",
          "output_type": "stream",
          "text": [
            "c\n",
            "npq\n",
            "hello\n"
          ]
        }
      ],
      "source": [
        "# SLICING A STRING\n",
        "print('abcd'[2])\n",
        "print('mnpq'[1:])\n",
        "print('hello from the other side'[:5])"
      ]
    },
    {
      "cell_type": "markdown",
      "metadata": {
        "id": "PvTI8RLbMF0M"
      },
      "source": [
        "## STRING FORMATTING OPERATOR `%`"
      ]
    },
    {
      "cell_type": "code",
      "execution_count": null,
      "metadata": {
        "colab": {
          "base_uri": "https://localhost:8080/"
        },
        "id": "YbdM3jFJ4Mow",
        "outputId": "f8d20f76-6ea6-48a7-afbc-0259c5378bc9"
      },
      "outputs": [
        {
          "name": "stdout",
          "output_type": "stream",
          "text": [
            "gold is a metal\n",
            "yellow is a color of 7 main colors in a rainbow!\n"
          ]
        }
      ],
      "source": [
        "# STRING FORMATTING OPERATOR %\n",
        "print('%s is a metal' % 'gold')\n",
        "\n",
        "color = 'yellow'\n",
        "num = 7\n",
        "print( '%s is a color of %d main colors in a rainbow!' % (color, num) )\n",
        "\n",
        "# %s string | %c char | %d decimal | %i integer | %f float"
      ]
    },
    {
      "cell_type": "markdown",
      "metadata": {
        "id": "Pm4-x9PQMNCE"
      },
      "source": [
        "###  STRING FORMATTING OPERATOR `%` EXAMPLE"
      ]
    },
    {
      "cell_type": "code",
      "execution_count": null,
      "metadata": {
        "colab": {
          "base_uri": "https://localhost:8080/"
        },
        "id": "tYijrN6R4y-I",
        "outputId": "9fbd69d1-9aca-4970-ec67-6460eb96b5b4"
      },
      "outputs": [
        {
          "name": "stdout",
          "output_type": "stream",
          "text": [
            "3.90\n"
          ]
        }
      ],
      "source": [
        "# STRING FORMATTING OPERATOR % EXAMPLE\n",
        "# https://docs.python.org/3/library/string.html\n",
        "print('%.2f' % 3.895)"
      ]
    },
    {
      "cell_type": "markdown",
      "metadata": {
        "id": "_nArhmD-MbRc"
      },
      "source": [
        "##  `in` OPERATOR"
      ]
    },
    {
      "cell_type": "code",
      "execution_count": null,
      "metadata": {
        "colab": {
          "base_uri": "https://localhost:8080/"
        },
        "id": "HHLBEYn06OLH",
        "outputId": "c50b1e46-6b6c-4fbd-c32d-d7a794af2af7"
      },
      "outputs": [
        {
          "name": "stdout",
          "output_type": "stream",
          "text": [
            "True\n"
          ]
        }
      ],
      "source": [
        "# in OPERATOR\n",
        "print('e' in 'hello')"
      ]
    },
    {
      "cell_type": "markdown",
      "metadata": {
        "id": "hEPMlQgdMek0"
      },
      "source": [
        "##  STRING COMPARISON"
      ]
    },
    {
      "cell_type": "code",
      "execution_count": null,
      "metadata": {
        "colab": {
          "base_uri": "https://localhost:8080/"
        },
        "id": "HJ1lQgtX6ao5",
        "outputId": "4db02ac3-c344-43a2-e216-add09a3142d4"
      },
      "outputs": [
        {
          "name": "stdout",
          "output_type": "stream",
          "text": [
            "False\n",
            "False\n",
            "True\n"
          ]
        }
      ],
      "source": [
        "# STRING COMPARISON\n",
        "print('abc' > 'def')\n",
        "print('abc' > 'd')\n",
        "print('axyz' < 'bcde')"
      ]
    },
    {
      "cell_type": "markdown",
      "metadata": {
        "id": "t7tsFGUxMgpb"
      },
      "source": [
        "## THE DIRECTORY FUNCTION `dir()`"
      ]
    },
    {
      "cell_type": "code",
      "execution_count": null,
      "metadata": {
        "colab": {
          "base_uri": "https://localhost:8080/"
        },
        "id": "zizudiBv6qSL",
        "outputId": "92468170-cbb8-49ad-8765-03a3d8e169c0"
      },
      "outputs": [
        {
          "name": "stdout",
          "output_type": "stream",
          "text": [
            "... __sizeof__ __str__ __subclasshook__ capitalize casefold center count encode ...\n",
            "and a lot more!\n"
          ]
        }
      ],
      "source": [
        "# THE DIRECTORY FUNCTION dir()\n",
        "s = '????'\n",
        "print('...', *dir(s)[30:38], '...\\nand a lot more!')"
      ]
    },
    {
      "cell_type": "markdown",
      "metadata": {
        "id": "HVT10s3NMilc"
      },
      "source": [
        "## IMPORTANT FUNCTIONS AND METHODS"
      ]
    },
    {
      "cell_type": "markdown",
      "metadata": {
        "id": "ePbIFrYKMmrT"
      },
      "source": [
        "### `capitalize()`, `center()`"
      ]
    },
    {
      "cell_type": "code",
      "execution_count": null,
      "metadata": {
        "colab": {
          "base_uri": "https://localhost:8080/"
        },
        "id": "moSBjKTj72A2",
        "outputId": "81cd53a6-cc0d-448c-f9b2-5a1a137a8021"
      },
      "outputs": [
        {
          "name": "stdout",
          "output_type": "stream",
          "text": [
            "Hello\n",
            "    hello     \n",
            "*******hello********\n"
          ]
        }
      ],
      "source": [
        "# capitalize(), center()\n",
        "print('hello'.capitalize())\n",
        "print('hello'.center(14))\n",
        "print('hello'.center(20, '*'))"
      ]
    },
    {
      "cell_type": "markdown",
      "metadata": {
        "id": "vlEINpBNMrpc"
      },
      "source": [
        "###  `endswith()`, `startswith()`"
      ]
    },
    {
      "cell_type": "code",
      "execution_count": null,
      "metadata": {
        "colab": {
          "base_uri": "https://localhost:8080/"
        },
        "id": "evOk61ou8qw-",
        "outputId": "58693f22-c479-4ac1-dfa4-d2d4d1e5bebc"
      },
      "outputs": [
        {
          "name": "stdout",
          "output_type": "stream",
          "text": [
            "True\n",
            "False\n",
            "\n",
            "True\n",
            "True\n"
          ]
        }
      ],
      "source": [
        "# endswith(), startswith()\n",
        "print('hello'.endswith('o'))\n",
        "print('hello'.endswith('o', 1, 4))\n",
        "#      01234\n",
        "# search from 1 to 3, which means 'ell'\n",
        "print()\n",
        "\n",
        "print('hello'.startswith('h'))\n",
        "print('hello'.startswith('e', 1, 4))\n",
        "#      01234\n",
        "# search from 1 to 3, which means 'ell'"
      ]
    },
    {
      "cell_type": "markdown",
      "metadata": {
        "id": "lJUst4ojMwpN"
      },
      "source": [
        "###  `find()`"
      ]
    },
    {
      "cell_type": "code",
      "execution_count": null,
      "metadata": {
        "colab": {
          "base_uri": "https://localhost:8080/"
        },
        "id": "DAT9APUY9hUn",
        "outputId": "bc0a9c3d-859a-494d-b49f-e561246da975"
      },
      "outputs": [
        {
          "name": "stdout",
          "output_type": "stream",
          "text": [
            "2\n",
            "3\n"
          ]
        }
      ],
      "source": [
        "# find()\n",
        "print('hello'.find('l'))\n",
        "print('hello'.find('l', 3, 5))\n",
        "#      01234"
      ]
    },
    {
      "cell_type": "markdown",
      "metadata": {
        "id": "Q8SZXBQCMyzf"
      },
      "source": [
        "### `lstrip()`, `rstrip()`, `strip()`"
      ]
    },
    {
      "cell_type": "code",
      "execution_count": null,
      "metadata": {
        "colab": {
          "base_uri": "https://localhost:8080/"
        },
        "id": "UbEFD_OO90JP",
        "outputId": "c6034b5e-81a7-4394-ef63-268cf25c8ded"
      },
      "outputs": [
        {
          "name": "stdout",
          "output_type": "stream",
          "text": [
            "\"hello        \"\n",
            "\"__   hello __*****  \"\n",
            "\n",
            "\"    hello\"\n",
            "\"***__   hello __*****  \"\n",
            "\n",
            "\"hello\"\n",
            "\"__   hello __*****  \"\n",
            "\n"
          ]
        }
      ],
      "source": [
        "# lstrip(), rstrip(), strip()\n",
        "def pr(s):\n",
        "    print('\"%s\"' % s)\n",
        "\n",
        "pr('    hello        '.lstrip())\n",
        "pr('***__   hello __*****  '.lstrip('*'))\n",
        "print()\n",
        "\n",
        "pr('    hello        '.rstrip())\n",
        "pr('***__   hello __*****  '.rstrip('*'))\n",
        "print()\n",
        "\n",
        "pr('    hello        '.strip())\n",
        "pr('***__   hello __*****  '.strip('*'))\n",
        "print()"
      ]
    },
    {
      "cell_type": "markdown",
      "metadata": {
        "id": "4kH_xqeGM94M"
      },
      "source": [
        "###  `join()`"
      ]
    },
    {
      "cell_type": "code",
      "execution_count": null,
      "metadata": {
        "colab": {
          "base_uri": "https://localhost:8080/"
        },
        "id": "zcih8LYQ_Oj0",
        "outputId": "c66f4db2-f27a-47ff-aefd-3ad72e1fe88b"
      },
      "outputs": [
        {
          "name": "stdout",
          "output_type": "stream",
          "text": [
            "hello_from_the_other_side\n",
            "the-other-side-hello-from\n"
          ]
        }
      ],
      "source": [
        "# join()\n",
        "word_lst = ['hello', 'from', 'the', 'other', 'side']\n",
        "print('_'.join(word_lst))\n",
        "\n",
        "word_set = {'hello', 'from', 'the', 'other', 'side'}\n",
        "print('-'.join(word_set))"
      ]
    },
    {
      "cell_type": "markdown",
      "metadata": {
        "id": "E4abd0FENB1t"
      },
      "source": [
        "### `replace()`"
      ]
    },
    {
      "cell_type": "code",
      "execution_count": null,
      "metadata": {
        "colab": {
          "base_uri": "https://localhost:8080/"
        },
        "id": "g3rnKa7gAVed",
        "outputId": "c0c517ae-3a3b-48bf-a5cf-dbe6630c5fdd"
      },
      "outputs": [
        {
          "name": "stdout",
          "output_type": "stream",
          "text": [
            "he??o, ?ong time no see\n",
            "he??o, long time no see\n"
          ]
        }
      ],
      "source": [
        "# replace()\n",
        "print('hello, long time no see'.replace('l', '?'))\n",
        "print('hello, long time no see'.replace('l', '?', 2))\n",
        "# only the 2 first ones are replaced "
      ]
    },
    {
      "cell_type": "markdown",
      "metadata": {
        "id": "K8SAeB0wNEa8"
      },
      "source": [
        "###  `lower()`, `upper()`"
      ]
    },
    {
      "cell_type": "code",
      "execution_count": null,
      "metadata": {
        "colab": {
          "base_uri": "https://localhost:8080/"
        },
        "id": "tcwBsCoIA2gE",
        "outputId": "7effa5d3-317c-4de9-dd63-6c0296917c51"
      },
      "outputs": [
        {
          "name": "stdout",
          "output_type": "stream",
          "text": [
            "hello\n",
            "HELLO\n"
          ]
        }
      ],
      "source": [
        "# lower(), upper()\n",
        "print('hELlO'.lower())\n",
        "print('hELlO'.upper())"
      ]
    },
    {
      "cell_type": "markdown",
      "metadata": {
        "id": "qsEuxEZLCNHj"
      },
      "source": [
        "# CHAPTER 5: LISTS, SETS, DICTIONARIES AND TUPLES"
      ]
    },
    {
      "cell_type": "markdown",
      "metadata": {
        "id": "gGjGsB40PhVr"
      },
      "source": [
        "## LISTS"
      ]
    },
    {
      "cell_type": "markdown",
      "metadata": {
        "id": "1o6LTYKJQSjA"
      },
      "source": [
        "### LIST EXAMPLE"
      ]
    },
    {
      "cell_type": "code",
      "execution_count": null,
      "metadata": {
        "colab": {
          "base_uri": "https://localhost:8080/"
        },
        "id": "v0Yx1WyXClUj",
        "outputId": "7912cf6f-b192-4769-edca-1ad3d0b526a9"
      },
      "outputs": [
        {
          "name": "stdout",
          "output_type": "stream",
          "text": [
            "['a', 8, 'bc', 'd', [15, 6]]\n"
          ]
        }
      ],
      "source": [
        "# LIST EXAMPLE\n",
        "lst = ['a', 8, 'bc', 'd', [15, 6]]\n",
        "print(lst)"
      ]
    },
    {
      "cell_type": "markdown",
      "metadata": {
        "id": "FT38HktlNSKM"
      },
      "source": [
        "###  LOOP A LIST"
      ]
    },
    {
      "cell_type": "code",
      "execution_count": null,
      "metadata": {
        "colab": {
          "base_uri": "https://localhost:8080/"
        },
        "id": "AiQZQOVaC4Jb",
        "outputId": "ce5e9e2b-6bba-41da-c3a3-bc40931e10ee"
      },
      "outputs": [
        {
          "name": "stdout",
          "output_type": "stream",
          "text": [
            "a\n",
            "8\n",
            "bc\n",
            "d\n",
            "[15, 6]\n"
          ]
        }
      ],
      "source": [
        "# LIST LOOPS\n",
        "for ele in lst:\n",
        "    print(ele)"
      ]
    },
    {
      "cell_type": "markdown",
      "metadata": {
        "id": "I56drTesNYKL"
      },
      "source": [
        "### LISTS ARE MUTABLE"
      ]
    },
    {
      "cell_type": "code",
      "execution_count": null,
      "metadata": {
        "colab": {
          "base_uri": "https://localhost:8080/"
        },
        "id": "jZHcyaHXDHpD",
        "outputId": "4a1d166c-8d9f-4ed2-d295-c0f17594bc6b"
      },
      "outputs": [
        {
          "name": "stdout",
          "output_type": "stream",
          "text": [
            "['^_^', 8, 'bc', 'd', [15, 6]]\n"
          ]
        }
      ],
      "source": [
        "# LISTS ARE MUTABLE\n",
        "lst[0] = '^_^'\n",
        "print(lst)"
      ]
    },
    {
      "cell_type": "markdown",
      "metadata": {
        "id": "A7qn3sA9NZts"
      },
      "source": [
        "### `len()` OF A LIST"
      ]
    },
    {
      "cell_type": "code",
      "execution_count": null,
      "metadata": {
        "colab": {
          "base_uri": "https://localhost:8080/"
        },
        "id": "nYRT595sDsEj",
        "outputId": "81b69549-0f62-4ed5-dc97-a54e2096dce2"
      },
      "outputs": [
        {
          "name": "stdout",
          "output_type": "stream",
          "text": [
            "5\n",
            "5\n"
          ]
        }
      ],
      "source": [
        "# len OF A LIST\n",
        "print(len(lst))\n",
        "print(lst.__len__())"
      ]
    },
    {
      "cell_type": "markdown",
      "metadata": {
        "id": "HOChjEPuNbyl"
      },
      "source": [
        "### THE `range()` FUNCTION"
      ]
    },
    {
      "cell_type": "code",
      "execution_count": null,
      "metadata": {
        "colab": {
          "base_uri": "https://localhost:8080/"
        },
        "id": "xcqhLyjiD-qb",
        "outputId": "9de7e375-960f-40ef-abf9-9b84e86d2340"
      },
      "outputs": [
        {
          "name": "stdout",
          "output_type": "stream",
          "text": [
            "0 1 2 3 4 5 6 7\n",
            "3 4 5 6 7\n",
            "3 6\n",
            "8 6 4\n"
          ]
        }
      ],
      "source": [
        "# THE range() FUNCTION\n",
        "print(*range(8))\n",
        "print(*range(3, 8))\n",
        "print(*range(3, 8, 3))\n",
        "print(*range(8, 3, -2))"
      ]
    },
    {
      "cell_type": "markdown",
      "metadata": {
        "id": "NgrngArVNkk2"
      },
      "source": [
        "### CONCATENATING LISTS USING `+`"
      ]
    },
    {
      "cell_type": "code",
      "execution_count": null,
      "metadata": {
        "colab": {
          "base_uri": "https://localhost:8080/"
        },
        "id": "fOEcXDmvEeaD",
        "outputId": "cfa2d2ee-a6c2-4712-b685-c878a8c8dc70"
      },
      "outputs": [
        {
          "name": "stdout",
          "output_type": "stream",
          "text": [
            "['^_^', 8, 'bc', 'd', [15, 6]]\n",
            "['^_^', 8, 'bc', 'd', [15, 6], 7, 3, 'h']\n"
          ]
        }
      ],
      "source": [
        "# CONCATENATING LISTS USING +\n",
        "print(lst)\n",
        "print(lst + [7, 3, 'h'])"
      ]
    },
    {
      "cell_type": "markdown",
      "metadata": {
        "id": "4dvZJmbdNl28"
      },
      "source": [
        "### LIST SLICING"
      ]
    },
    {
      "cell_type": "code",
      "execution_count": null,
      "metadata": {
        "colab": {
          "base_uri": "https://localhost:8080/"
        },
        "id": "L_moJPfdE2IL",
        "outputId": "63b21602-215d-434e-b7a0-a941e3fa19ef"
      },
      "outputs": [
        {
          "name": "stdout",
          "output_type": "stream",
          "text": [
            "['^_^', 8, 'bc', 'd', [15, 6]]\n",
            "['^_^', 8, 'bc']\n",
            "d\n"
          ]
        }
      ],
      "source": [
        "# LIST SLICING\n",
        "print(lst)\n",
        "print(lst[:3])\n",
        "print(lst[-2])"
      ]
    },
    {
      "cell_type": "markdown",
      "metadata": {
        "id": "0ypPykMoNnpc"
      },
      "source": [
        "### LIST METHODS AND FUNCTIONS"
      ]
    },
    {
      "cell_type": "code",
      "execution_count": null,
      "metadata": {
        "colab": {
          "base_uri": "https://localhost:8080/"
        },
        "id": "OouG2k7RFFYD",
        "outputId": "34852774-0a43-435c-e160-773616c72c71"
      },
      "outputs": [
        {
          "name": "stdout",
          "output_type": "stream",
          "text": [
            "__subclasshook__\n",
            "append\n",
            "clear\n",
            "copy\n",
            "count\n",
            "extend\n",
            "index\n",
            "insert\n",
            "pop\n",
            "remove\n",
            "reverse\n",
            "sort\n"
          ]
        }
      ],
      "source": [
        "# LIST METHODS AND FUNCTIONS\n",
        "for met in dir(lst)[34:]:\n",
        "    print(met)"
      ]
    },
    {
      "cell_type": "markdown",
      "metadata": {
        "id": "uTzKA4A6NrkW"
      },
      "source": [
        "#### `append()`"
      ]
    },
    {
      "cell_type": "code",
      "execution_count": null,
      "metadata": {
        "colab": {
          "base_uri": "https://localhost:8080/",
          "height": 231
        },
        "id": "1D1x5TVWGHTi",
        "outputId": "e02dd086-084e-47ee-f628-5fda0a544dcf"
      },
      "outputs": [
        {
          "ename": "NameError",
          "evalue": "ignored",
          "output_type": "error",
          "traceback": [
            "\u001b[0;31m---------------------------------------------------------------------------\u001b[0m",
            "\u001b[0;31mNameError\u001b[0m                                 Traceback (most recent call last)",
            "\u001b[0;32m<ipython-input-7-cf4174b6d42e>\u001b[0m in \u001b[0;36m<module>\u001b[0;34m()\u001b[0m\n\u001b[1;32m      1\u001b[0m \u001b[0;31m# append()\u001b[0m\u001b[0;34m\u001b[0m\u001b[0;34m\u001b[0m\u001b[0;34m\u001b[0m\u001b[0m\n\u001b[1;32m      2\u001b[0m \u001b[0;32mfrom\u001b[0m \u001b[0mcopy\u001b[0m \u001b[0;32mimport\u001b[0m \u001b[0mdeepcopy\u001b[0m\u001b[0;34m\u001b[0m\u001b[0;34m\u001b[0m\u001b[0m\n\u001b[0;32m----> 3\u001b[0;31m \u001b[0mnew_lst\u001b[0m \u001b[0;34m=\u001b[0m \u001b[0mdeepcopy\u001b[0m\u001b[0;34m(\u001b[0m\u001b[0mlst\u001b[0m\u001b[0;34m)\u001b[0m\u001b[0;34m\u001b[0m\u001b[0;34m\u001b[0m\u001b[0m\n\u001b[0m\u001b[1;32m      4\u001b[0m \u001b[0mnew_lst\u001b[0m\u001b[0;34m.\u001b[0m\u001b[0mappend\u001b[0m\u001b[0;34m(\u001b[0m\u001b[0;34m'appended string'\u001b[0m\u001b[0;34m)\u001b[0m\u001b[0;34m\u001b[0m\u001b[0;34m\u001b[0m\u001b[0m\n\u001b[1;32m      5\u001b[0m \u001b[0mprint\u001b[0m\u001b[0;34m(\u001b[0m\u001b[0mnew_lst\u001b[0m\u001b[0;34m)\u001b[0m\u001b[0;34m\u001b[0m\u001b[0;34m\u001b[0m\u001b[0m\n",
            "\u001b[0;31mNameError\u001b[0m: name 'lst' is not defined"
          ]
        }
      ],
      "source": [
        "# append()\n",
        "from copy import deepcopy\n",
        "new_lst = deepcopy(lst)\n",
        "new_lst.append('appended string')\n",
        "print(new_lst)"
      ]
    },
    {
      "cell_type": "markdown",
      "metadata": {
        "id": "QnCkmGGeNuib"
      },
      "source": [
        "#### `in` OPERATOR"
      ]
    },
    {
      "cell_type": "code",
      "execution_count": null,
      "metadata": {
        "colab": {
          "base_uri": "https://localhost:8080/"
        },
        "id": "ML29qhZcGzPS",
        "outputId": "72e08a69-7cf1-4a5f-b638-560776f4107e"
      },
      "outputs": [
        {
          "name": "stdout",
          "output_type": "stream",
          "text": [
            "True\n",
            "False\n",
            "True\n",
            "False\n"
          ]
        }
      ],
      "source": [
        "# in OPERATOR\n",
        "print(8 in lst)\n",
        "print(9 in lst)\n",
        "print('^_^' in lst)\n",
        "print('^_^' not in lst)"
      ]
    },
    {
      "cell_type": "markdown",
      "metadata": {
        "id": "gCz2b4AuNw58"
      },
      "source": [
        "#### `max()`, `min()`, `sum()`"
      ]
    },
    {
      "cell_type": "code",
      "execution_count": null,
      "metadata": {
        "colab": {
          "base_uri": "https://localhost:8080/"
        },
        "id": "4bt41FYgHIMJ",
        "outputId": "a759071c-ce68-461f-dfe7-f5bad9ef6900"
      },
      "outputs": [
        {
          "name": "stdout",
          "output_type": "stream",
          "text": [
            "69\n",
            "6\n",
            "84\n"
          ]
        }
      ],
      "source": [
        "# max(), min(), sum()\n",
        "new_lst = [6, 69, 9]\n",
        "print(max(new_lst))\n",
        "print(min(new_lst))\n",
        "print(sum(new_lst))"
      ]
    },
    {
      "cell_type": "markdown",
      "metadata": {
        "id": "Zh9yp0DBN1Oi"
      },
      "source": [
        "#### `sort()`, `sorted()`"
      ]
    },
    {
      "cell_type": "code",
      "execution_count": null,
      "metadata": {
        "colab": {
          "base_uri": "https://localhost:8080/"
        },
        "id": "TDK_f1WIHjQJ",
        "outputId": "f78584e0-7bbf-4719-9f5e-58927f5e8e98"
      },
      "outputs": [
        {
          "name": "stdout",
          "output_type": "stream",
          "text": [
            "[6, 9, 69]\n",
            "[6, 69, 9]\n"
          ]
        }
      ],
      "source": [
        "# sort(), sorted()\n",
        "new_lst = [6, 69, 9]\n",
        "new_lst = sorted(new_lst)\n",
        "print(new_lst)\n",
        "new_lst.sort(reverse = True, key = lambda x: x % 8)\n",
        "'''\n",
        "6 % 8 = 6\n",
        "69 % 8 = 5\n",
        "9 % 8 = 1\n",
        "'''\n",
        "print(new_lst)"
      ]
    },
    {
      "cell_type": "markdown",
      "metadata": {
        "id": "EWM4qSr1N6rD"
      },
      "source": [
        "####  `del`, `pop()`, `remove()`"
      ]
    },
    {
      "cell_type": "code",
      "execution_count": null,
      "metadata": {
        "colab": {
          "base_uri": "https://localhost:8080/"
        },
        "id": "ge_g_iLBIPLI",
        "outputId": "2fbabcf6-dc13-4967-f2cb-350f57efcfa9"
      },
      "outputs": [
        {
          "name": "stdout",
          "output_type": "stream",
          "text": [
            "['^_^', 8, 'bc', 'd', [15, 6]]\n",
            "['^_^', 8, 'bc', 'd']\n",
            "['^_^', 8, 'bc']\n",
            "['^_^', 8]\n"
          ]
        }
      ],
      "source": [
        "# del, pop(), remove()\n",
        "new_lst = lst[:]\n",
        "print(new_lst)\n",
        "\n",
        "del new_lst[4]\n",
        "print(new_lst)\n",
        "\n",
        "new_lst.pop()\n",
        "print(new_lst)\n",
        "\n",
        "new_lst.remove('bc')\n",
        "print(new_lst)"
      ]
    },
    {
      "cell_type": "markdown",
      "metadata": {
        "id": "Yaxt8fDxOAZD"
      },
      "source": [
        "#### `reverse()`"
      ]
    },
    {
      "cell_type": "code",
      "execution_count": null,
      "metadata": {
        "colab": {
          "base_uri": "https://localhost:8080/"
        },
        "id": "23Z7G-N2I4VA",
        "outputId": "73bc6205-b22b-465d-eb69-bbf9c9059cb0"
      },
      "outputs": [
        {
          "name": "stdout",
          "output_type": "stream",
          "text": [
            "['^_^', 8, 'bc', 'd', [15, 6]]\n",
            "[[15, 6], 'd', 'bc', 8, '^_^']\n"
          ]
        }
      ],
      "source": [
        "# reverse()\n",
        "new_lst = lst[:]\n",
        "print(new_lst)\n",
        "\n",
        "new_lst.reverse()\n",
        "print(new_lst)"
      ]
    },
    {
      "cell_type": "markdown",
      "metadata": {
        "id": "OM4f6n4hODSr"
      },
      "source": [
        "###  LISTS AND STRINGS"
      ]
    },
    {
      "cell_type": "code",
      "execution_count": null,
      "metadata": {
        "colab": {
          "base_uri": "https://localhost:8080/"
        },
        "id": "cwy8BSATOcGu",
        "outputId": "4facffd2-f60f-43ce-e460-d863b8a5845f"
      },
      "outputs": [
        {
          "name": "stdout",
          "output_type": "stream",
          "text": [
            "['t', 'h', 'i', 's', ' ', 'o', 'n', 'e', '!', ' ', 'i', 's', ' ', 'a', ' ', 's', 't', 'r', 'i', 'n', 'g']\n",
            "['this', 'one!', 'is', 'a', 'string']\n",
            "['this one', ' is a string']\n",
            "hi-there-?\n"
          ]
        }
      ],
      "source": [
        "# LISTS AND STRINGS\n",
        "s = 'this one! is a string'\n",
        "print(list(s))\n",
        "print(s.split())\n",
        "print(s.split('!'))\n",
        "\n",
        "new_lst = ['hi', 'there', '?']\n",
        "print('-'.join(new_lst))"
      ]
    },
    {
      "cell_type": "markdown",
      "metadata": {
        "id": "wsjBbqllOHKj"
      },
      "source": [
        "###  ALIASES"
      ]
    },
    {
      "cell_type": "code",
      "execution_count": null,
      "metadata": {
        "colab": {
          "base_uri": "https://localhost:8080/"
        },
        "id": "kR_K48-VOpWe",
        "outputId": "973c02c8-7a20-4243-91e7-fbe6107c5f57"
      },
      "outputs": [
        {
          "name": "stdout",
          "output_type": "stream",
          "text": [
            "[1, 3, 4, '?']\n"
          ]
        }
      ],
      "source": [
        "# ALIASES\n",
        "lst_a = [1, 3, 4]\n",
        "lst_b = lst_a\n",
        "\n",
        "lst_b.append('?')\n",
        "print(lst_a)"
      ]
    },
    {
      "cell_type": "markdown",
      "metadata": {
        "id": "9WpVgFR-OI57"
      },
      "source": [
        "###  MUTATION AND ITERATION"
      ]
    },
    {
      "cell_type": "code",
      "execution_count": null,
      "metadata": {
        "colab": {
          "base_uri": "https://localhost:8080/"
        },
        "id": "46dhTpNWQP7-",
        "outputId": "a18e5ffc-5b2d-4a5e-ab19-11d5c5f91b75"
      },
      "outputs": [
        {
          "name": "stdout",
          "output_type": "stream",
          "text": [
            "[1, 4]\n"
          ]
        }
      ],
      "source": [
        "# MUTATION AND ITERATION\n",
        "lst_a = [1, 3, 4]\n",
        "lst_b = [4, 3, 9]\n",
        "# trying to remove values in lst_a which are already in lst_b \n",
        "for num in lst_a:\n",
        "    if num in lst_b:\n",
        "        lst_a.remove(num)\n",
        "print(lst_a)\n",
        "# avoid mutating the list while iterating over it"
      ]
    },
    {
      "cell_type": "markdown",
      "metadata": {
        "id": "LYLpEEl1OLFj"
      },
      "source": [
        "###  LIST ARGUMENTS"
      ]
    },
    {
      "cell_type": "code",
      "execution_count": null,
      "metadata": {
        "colab": {
          "base_uri": "https://localhost:8080/"
        },
        "id": "oYIXTvd6Rqe9",
        "outputId": "5520cac2-9d28-44ff-e7f1-25aa11acfd32"
      },
      "outputs": [
        {
          "name": "stdout",
          "output_type": "stream",
          "text": [
            "[1, 3, 6]\n",
            "List in wrong one: [1, 3, 6]\n",
            "[1, 3, 6, 9]\n"
          ]
        }
      ],
      "source": [
        "# LIST ARGUMENTS\n",
        "def delete_last(a_lst):\n",
        "    del a_lst[-1]\n",
        "    # this function mutates the global list\n",
        "\n",
        "def wrong_delete_last(a_lst):\n",
        "    a_lst = a_lst[:-1]\n",
        "    print('List in wrong one:', a_lst)\n",
        "    # this one doesn't, a_lst now becomes a local variable\n",
        "\n",
        "new_lst = [1, 3, 6, 9]\n",
        "delete_last(new_lst)\n",
        "print(new_lst)\n",
        "\n",
        "new_lst = [1, 3, 6, 9]\n",
        "wrong_delete_last(new_lst)\n",
        "print(new_lst)"
      ]
    },
    {
      "cell_type": "markdown",
      "metadata": {
        "id": "FSkufUenS9Hm"
      },
      "source": [
        "###  MapReduce AND LIST COMPREHENSION"
      ]
    },
    {
      "cell_type": "markdown",
      "metadata": {
        "id": "b3S9oygtOOoz"
      },
      "source": [
        "####  `map()`"
      ]
    },
    {
      "cell_type": "code",
      "execution_count": null,
      "metadata": {
        "colab": {
          "base_uri": "https://localhost:8080/"
        },
        "id": "Qi1yCsNrTLpl",
        "outputId": "1f1733b1-322b-437e-d39b-ca6191386875"
      },
      "outputs": [
        {
          "name": "stdout",
          "output_type": "stream",
          "text": [
            "[4, 6, 9, 11, 12, 13]\n"
          ]
        }
      ],
      "source": [
        "# map()\n",
        "new_lst = [1, 3, 6, 8, 9, 10]\n",
        "print(list(map(lambda x: x + 3, new_lst)))"
      ]
    },
    {
      "cell_type": "markdown",
      "metadata": {
        "id": "VLWowtOOORbb"
      },
      "source": [
        "####  `reduce()`"
      ]
    },
    {
      "cell_type": "code",
      "execution_count": null,
      "metadata": {
        "colab": {
          "base_uri": "https://localhost:8080/"
        },
        "id": "wJpahO3zT6jM",
        "outputId": "b6703f16-3975-4e7e-d17b-60f4a54b831f"
      },
      "outputs": [
        {
          "name": "stdout",
          "output_type": "stream",
          "text": [
            "11\n",
            "3011\n"
          ]
        }
      ],
      "source": [
        "# reduce()\n",
        "from functools import reduce\n",
        "new_lst = [1, 3, 6, 1]\n",
        "print(reduce(lambda x, y: x + y, new_lst))\n",
        "print(reduce(lambda x, y: x + y, new_lst, 3000))\n",
        "#                                         initializer"
      ]
    },
    {
      "cell_type": "markdown",
      "metadata": {
        "id": "sfNplQ-POVmn"
      },
      "source": [
        "####  MapReduce APPLICATION: COUNT NUMBER OF A WORD"
      ]
    },
    {
      "cell_type": "code",
      "execution_count": null,
      "metadata": {
        "colab": {
          "base_uri": "https://localhost:8080/"
        },
        "id": "E7pLf0-SUoh8",
        "outputId": "5a767315-86c5-4dd6-94bd-b25ef66354b2"
      },
      "outputs": [
        {
          "name": "stdout",
          "output_type": "stream",
          "text": [
            "[1, 0, 0, 0, 0, 0, 0, 0, 1, 0, 0, 0, 0, 0, 1, 0, 0, 0, 0, 0, 0, 0, 0, 0, 0, 0, 0, 0, 0, 0, 0, 1, 0, 0, 1, 0, 0, 0, 0, 0, 0, 0, 0, 0, 0, 0, 0, 0, 0, 0, 0, 0, 0, 0, 0, 0, 1, 0, 0, 1, 0, 0, 0, 0, 1, 0, 0, 0, 1, 0, 0, 0, 0, 0, 0, 0, 1, 0, 0, 0, 0, 0, 0, 0, 0, 0, 0, 0, 0, 0, 0, 0, 0, 0, 0, 0, 0, 0, 1, 0, 0, 0, 0, 0, 0, 0, 0, 0, 0, 0, 0, 0, 0, 0, 0, 0, 0, 0, 0, 0, 0, 0, 0, 0, 0, 0, 0, 0, 0, 0, 0, 0, 0, 0, 0, 0, 0, 0, 0, 0, 0, 0, 1, 0, 0, 0, 0, 0, 0, 0, 0, 0, 0, 0, 0, 0, 0, 0, 1, 0, 0, 0, 0, 1, 0, 0, 0, 0, 0, 0, 0, 0, 0, 0, 0, 0, 0, 0, 0, 0, 0, 0, 0, 0, 0, 0, 1, 0, 0]\n",
            "15\n"
          ]
        }
      ],
      "source": [
        "# MapReduce APPLICATION: COUNT NUMBER OF A WORD\n",
        "# count the number of the word \"the\"/\"The\" in a sentence\n",
        "text = 'The word \"deep\" in \"deep learning\" refers to the number of layers through which the data is transformed. More precisely, deep learning systems have a substantial credit assignment path (CAP) depth. The CAP is the chain of transformations from input to output. CAPs describe potentially causal connections between input and output. For a feedforward neural network, the depth of the CAPs is that of the network and is the number of hidden layers plus one (as the output layer is also parameterized). For recurrent neural networks, in which a signal may propagate through a layer more than once, the CAP depth is potentially unlimited.[2] No universally agreed-upon threshold of depth divides shallow learning from deep learning, but most researchers agree that deep learning involves CAP depth higher than 2. CAP of depth 2 has been shown to be a universal approximator in the sense that it can emulate any function.[15] Beyond that, more layers do not add to the function approximator ability of the network. Deep models (CAP > 2) are able to extract better features than shallow models and hence, extra layers help in learning the features effectively.'\n",
        "ifThe = lambda word: 1 if word in ['the', 'The'] else 0\n",
        "sumof2 = lambda x, y: x + y\n",
        "print(list(map(ifThe, text.split())))\n",
        "print(reduce(sumof2, list(map(ifThe, text.split()))))"
      ]
    },
    {
      "cell_type": "markdown",
      "metadata": {
        "id": "00fWxiSKfYsa"
      },
      "source": [
        "#### LIST COMPREHENSION"
      ]
    },
    {
      "cell_type": "code",
      "execution_count": null,
      "metadata": {
        "colab": {
          "base_uri": "https://localhost:8080/"
        },
        "id": "8kXXAbPxW5iH",
        "outputId": "5ae3de96-28f4-4af5-a2f5-4a422e8a1987"
      },
      "outputs": [
        {
          "name": "stdout",
          "output_type": "stream",
          "text": [
            "['h', 'e', 'l', 'l', 'o', ' ', 't', 'h', 'e', 'r', 'e'] \n",
            "\n",
            "['The', 'the', 'the', 'The', 'the', 'the', 'the', 'the', 'the', 'the', 'the', 'the', 'the', 'the', 'the']\n",
            "15\n",
            "[1, 0, 0, 0, 0, 0, 0, 0, 1, 0, 0, 0, 0, 0, 1, 0, 0, 0, 0, 0, 0, 0, 0, 0, 0, 0, 0, 0, 0, 0, 0, 1, 0, 0, 1, 0, 0, 0, 0, 0, 0, 0, 0, 0, 0, 0, 0, 0, 0, 0, 0, 0, 0, 0, 0, 0, 1, 0, 0, 1, 0, 0, 0, 0, 1, 0, 0, 0, 1, 0, 0, 0, 0, 0, 0, 0, 1, 0, 0, 0, 0, 0, 0, 0, 0, 0, 0, 0, 0, 0, 0, 0, 0, 0, 0, 0, 0, 0, 1, 0, 0, 0, 0, 0, 0, 0, 0, 0, 0, 0, 0, 0, 0, 0, 0, 0, 0, 0, 0, 0, 0, 0, 0, 0, 0, 0, 0, 0, 0, 0, 0, 0, 0, 0, 0, 0, 0, 0, 0, 0, 0, 0, 1, 0, 0, 0, 0, 0, 0, 0, 0, 0, 0, 0, 0, 0, 0, 0, 1, 0, 0, 0, 0, 1, 0, 0, 0, 0, 0, 0, 0, 0, 0, 0, 0, 0, 0, 0, 0, 0, 0, 0, 0, 0, 0, 0, 1, 0, 0]\n"
          ]
        }
      ],
      "source": [
        "# LIST COMPREHENSION\n",
        "print([c for c in 'hello there'], '\\n')\n",
        "\n",
        "cnt_lst = [ word for word in text.split() if word in ['the', 'The'] ]\n",
        "print(cnt_lst)\n",
        "print(len(cnt_lst))\n",
        "\n",
        "cnt_lst_2 = [ 1 if word in ['the', 'The'] else 0 for word in text.split() ]\n",
        "print(cnt_lst_2)"
      ]
    },
    {
      "cell_type": "markdown",
      "metadata": {
        "id": "M0qqA1FXbDom"
      },
      "source": [
        "##  SETS"
      ]
    },
    {
      "cell_type": "markdown",
      "metadata": {
        "id": "_Cjyv5eKOekj"
      },
      "source": [
        "###  SET EXAMPLES"
      ]
    },
    {
      "cell_type": "code",
      "execution_count": null,
      "metadata": {
        "colab": {
          "base_uri": "https://localhost:8080/"
        },
        "id": "OXx5ZzCAbLWx",
        "outputId": "669ebc20-8484-451e-ff95-8d6c440426a9"
      },
      "outputs": [
        {
          "name": "stdout",
          "output_type": "stream",
          "text": [
            "{8, 3, 4}\n",
            "{'l', 'o', 'h', 'e'}\n"
          ]
        }
      ],
      "source": [
        "# SET EXAMPLES\n",
        "print({3, 4, 8})\n",
        "print(set('hello'))"
      ]
    },
    {
      "cell_type": "markdown",
      "metadata": {
        "id": "ES_WNaXEOgNT"
      },
      "source": [
        "###  SET OPERATIONS"
      ]
    },
    {
      "cell_type": "code",
      "execution_count": null,
      "metadata": {
        "colab": {
          "base_uri": "https://localhost:8080/"
        },
        "id": "jNmqPjt4bdW5",
        "outputId": "1c0727c2-f2c8-4ed4-86a6-88229d1e17eb"
      },
      "outputs": [
        {
          "name": "stdout",
          "output_type": "stream",
          "text": [
            "{0, 1}\n",
            "{0, 1, 2, 3, 4, 5}\n",
            "{2, 3}\n",
            "{0, 1, 4, 5}\n"
          ]
        }
      ],
      "source": [
        "# SET OPERATIONS\n",
        "A = {0, 1, 2, 3}\n",
        "B = {2, 3, 4, 5}\n",
        "\n",
        "print(A - B) # in A, not in B\n",
        "print(A | B) # in any of A or B (bitwise or)\n",
        "print(A & B) # in both A and B (bitwise and)\n",
        "print(A ^ B) # in A or B, not both (bitwise xor)"
      ]
    },
    {
      "cell_type": "markdown",
      "metadata": {
        "id": "sfkOnQ5bOhfr"
      },
      "source": [
        "###  SET COMPREHENSION"
      ]
    },
    {
      "cell_type": "code",
      "execution_count": null,
      "metadata": {
        "colab": {
          "base_uri": "https://localhost:8080/"
        },
        "id": "-6WYC5jicoob",
        "outputId": "5bafe274-f3f7-4cd8-c3fb-8c28afe2b246"
      },
      "outputs": [
        {
          "name": "stdout",
          "output_type": "stream",
          "text": [
            "{'effectively.', 'output.', 'transformed.', 'network.', 'depth.', '2.', 'parameterized).'}\n"
          ]
        }
      ],
      "source": [
        "# SET COMPREHENSION\n",
        "# set of all end-of-sentence words\n",
        "print( {word for word in text.split() if word.endswith('.')} )"
      ]
    },
    {
      "cell_type": "markdown",
      "metadata": {
        "id": "if_6BKRJdwkS"
      },
      "source": [
        "##  DICTIONARIES\n"
      ]
    },
    {
      "cell_type": "markdown",
      "metadata": {
        "id": "KGmW8aAxOjE1"
      },
      "source": [
        "###  DICTIONARY EXAMPLES"
      ]
    },
    {
      "cell_type": "code",
      "execution_count": null,
      "metadata": {
        "colab": {
          "base_uri": "https://localhost:8080/"
        },
        "id": "WboP3NCjdzIn",
        "outputId": "5a53122c-3deb-4eca-e3e6-93f2157efabf"
      },
      "outputs": [
        {
          "name": "stdout",
          "output_type": "stream",
          "text": [
            "{8: 'b', '?': 'a'}\n",
            "b\n",
            "a\n",
            "{8: 'b', '?': 'a', '!?': 'mnpq'}\n"
          ]
        }
      ],
      "source": [
        "# DICTIONARY EXAMPLES\n",
        "d = {8: 'b', '?': 'a'}\n",
        "print(d)\n",
        "print(d[8])\n",
        "print(d['?'])\n",
        "d['!?'] = 'mnpq'\n",
        "print(d)"
      ]
    },
    {
      "cell_type": "markdown",
      "metadata": {
        "id": "gPTQ2UWVOk97"
      },
      "source": [
        "###  in OPERATOR"
      ]
    },
    {
      "cell_type": "code",
      "execution_count": null,
      "metadata": {
        "colab": {
          "base_uri": "https://localhost:8080/"
        },
        "id": "vQyRrL4aeK_v",
        "outputId": "8acb5a15-95d9-4300-ebc6-17daddec92dd"
      },
      "outputs": [
        {
          "name": "stdout",
          "output_type": "stream",
          "text": [
            "{8: 'b', '?': 'a'}\n",
            "True\n",
            "False\n"
          ]
        }
      ],
      "source": [
        "# in OPERATOR\n",
        "d = {8: 'b', '?': 'a'}\n",
        "print(d)\n",
        "print('?' in d)\n",
        "print('b' in d)"
      ]
    },
    {
      "cell_type": "markdown",
      "metadata": {
        "id": "GMSREpmiOnTz"
      },
      "source": [
        "### `get()` METHOD"
      ]
    },
    {
      "cell_type": "code",
      "execution_count": null,
      "metadata": {
        "colab": {
          "base_uri": "https://localhost:8080/"
        },
        "id": "gIElw8BFfWSQ",
        "outputId": "f647158f-5131-451c-a912-db83ccba705e"
      },
      "outputs": [
        {
          "name": "stdout",
          "output_type": "stream",
          "text": [
            "{8: 'b', '?': 'a'}\n",
            "b\n",
            "None\n",
            "5\n",
            "{8: 'b', '?': 'a'}\n"
          ]
        }
      ],
      "source": [
        "# get() METHOD\n",
        "d = {8: 'b', '?': 'a'}\n",
        "print(d)\n",
        "print(d.get(8))\n",
        "print(d.get('a'))\n",
        "print(d.get('m', 5)) # not equivalent to d['m'] = 5\n",
        "print(d)"
      ]
    },
    {
      "cell_type": "markdown",
      "metadata": {
        "id": "ewEdxWmKOqTa"
      },
      "source": [
        "###  APPLICATION: COUNTING WORDS"
      ]
    },
    {
      "cell_type": "code",
      "execution_count": null,
      "metadata": {
        "colab": {
          "base_uri": "https://localhost:8080/"
        },
        "id": "5KBd2kubfpuv",
        "outputId": "1649920c-19de-44f6-8bb7-450a4595ae02"
      },
      "outputs": [
        {
          "name": "stdout",
          "output_type": "stream",
          "text": [
            "{'The': 2, 'word': 1, '\"deep\"': 1, 'in': 4, '\"deep': 1, 'learning\"': 1, 'refers': 1, 'to': 5, 'the': 13, 'number': 2, 'of': 8, 'layers': 4, 'through': 2, 'which': 2, 'data': 1, 'is': 6, 'transformed.': 1, 'More': 1, 'precisely,': 1, 'deep': 3, 'learning': 4, 'systems': 1, 'have': 1, 'a': 5, 'substantial': 1, 'credit': 1, 'assignment': 1, 'path': 1, '(CAP)': 1, 'depth.': 1, 'CAP': 4, 'chain': 1, 'transformations': 1, 'from': 2, 'input': 2, 'output.': 2, 'CAPs': 2, 'describe': 1, 'potentially': 2, 'causal': 1, 'connections': 1, 'between': 1, 'and': 3, 'For': 2, 'feedforward': 1, 'neural': 2, 'network,': 1, 'depth': 5, 'that': 3, 'network': 1, 'hidden': 1, 'plus': 1, 'one': 1, '(as': 1, 'output': 1, 'layer': 2, 'also': 1, 'parameterized).': 1, 'recurrent': 1, 'networks,': 1, 'signal': 1, 'may': 1, 'propagate': 1, 'more': 2, 'than': 3, 'once,': 1, 'unlimited.[2]': 1, 'No': 1, 'universally': 1, 'agreed-upon': 1, 'threshold': 1, 'divides': 1, 'shallow': 2, 'learning,': 1, 'but': 1, 'most': 1, 'researchers': 1, 'agree': 1, 'involves': 1, 'higher': 1, '2.': 1, '2': 1, 'has': 1, 'been': 1, 'shown': 1, 'be': 1, 'universal': 1, 'approximator': 2, 'sense': 1, 'it': 1, 'can': 1, 'emulate': 1, 'any': 1, 'function.[15]': 1, 'Beyond': 1, 'that,': 1, 'do': 1, 'not': 1, 'add': 1, 'function': 1, 'ability': 1, 'network.': 1, 'Deep': 1, 'models': 2, '(CAP': 1, '>': 1, '2)': 1, 'are': 1, 'able': 1, 'extract': 1, 'better': 1, 'features': 2, 'hence,': 1, 'extra': 1, 'help': 1, 'effectively.': 1}\n"
          ]
        }
      ],
      "source": [
        "# APPLICATION: COUNTING WORDS\n",
        "counted = dict()\n",
        "for word in text.split():\n",
        "    counted[word] = counted.get(word, 0) + 1\n",
        "print(counted)"
      ]
    },
    {
      "cell_type": "markdown",
      "metadata": {
        "id": "n6zrl00-Os5J"
      },
      "source": [
        "###  LOOP OVER A DICTIONARY"
      ]
    },
    {
      "cell_type": "code",
      "execution_count": null,
      "metadata": {
        "colab": {
          "base_uri": "https://localhost:8080/"
        },
        "id": "9crCG0g1hKq-",
        "outputId": "1a383377-289a-40e2-ec0f-58f2cac0a6ef"
      },
      "outputs": [
        {
          "name": "stdout",
          "output_type": "stream",
          "text": [
            "8 b\n",
            "? a\n",
            "! b\n",
            "10 15\n"
          ]
        }
      ],
      "source": [
        "# LOOP OVER A DICTIONARY\n",
        "d = {8: 'b', '?': 'a', '!': 'b', 10: 15}\n",
        "for key in d:\n",
        "    print(key, d[key])"
      ]
    },
    {
      "cell_type": "markdown",
      "metadata": {
        "id": "qsMXZyPhOxKC"
      },
      "source": [
        "###  LISTS OF KEYS AND VALUES"
      ]
    },
    {
      "cell_type": "code",
      "execution_count": null,
      "metadata": {
        "colab": {
          "base_uri": "https://localhost:8080/"
        },
        "id": "Ntj76QvDh699",
        "outputId": "7a868a46-5e04-44f7-d505-eb5169ac8f9b"
      },
      "outputs": [
        {
          "name": "stdout",
          "output_type": "stream",
          "text": [
            "[8, '?', '!', 10]\n",
            "['b', 'a', 'b', 15]\n",
            "[(8, 'b'), ('?', 'a'), ('!', 'b'), (10, 15)]\n"
          ]
        }
      ],
      "source": [
        "# LISTS OF KEYS AND VALUES\n",
        "print(list(d.keys()))\n",
        "print(list(d.values()))\n",
        "print(list(d.items()))"
      ]
    },
    {
      "cell_type": "markdown",
      "metadata": {
        "id": "CDtb1NyJOy9i"
      },
      "source": [
        "### TWO ITERATION VARIABLES"
      ]
    },
    {
      "cell_type": "code",
      "execution_count": null,
      "metadata": {
        "colab": {
          "base_uri": "https://localhost:8080/"
        },
        "id": "OODrc3XGiYOI",
        "outputId": "b7bbbf09-8315-4ca4-a0ae-6076ce40643a"
      },
      "outputs": [
        {
          "name": "stdout",
          "output_type": "stream",
          "text": [
            "8 b\n",
            "? a\n",
            "! b\n",
            "10 15\n"
          ]
        }
      ],
      "source": [
        "# TWO ITERATION VARIABLES\n",
        "for key, value in d.items():\n",
        "    print(key, value)"
      ]
    },
    {
      "cell_type": "markdown",
      "metadata": {
        "id": "1jf75LBiO0YU"
      },
      "source": [
        "### DICTIONARY COMPREHENSION"
      ]
    },
    {
      "cell_type": "code",
      "execution_count": null,
      "metadata": {
        "colab": {
          "base_uri": "https://localhost:8080/"
        },
        "id": "Qfq5PNlXin--",
        "outputId": "265d3836-d81b-4c88-cc2b-d83510d80d55"
      },
      "outputs": [
        {
          "name": "stdout",
          "output_type": "stream",
          "text": [
            "{2: 16, 3: 24, 4: 32, 5: 40, 6: 48, 7: 56}\n"
          ]
        }
      ],
      "source": [
        "# DICTIONARY COMPREHENSION\n",
        "print({x: x * 8 for x in range(2, 8)})"
      ]
    },
    {
      "cell_type": "markdown",
      "metadata": {
        "id": "DpXLEMaOO19W"
      },
      "source": [
        "### MEMOIZED RECURSION: FIBONACCI EXAMPLE"
      ]
    },
    {
      "cell_type": "code",
      "execution_count": null,
      "metadata": {
        "colab": {
          "base_uri": "https://localhost:8080/"
        },
        "id": "yvWyYhGWi-jN",
        "outputId": "267f3c4d-9a56-4c9e-a70c-6079e8d3d861"
      },
      "outputs": [
        {
          "name": "stdout",
          "output_type": "stream",
          "text": [
            "377\n"
          ]
        }
      ],
      "source": [
        "# MEMOIZED RECURSION: FIBONACCI EXAMPLE\n",
        "res = {0: 0, 1: 1}\n",
        "def fib(n):\n",
        "    if n in res:\n",
        "        return res[n]\n",
        "    res[n] = fib(n - 1) + fib(n - 2)\n",
        "    return res[n]\n",
        "print(fib(14))"
      ]
    },
    {
      "cell_type": "markdown",
      "metadata": {
        "id": "smBc4ScQO7Jj"
      },
      "source": [
        "####  MEMOIZED RECURSION: LONGEST INCREASING SUBSEQUENCE EXAMPLE"
      ]
    },
    {
      "cell_type": "code",
      "execution_count": null,
      "metadata": {
        "colab": {
          "base_uri": "https://localhost:8080/"
        },
        "id": "xhYDWDLdkRdl",
        "outputId": "1cf62881-75a8-477a-9e8e-e5c08198f98c"
      },
      "outputs": [
        {
          "name": "stdout",
          "output_type": "stream",
          "text": [
            "  i   num_list[i]    lis_including(i)\n",
            "  0           96                   1\n",
            "  1            9                   1\n",
            "  2           69                   2\n",
            "  3           50                   2\n",
            "  4           23                   2\n",
            "  5           89                   3\n",
            "  6           31                   3\n",
            "  7           64                   4\n",
            "  8           11                   2\n",
            "  9           99                   5\n",
            " 10           79                   5\n",
            " 11           98                   6\n",
            " 12           18                   3\n",
            " 13           35                   4\n",
            " 14           55                   5\n",
            "Result = 6\n"
          ]
        }
      ],
      "source": [
        "# MEMOIZED RECURSION: LONGEST INCREASING SUBSEQUENCE EXAMPLE\n",
        "from random import randint\n",
        "num_list = [randint(0, 100) for i in range(15)]\n",
        " \n",
        "res = {0: 1}\n",
        "def lis_including(i):\n",
        "    if i in res:\n",
        "        return res[i]\n",
        "    max_lis = 1\n",
        "    for j in range(i):\n",
        "        if num_list[j] < num_list[i]:\n",
        "            max_lis = max(max_lis, 1 + lis_including(j))\n",
        "    res[i] = max_lis\n",
        "    return max_lis\n",
        " \n",
        "print('  i   num_list[i]    lis_including(i)')\n",
        "for i in range(15):\n",
        "    print('%3i%13i%20i' % (i, num_list[i], lis_including(i)))\n",
        "print('Result =', max([lis_including(i) for i in range(15)]))"
      ]
    },
    {
      "cell_type": "markdown",
      "metadata": {
        "id": "Vcz1ReWNpEDP"
      },
      "source": [
        "##  TUPLES"
      ]
    },
    {
      "cell_type": "markdown",
      "metadata": {
        "id": "UlXQaHPFPCBb"
      },
      "source": [
        "###  TUPLE EXAMPLES"
      ]
    },
    {
      "cell_type": "code",
      "execution_count": null,
      "metadata": {
        "colab": {
          "base_uri": "https://localhost:8080/"
        },
        "id": "Ssb12F_GpGD7",
        "outputId": "ec91f1f4-8470-4045-a3aa-f099a8b21253"
      },
      "outputs": [
        {
          "name": "stdout",
          "output_type": "stream",
          "text": [
            "(3, 5, 7)\n",
            "(1,)\n",
            "1\n"
          ]
        }
      ],
      "source": [
        "# TUPLE EXAMPLES\n",
        "print((3, 5, 7))\n",
        "print((1, ))\n",
        "# Warning: Tuple of 1 element must have a comma\n",
        "print((1))"
      ]
    },
    {
      "cell_type": "markdown",
      "metadata": {
        "id": "9QFunwFoPFek"
      },
      "source": [
        "###  TUPLES ARE IMMUTABLE"
      ]
    },
    {
      "cell_type": "code",
      "execution_count": null,
      "metadata": {
        "colab": {
          "base_uri": "https://localhost:8080/"
        },
        "id": "f1R2iDE8pYTr",
        "outputId": "39f9b2e3-b289-4e27-88d4-250712695e74"
      },
      "outputs": [
        {
          "name": "stdout",
          "output_type": "stream",
          "text": [
            "(3, 4, 7)\n"
          ]
        }
      ],
      "source": [
        "# TUPLES ARE IMMUTABLE\n",
        "tup = (3, 4, 7)\n",
        "# tup[0] = 0\n",
        "# TypeError: 'tuple' object does not support item assignment\n",
        "print(tup)"
      ]
    },
    {
      "cell_type": "markdown",
      "metadata": {
        "id": "ga6bR8tdPHFT"
      },
      "source": [
        "###  TUPLE DIRECTORIES"
      ]
    },
    {
      "cell_type": "code",
      "execution_count": null,
      "metadata": {
        "colab": {
          "base_uri": "https://localhost:8080/"
        },
        "id": "K-X3jW_Epur-",
        "outputId": "c6f1600f-c146-4102-b2a6-7121fa5224d1"
      },
      "outputs": [
        {
          "name": "stdout",
          "output_type": "stream",
          "text": [
            "['__subclasshook__', 'count', 'index']\n"
          ]
        }
      ],
      "source": [
        "# TUPLE DIRECTORIES\n",
        "print(dir(tuple)[-3:])"
      ]
    },
    {
      "cell_type": "markdown",
      "metadata": {
        "id": "EfaL_HwbPIVr"
      },
      "source": [
        "###  TUPLES AND ASSIGNMENT"
      ]
    },
    {
      "cell_type": "code",
      "execution_count": null,
      "metadata": {
        "colab": {
          "base_uri": "https://localhost:8080/"
        },
        "id": "P2wH8yi2qHDi",
        "outputId": "5d1b6a19-27ad-4642-9089-914fae13998c"
      },
      "outputs": [
        {
          "name": "stdout",
          "output_type": "stream",
          "text": [
            "a = 3\n",
            "b = 5\n",
            "x = 6\n",
            "y = 9\n"
          ]
        }
      ],
      "source": [
        "# TUPLES AND ASSIGNMENT\n",
        "a, b = (3, 5)\n",
        "print('a = %i\\nb = %i' % (a, b))\n",
        "x, y = 6, 9\n",
        "print('x = %i\\ny = %i' % (x, y))"
      ]
    },
    {
      "cell_type": "markdown",
      "metadata": {
        "id": "7mt2OP-FPJWs"
      },
      "source": [
        "###  TUPLE AS RETURN VALUES"
      ]
    },
    {
      "cell_type": "code",
      "execution_count": null,
      "metadata": {
        "colab": {
          "base_uri": "https://localhost:8080/"
        },
        "id": "jU5ydGElquiF",
        "outputId": "8716b801-d0f1-49f8-90ec-1433b470c619"
      },
      "outputs": [
        {
          "name": "stdout",
          "output_type": "stream",
          "text": [
            "(3, 4)\n",
            "[46, 23, 33, 7, 14, 96, 42, 48, 37, 31, 85, 1, 21, 28, 32]\n",
            "(96, 5)\n"
          ]
        }
      ],
      "source": [
        "# TUPLE AS RETURN VALUES\n",
        "print(divmod(100, 32))\n",
        "\n",
        "def max_and_index(lst):\n",
        "    index = 0\n",
        "    for i in range(1, 15):\n",
        "        if lst[i] > lst[index]:\n",
        "            index = i\n",
        "    return lst[index], index\n",
        "\n",
        "\n",
        "from random import randint\n",
        "num_list = [randint(0, 100) for i in range(15)]\n",
        "print(num_list)\n",
        "print(max_and_index(num_list))"
      ]
    },
    {
      "cell_type": "markdown",
      "metadata": {
        "id": "WPJvpRpvPKof"
      },
      "source": [
        "###  LISTS AND TUPLES"
      ]
    },
    {
      "cell_type": "code",
      "execution_count": null,
      "metadata": {
        "colab": {
          "base_uri": "https://localhost:8080/"
        },
        "id": "YhKOF7UjsnNJ",
        "outputId": "f8e8d86a-c465-41c3-812c-5b72c955e2c1"
      },
      "outputs": [
        {
          "name": "stdout",
          "output_type": "stream",
          "text": [
            "<zip object at 0x7f39bfea34b0>\n",
            "[('a', 3), ('b', 4), ('c', 5), ('d', 6), ('e', 7)]\n",
            "('a', 3)\n",
            "('b', 4)\n",
            "('c', 5)\n",
            "('d', 6)\n",
            "('e', 7)\n"
          ]
        }
      ],
      "source": [
        "# LISTS AND TUPLES\n",
        "z = zip('abcde', [3, 4, 5, 6, 7, 8, 9, 10])\n",
        "print(z)\n",
        "z = zip('abcde', [3, 4, 5, 6, 7, 8, 9, 10])\n",
        "print(list(z))\n",
        "z = zip('abcde', [3, 4, 5, 6, 7, 8, 9, 10])\n",
        "for pair in z:\n",
        "    print(pair)\n"
      ]
    },
    {
      "cell_type": "markdown",
      "metadata": {
        "id": "D-6uh_7nPMA3"
      },
      "source": [
        "####  `enumerate()`"
      ]
    },
    {
      "cell_type": "code",
      "execution_count": null,
      "metadata": {
        "colab": {
          "base_uri": "https://localhost:8080/"
        },
        "id": "rX3yV_N8t1qI",
        "outputId": "db9acac5-74e8-4f85-ad81-85c020e178ea"
      },
      "outputs": [
        {
          "name": "stdout",
          "output_type": "stream",
          "text": [
            "0 c\n",
            "1 d\n",
            "2 e\n",
            "3 f\n"
          ]
        }
      ],
      "source": [
        "# enumerate()\n",
        "for ind, c in enumerate('cdef'):\n",
        "    print(ind, c)"
      ]
    },
    {
      "cell_type": "markdown",
      "metadata": {
        "id": "PCN_XczaPSXM"
      },
      "source": [
        "### DICTIONARIES AND TUPLES"
      ]
    },
    {
      "cell_type": "code",
      "execution_count": null,
      "metadata": {
        "colab": {
          "base_uri": "https://localhost:8080/"
        },
        "id": "UGd9eln_uRTZ",
        "outputId": "aa581648-a2ab-41e7-8e12-ce1eb5246a4b"
      },
      "outputs": [
        {
          "name": "stdout",
          "output_type": "stream",
          "text": [
            "dict_items([('h', 4), ('t', 5), ('n', 6), ('m', 7)])\n",
            "{8: 'h', 7: 't', 6: 'n', 5: 'm'}\n"
          ]
        }
      ],
      "source": [
        "# DICTIONARIES AND TUPLES\n",
        "d = {'h': 4, 't': 5, 'n': 6, 'm': 7}\n",
        "print(d.items())\n",
        "l = [(8, 'h'), (7, 't'), (6, 'n'), (5, 'm')]\n",
        "print(dict(l))"
      ]
    },
    {
      "cell_type": "markdown",
      "metadata": {
        "id": "ceFq37eYPUFN"
      },
      "source": [
        "### TUPLE COMPARISON"
      ]
    },
    {
      "cell_type": "code",
      "execution_count": null,
      "metadata": {
        "colab": {
          "base_uri": "https://localhost:8080/"
        },
        "id": "vl7a8bztvRFQ",
        "outputId": "6bf650bb-9688-487e-a16b-473d82d12438"
      },
      "outputs": [
        {
          "name": "stdout",
          "output_type": "stream",
          "text": [
            "True\n",
            "True\n",
            "False\n",
            "\n",
            "True\n",
            "False\n"
          ]
        }
      ],
      "source": [
        "# TUPLE COMPARISON\n",
        "print((3, ) < (5, ))\n",
        "print((3, 6) < (5, 1))\n",
        "print((3, 6) < (3, 2))\n",
        "print()\n",
        "print(('Alpha', 0) < ('Beta', 8))\n",
        "print(('Alpha', 0) < ('Alpha', -2))"
      ]
    },
    {
      "cell_type": "markdown",
      "metadata": {
        "id": "AJWg2B10PWG7"
      },
      "source": [
        "###  SORTING EXAMPLE: SORT BY VALUE, NOT KEY"
      ]
    },
    {
      "cell_type": "code",
      "execution_count": null,
      "metadata": {
        "colab": {
          "base_uri": "https://localhost:8080/"
        },
        "id": "aDaBq89dwD2p",
        "outputId": "bbb7c98f-4d9e-44f3-97c8-c55c18fa0f15"
      },
      "outputs": [
        {
          "name": "stdout",
          "output_type": "stream",
          "text": [
            "Sort by key:           ('h', 4) ('m', 7) ('n', 6) ('t', 5)\n",
            "Sort by value, #1 way: ('h', 4) ('t', 5) ('n', 6) ('m', 7)\n",
            "Sort by value, #2 way: ('h', 4) ('t', 5) ('n', 6) ('m', 7)\n"
          ]
        }
      ],
      "source": [
        "# SORTING EXAMPLE: SORT BY VALUE, NOT KEY\n",
        "d = {'h': 4, 't': 5, 'n': 6, 'm': 7}\n",
        "print('Sort by key:          ', *sorted(list(d.items())))\n",
        "\n",
        "print('Sort by value, #1 way:', *sorted(list(d.items()), key = lambda x: x[1]))\n",
        "\n",
        "value_key_list = sorted([(value, key) for key, value in d.items()])\n",
        "sorted_value_list = [(key, value) for value, key in value_key_list]\n",
        "print('Sort by value, #2 way:', *sorted_value_list) "
      ]
    },
    {
      "cell_type": "markdown",
      "metadata": {
        "id": "_gy1XztRySyM"
      },
      "source": [
        "# CHAPTER 6: MODULES"
      ]
    },
    {
      "cell_type": "markdown",
      "metadata": {
        "id": "uK3QpdrhQToS"
      },
      "source": [
        "##  `import` EXAMPLE"
      ]
    },
    {
      "cell_type": "code",
      "execution_count": null,
      "metadata": {
        "colab": {
          "base_uri": "https://localhost:8080/"
        },
        "id": "bKWGkCfRycQY",
        "outputId": "bd542099-9e62-4abb-fcff-8e4c70ad8ce3"
      },
      "outputs": [
        {
          "name": "stdout",
          "output_type": "stream",
          "text": [
            "2.8284271247461903\n",
            "2.8284271247461903\n",
            "5\n"
          ]
        }
      ],
      "source": [
        "# import EXAMPLE\n",
        "import math\n",
        "print(math.sqrt(8))\n",
        "from math import sqrt\n",
        "print(sqrt(8))\n",
        "from random import *\n",
        "print(randint(3,6))"
      ]
    },
    {
      "cell_type": "markdown",
      "metadata": {
        "id": "oN3GBb_NQXKD"
      },
      "source": [
        "## (preparation)"
      ]
    },
    {
      "cell_type": "markdown",
      "metadata": {
        "id": "uJFEbC1FDDyI"
      },
      "source": [
        "### (preparation) mount"
      ]
    },
    {
      "cell_type": "code",
      "execution_count": null,
      "metadata": {
        "colab": {
          "base_uri": "https://localhost:8080/"
        },
        "id": "1Tmu1K9y3P4M",
        "outputId": "63bb6035-e34e-41b0-ebb3-95f92db2ee2e"
      },
      "outputs": [
        {
          "name": "stdout",
          "output_type": "stream",
          "text": [
            "Mounted at /content/gdrive\n"
          ]
        }
      ],
      "source": [
        "# (preparation) mount\n",
        "from google.colab import drive\n",
        "drive.mount('/content/gdrive')"
      ]
    },
    {
      "cell_type": "markdown",
      "metadata": {
        "id": "vfVHGDjRQeLs"
      },
      "source": [
        "###  (preparation) append path"
      ]
    },
    {
      "cell_type": "code",
      "execution_count": null,
      "metadata": {
        "colab": {
          "base_uri": "https://localhost:8080/"
        },
        "id": "D7sRoSbR3jqF",
        "outputId": "bfd6fd46-bf4f-4934-af31-875109482617"
      },
      "outputs": [
        {
          "name": "stdout",
          "output_type": "stream",
          "text": [
            "'/content/gdrive/MyDrive/Colab Notebooks/hello.py'\n",
            "if __name__ == '__main__':\n",
            "    print('Hello?')"
          ]
        }
      ],
      "source": [
        "# (preparation) append path\n",
        "!ls /content/gdrive/MyDrive/Colab\\ Notebooks/hello.py\n",
        "!cat /content/gdrive/MyDrive/Colab\\ Notebooks/hello.py\n",
        "import sys\n",
        "sys.path.append('/content/gdrive/MyDrive/Colab Notebooks')"
      ]
    },
    {
      "cell_type": "markdown",
      "metadata": {
        "id": "v0EX7DvCQnwp"
      },
      "source": [
        "##  MODULES AS SCRIPTS"
      ]
    },
    {
      "cell_type": "code",
      "execution_count": null,
      "metadata": {
        "colab": {
          "base_uri": "https://localhost:8080/"
        },
        "id": "ArGm5mcsyymm",
        "outputId": "c80197a4-9c77-47d5-fa84-93f8bbeab4f8"
      },
      "outputs": [
        {
          "name": "stdout",
          "output_type": "stream",
          "text": [
            "Script in \"hello.py\":\n",
            "---------------------------------\n",
            "if __name__ == '__main__':\n",
            "    print('Hello?') \n",
            "---------------------------------\n",
            "Hello?\n"
          ]
        }
      ],
      "source": [
        "# MODULES AS SCRIPTS\n",
        "hello_path = '/content/gdrive/MyDrive/Colab Notebooks/hello.py'\n",
        "\n",
        "print('Script in \"hello.py\":\\n---------------------------------')\n",
        "f = open(hello_path, 'r')\n",
        "print(f.read(), '\\n---------------------------------')\n",
        "f.close()\n",
        "\n",
        "! python '/content/gdrive/MyDrive/Colab Notebooks/hello.py'"
      ]
    },
    {
      "cell_type": "markdown",
      "metadata": {
        "id": "sBLQBbLuQsaB"
      },
      "source": [
        "##  `__name__`"
      ]
    },
    {
      "cell_type": "code",
      "execution_count": null,
      "metadata": {
        "colab": {
          "base_uri": "https://localhost:8080/"
        },
        "id": "wic3G-se0QQl",
        "outputId": "1bd2b1d0-06c7-4993-f413-6ce97b765516"
      },
      "outputs": [
        {
          "name": "stdout",
          "output_type": "stream",
          "text": [
            "before import\n",
            "after import\n",
            "hello\n"
          ]
        }
      ],
      "source": [
        "# __name__\n",
        "print('before import')\n",
        "import hello\n",
        "print('after import')\n",
        "print(hello.__name__)"
      ]
    },
    {
      "cell_type": "markdown",
      "metadata": {
        "id": "sdZTUVNmQ9nC"
      },
      "source": [
        "## `sys.argv[]`"
      ]
    },
    {
      "cell_type": "code",
      "execution_count": null,
      "metadata": {
        "colab": {
          "base_uri": "https://localhost:8080/"
        },
        "id": "9D8jW7Cg7B6z",
        "outputId": "10487400-bb7f-4f08-dd22-40395f6be89b"
      },
      "outputs": [
        {
          "name": "stdout",
          "output_type": "stream",
          "text": [
            "Script in \"sumof2module.py\":\n",
            "---------------------------------\n",
            "if __name__ == '__main__':\n",
            "    import sys\n",
            "    print(int(sys.argv[1]) + int(sys.argv[2])) \n",
            "---------------------------------\n",
            "17\n"
          ]
        }
      ],
      "source": [
        "# sys.argv[]\n",
        "sum_path = '/content/gdrive/MyDrive/Colab Notebooks/sumof2module.py'\n",
        "print('Script in \"sumof2module.py\":\\n---------------------------------')\n",
        "f = open(sum_path, 'r')\n",
        "print(f.read(), '\\n---------------------------------')\n",
        "f.close()\n",
        "! python '/content/gdrive/MyDrive/Colab Notebooks/sumof2module.py' 8 9"
      ]
    },
    {
      "cell_type": "markdown",
      "metadata": {
        "id": "u6WccnB8RFjK"
      },
      "source": [
        "##  USEFUL MODULES: BASIC EXAMPLES"
      ]
    },
    {
      "cell_type": "code",
      "execution_count": null,
      "metadata": {
        "colab": {
          "base_uri": "https://localhost:8080/"
        },
        "id": "1fqSnOh97xZD",
        "outputId": "14b98ab6-7672-405c-8cb0-d42d88067520"
      },
      "outputs": [
        {
          "name": "stdout",
          "output_type": "stream",
          "text": [
            "2021-08-09 05:48:01.231481\n",
            "40320\n",
            "[1.79077237 1.05060928 1.15447232 2.275137   1.86980938 1.18032189]\n",
            "[1.79077237 2.275137   1.86980938]\n"
          ]
        }
      ],
      "source": [
        "# USEFUL MODULES: BASIC EXAMPLES\n",
        "# See a lot more in-depth examples in the APPENDIX\n",
        "''' Find out more in: (ctrl + click to open)\n",
        "https://docs.python.org/3/library/random.html\n",
        "https://docs.python.org/3/library/datetime.html\n",
        "https://docs.python.org/3/library/math.html\n",
        "https://numpy.org/doc/\n",
        "'''\n",
        "\n",
        "import random \n",
        "import datetime \n",
        "import math\n",
        "import numpy\n",
        "\n",
        "print(datetime.datetime.now())\n",
        "print(math.factorial(8))\n",
        "\n",
        "np_arr = numpy.array([random.uniform(0, 3) for i in range(6)])\n",
        "print(np_arr)\n",
        "# print values which are > 1.5\n",
        "print(np_arr[np_arr > 1.5])"
      ]
    },
    {
      "cell_type": "markdown",
      "metadata": {
        "id": "pxdrGDJtFp5Y"
      },
      "source": [
        "##  `pickle` MODULE"
      ]
    },
    {
      "cell_type": "markdown",
      "metadata": {
        "id": "iWziCX12F3Cv"
      },
      "source": [
        "###  IMPORT `pickle`"
      ]
    },
    {
      "cell_type": "code",
      "execution_count": null,
      "metadata": {
        "id": "cQfmrtg7Ft0Z"
      },
      "outputs": [],
      "source": [
        "# IMPORT pickle\n",
        "import pickle as pkl"
      ]
    },
    {
      "cell_type": "markdown",
      "metadata": {
        "id": "-8pEiHsWHZzs"
      },
      "source": [
        "###  `dump()`"
      ]
    },
    {
      "cell_type": "code",
      "execution_count": null,
      "metadata": {
        "id": "SmRRS3ZsG0gl"
      },
      "outputs": [],
      "source": [
        "# dump()\n",
        "sample_pkl_path = '/content/gdrive/MyDrive/Colab Notebooks/sample_pkl.pkl'\n",
        "lst = [3, 5, 0, 8]\n",
        "with open(sample_pkl_path, 'wb') as f:\n",
        "    # 'wb' = write byte, see more below, in Chapter 7: FILES\n",
        "    pkl.dump(lst, f)"
      ]
    },
    {
      "cell_type": "markdown",
      "metadata": {
        "id": "V4Ct1dnOHmN0"
      },
      "source": [
        "###  `load()`"
      ]
    },
    {
      "cell_type": "code",
      "execution_count": null,
      "metadata": {
        "colab": {
          "base_uri": "https://localhost:8080/"
        },
        "id": "VoGofxBLHl7n",
        "outputId": "98af16fc-e666-4eac-d221-9b02170d9015"
      },
      "outputs": [
        {
          "name": "stdout",
          "output_type": "stream",
          "text": [
            "[3, 5, 0, 8]\n"
          ]
        }
      ],
      "source": [
        "# load()\n",
        "with open(sample_pkl_path, 'rb') as f:\n",
        "    # 'rb' = read byte, see more below, in Chapter 7: FILES\n",
        "    loaded_content = pkl.load(f)\n",
        "print(loaded_content)"
      ]
    },
    {
      "cell_type": "markdown",
      "metadata": {
        "id": "otO3nGbmD_48"
      },
      "source": [
        "# CHAPTER 7: FILES"
      ]
    },
    {
      "cell_type": "markdown",
      "metadata": {
        "id": "jkYH1QrORN7R"
      },
      "source": [
        "##  OPENING A FILE"
      ]
    },
    {
      "cell_type": "code",
      "execution_count": null,
      "metadata": {
        "id": "JO79ScMqECuw"
      },
      "outputs": [],
      "source": [
        "# OPENING A FILE\n",
        "f = open(hello_path, 'r')\n",
        "# 'r' reading | 'w' writing | 'a' appending | 'r+' both reading and writing"
      ]
    },
    {
      "cell_type": "markdown",
      "metadata": {
        "id": "yXD0beCqRPw5"
      },
      "source": [
        "## LOOP OVER A FILE"
      ]
    },
    {
      "cell_type": "code",
      "execution_count": null,
      "metadata": {
        "colab": {
          "base_uri": "https://localhost:8080/"
        },
        "id": "B6Q-lIldEY6O",
        "outputId": "f577cfc4-1c32-4d1b-a9d2-d6bf6d25ed33"
      },
      "outputs": [
        {
          "name": "stdout",
          "output_type": "stream",
          "text": [
            "if __name__ == '__main__':\n",
            "    print('Hello?')"
          ]
        }
      ],
      "source": [
        "# LOOP OVER A FILE\n",
        "for line in f:\n",
        "    print(line, end = '')\n",
        "f.close()"
      ]
    },
    {
      "cell_type": "markdown",
      "metadata": {
        "id": "PwDE86sKRRu5"
      },
      "source": [
        "##  READ WHOLE FILE"
      ]
    },
    {
      "cell_type": "code",
      "execution_count": null,
      "metadata": {
        "colab": {
          "base_uri": "https://localhost:8080/"
        },
        "id": "6dRvpQWLEmhW",
        "outputId": "a8b19e47-a674-4155-c38a-e9308a05a574"
      },
      "outputs": [
        {
          "name": "stdout",
          "output_type": "stream",
          "text": [
            "if __name__ == '__main__':\n",
            "    print('Hello?')\n"
          ]
        }
      ],
      "source": [
        "# READ WHOLE FILE\n",
        "f = open(hello_path, 'r')\n",
        "print(f.read())\n",
        "f.close()"
      ]
    },
    {
      "cell_type": "markdown",
      "metadata": {
        "id": "nUBZaBHART5C"
      },
      "source": [
        "##  `with` BLOCK"
      ]
    },
    {
      "cell_type": "code",
      "execution_count": null,
      "metadata": {
        "colab": {
          "base_uri": "https://localhost:8080/"
        },
        "id": "rhvf2_QvFQa-",
        "outputId": "d0cce6a2-337e-4b47-d55a-7ad710e63833"
      },
      "outputs": [
        {
          "name": "stdout",
          "output_type": "stream",
          "text": [
            "if __name__ == '__main__':\n",
            "    print('Hello?')\n",
            "True\n"
          ]
        }
      ],
      "source": [
        "# with BLOCK\n",
        "with open(hello_path, 'r') as f:\n",
        "    print(f.read())\n",
        "print(f.closed)"
      ]
    },
    {
      "cell_type": "markdown",
      "metadata": {
        "id": "KJJDC7DhRVQS"
      },
      "source": [
        "##  WRITING FILES"
      ]
    },
    {
      "cell_type": "code",
      "execution_count": null,
      "metadata": {
        "colab": {
          "base_uri": "https://localhost:8080/"
        },
        "id": "OOIvt78TGnOe",
        "outputId": "c29e141e-ab4d-479e-85b3-6e7b4010c481"
      },
      "outputs": [
        {
          "name": "stdout",
          "output_type": "stream",
          "text": [
            "Write this line to the file\n"
          ]
        }
      ],
      "source": [
        "# WRITING FILES\n",
        "write_path = '/content/gdrive/MyDrive/Colab Notebooks/writeout.txt'\n",
        "with open(write_path, 'w') as f:\n",
        "    f.write('Write this line to the file')\n",
        "with open(write_path, 'r') as f:\n",
        "    print(f.read())"
      ]
    },
    {
      "cell_type": "markdown",
      "metadata": {
        "id": "g52YkYkoRW9V"
      },
      "source": [
        "##  CURRENT POSITION"
      ]
    },
    {
      "cell_type": "code",
      "execution_count": null,
      "metadata": {
        "colab": {
          "base_uri": "https://localhost:8080/"
        },
        "id": "1F0lxpcRHRj9",
        "outputId": "b12c07b3-d0a0-4067-cc0a-1b01f2f7b0da"
      },
      "outputs": [
        {
          "name": "stdout",
          "output_type": "stream",
          "text": [
            "0\n",
            "Write this line to the file\n",
            "27\n"
          ]
        }
      ],
      "source": [
        "# CURRENT POSITION\n",
        "with open(write_path, 'r') as f:\n",
        "    print(f.tell())\n",
        "    print(f.read())\n",
        "    print(f.tell())"
      ]
    },
    {
      "cell_type": "markdown",
      "metadata": {
        "id": "o1rvUY9URYRJ"
      },
      "source": [
        "## CHANGE POSITION"
      ]
    },
    {
      "cell_type": "code",
      "execution_count": null,
      "metadata": {
        "colab": {
          "base_uri": "https://localhost:8080/"
        },
        "id": "16PL70QPHoyM",
        "outputId": "75a5064b-972d-42e4-dd27-46b0a375441c"
      },
      "outputs": [
        {
          "name": "stdout",
          "output_type": "stream",
          "text": [
            "0\n",
            "13\n",
            "ne to the file\n",
            "27\n"
          ]
        }
      ],
      "source": [
        "# CHANGE POSITION\n",
        "# https://www.tutorialspoint.com/python/file_seek.htm\n",
        "with open(write_path, 'r') as f:\n",
        "    print(f.tell())\n",
        "    f.seek(13)\n",
        "    print(f.tell())\n",
        "    print(f.read())\n",
        "    print(f.tell())"
      ]
    },
    {
      "cell_type": "markdown",
      "metadata": {
        "id": "OhIfThxnLDwn"
      },
      "source": [
        "# CHAPTER 8: OBJECT-ORIENTED PROGRAMMING (OOP)"
      ]
    },
    {
      "cell_type": "markdown",
      "metadata": {
        "id": "puFbl-asLi1t"
      },
      "source": [
        "##  CREATE A NEW OBJECT EXAMPLE"
      ]
    },
    {
      "cell_type": "code",
      "execution_count": null,
      "metadata": {
        "id": "yRXsyuvqLYlu"
      },
      "outputs": [],
      "source": [
        "# CREATE A NEW OBJECT EXAMPLE\n",
        "#     name of class (parent class(es))\n",
        "class Complex_number(object):\n",
        "    # __init__ always run right after calling the class\n",
        "    def __init__(self, a, b):\n",
        "        # real and imaginary are attributes\n",
        "        self.real = a\n",
        "        self.imaginary = b\n",
        "\n",
        "    # a method is a function of the class\n",
        "    def modulus(self):\n",
        "        from math import sqrt\n",
        "        return sqrt(self.real ** 2 + self.imaginary ** 2)\n",
        "\n",
        "    # __str__ is a method which returns (str(an instance))\n",
        "    def __str__(self):\n",
        "        return 'Complex number (%s + %si)' % (self.real, self.imaginary)\n",
        "\n",
        "    # __add__ is a method which returns (an instance + another instance)\n",
        "    def __add__(self, other):\n",
        "        return Complex_number(self.real + other.real, self.imaginary + other.imaginary)\n",
        "\n",
        "    # __sub__ is a method which returns (an instance - another instance)\n",
        "    def __sub__(self, other):\n",
        "        return Complex_number(self.real - other.real, self.imaginary - other.imaginary)\n",
        "\n",
        "    # __eq__ is a method which returns (an instance == another instance)\n",
        "    def __eq__(self, other):\n",
        "        return self.real == other.real and self.imaginary == other.imaginary\n"
      ]
    },
    {
      "cell_type": "markdown",
      "metadata": {
        "id": "eIL-_mQEW-mR"
      },
      "source": [
        "The most common used methods for a class, in short:\n",
        "```\n",
        "__doc__: docstring  |  __name__: name  |  __del__: delete\n",
        "__lt__: \"<\"  |  __le__: \"<=\"  |  __ne__: \"!=\"\n",
        "__gt__: \">\"  |  __ge__: \">=\"\n",
        "__dir__: dir(an object or an instance)\n",
        "```\n",
        "```\n",
        "object.__add__(self, other)\n",
        "object.__sub__(self, other)\n",
        "object.__mul__(self, other)\n",
        "object.__matmul__(self, other)\n",
        "object.__truediv__(self, other)\n",
        "object.__floordiv__(self, other)\n",
        "object.__mod__(self, other)\n",
        "object.__divmod__(self, other)\n",
        "object.__pow__(self, other[, modulo])\n",
        "object.__lshift__(self, other)\n",
        "object.__rshift__(self, other)\n",
        "object.__and__(self, other)¶\n",
        "object.__xor__(self, other)\n",
        "object.__or__(self, other)\n",
        "```\n",
        "There are so many more methods for a class that you should find them out yourself, this is the documentation of data model in Python:\n",
        "\n",
        "[https://docs.python.org/3/reference/datamodel.html](https://docs.python.org/3/reference/datamodel.html)\n",
        "    \n",
        "I found that the @abstractmethod decorator is not really important for the final exam, since we didn't learn any thing about decorator in Python, so if you are curious enough, this is the documentation of abc:\n",
        "\n",
        "[https://docs.python.org/3/library/abc.html](https://docs.python.org/3/library/abc.html)"
      ]
    },
    {
      "cell_type": "markdown",
      "metadata": {
        "id": "CPml-CnZNBPO"
      },
      "source": [
        "###  USING THE OBJECT EXAMPLES"
      ]
    },
    {
      "cell_type": "code",
      "execution_count": null,
      "metadata": {
        "colab": {
          "base_uri": "https://localhost:8080/"
        },
        "id": "lC1_gumWNABP",
        "outputId": "bcabbd74-3c88-4998-ee52-48979cfbf769"
      },
      "outputs": [
        {
          "name": "stdout",
          "output_type": "stream",
          "text": [
            "6 9\n",
            "10.816653826391969\n",
            "Complex number (6 + 9i)\n"
          ]
        }
      ],
      "source": [
        "# USING THE OBJECT EXAMPLES\n",
        "z1 = Complex_number(6, 9)\n",
        "print(z1.real, z1.imaginary)\n",
        "print(z1.modulus())\n",
        "print(z1)"
      ]
    },
    {
      "cell_type": "code",
      "execution_count": null,
      "metadata": {
        "colab": {
          "base_uri": "https://localhost:8080/"
        },
        "id": "8F5_8nUIOUDM",
        "outputId": "ccc8efcc-a450-4432-e056-5673152ede66"
      },
      "outputs": [
        {
          "name": "stdout",
          "output_type": "stream",
          "text": [
            "2.8 9.2\n",
            "9.616652224137045\n",
            "Complex number (2.8 + 9.2i)\n"
          ]
        }
      ],
      "source": [
        "# USING THE OBJECT EXAMPLES\n",
        "z2 = Complex_number(2.8, 9.2)\n",
        "print(z2.real, z2.imaginary)\n",
        "print(z2.modulus())\n",
        "print(z2)"
      ]
    },
    {
      "cell_type": "code",
      "execution_count": null,
      "metadata": {
        "colab": {
          "base_uri": "https://localhost:8080/"
        },
        "id": "hA-x9fBuPS_c",
        "outputId": "98c35235-c76c-4ea1-d903-6c989ca0cb2e"
      },
      "outputs": [
        {
          "name": "stdout",
          "output_type": "stream",
          "text": [
            "Complex number (8.8 + 18.2i)\n",
            "Complex number (3.2 + -0.1999999999999993i)\n"
          ]
        }
      ],
      "source": [
        "# USING THE OBJECT EXAMPLES\n",
        "print(z1 + z2)\n",
        "print(z1 - z2)\n",
        "# What? Why it is -0.1999999999999993? Find out at:\n",
        "# https://stackoverflow.com/questions/588004/is-floating-point-math-broken"
      ]
    },
    {
      "cell_type": "code",
      "execution_count": null,
      "metadata": {
        "colab": {
          "base_uri": "https://localhost:8080/"
        },
        "id": "jDjUV69ERpEz",
        "outputId": "02bfddfb-c457-4c28-9849-652f6bc82ea0"
      },
      "outputs": [
        {
          "name": "stdout",
          "output_type": "stream",
          "text": [
            "False\n",
            "True\n"
          ]
        }
      ],
      "source": [
        "# USING THE OBJECT EXAMPLES\n",
        "print(z1 == z2)\n",
        "z3 = Complex_number(6, 9) \n",
        "print(z1 == z3)"
      ]
    },
    {
      "cell_type": "markdown",
      "metadata": {
        "id": "2qlPhYcJTgNf"
      },
      "source": [
        "##  SUBCLASS"
      ]
    },
    {
      "cell_type": "code",
      "execution_count": null,
      "metadata": {
        "id": "824WM-DmTYuk"
      },
      "outputs": [],
      "source": [
        "# SUBCLASS\n",
        "# You can re-define any method of Complex_number, or\n",
        "# add new methods, new attributes in Imaginary_number\n",
        "class Imaginary_number(Complex_number):\n",
        "    def __init__(self, *args): \n",
        "        if len(args) == 1:\n",
        "            self.removed_real_part = None\n",
        "            imaginary_part = args[0]\n",
        "        else: # len(args) == 2\n",
        "            self.removed_real_part = args[0]\n",
        "            imaginary_part = args[1]\n",
        "\n",
        "        # 2 ways to initialize:\n",
        "        # super().__init__(0, imaginary_part)\n",
        "        Complex_number.__init__(self, 0, imaginary_part)\n",
        "\n",
        "    def __str__(self):\n",
        "        return 'Imaginary number (%si)' % (self.imaginary)"
      ]
    },
    {
      "cell_type": "markdown",
      "metadata": {
        "id": "jwEp33k-V0J-"
      },
      "source": [
        "###  USING THE SUBCLASS EXAMPLES"
      ]
    },
    {
      "cell_type": "code",
      "execution_count": null,
      "metadata": {
        "colab": {
          "base_uri": "https://localhost:8080/"
        },
        "id": "A6SuRRkiUxGW",
        "outputId": "d5043c7f-2e53-4121-d371-20be9b0bd38e"
      },
      "outputs": [
        {
          "name": "stdout",
          "output_type": "stream",
          "text": [
            "Imaginary number (8i)\n",
            "Removed real part: 3\n",
            "Modulus: 8.0\n"
          ]
        }
      ],
      "source": [
        "# USING THE SUBCLASS EXAMPLES\n",
        "img1 = Imaginary_number(3, 8)\n",
        "print(img1)\n",
        "print('Removed real part:', img1.removed_real_part)\n",
        "print('Modulus:', img1.modulus())"
      ]
    },
    {
      "cell_type": "code",
      "execution_count": null,
      "metadata": {
        "colab": {
          "base_uri": "https://localhost:8080/"
        },
        "id": "lYgKRZpme7SQ",
        "outputId": "93e3a8da-1edc-48b1-8a6b-aa16b3682a0f"
      },
      "outputs": [
        {
          "name": "stdout",
          "output_type": "stream",
          "text": [
            "Imaginary number (4i)\n",
            "Removed real part: None\n",
            "Modulus: 4.0\n"
          ]
        }
      ],
      "source": [
        "# USING THE SUBCLASS EXAMPLES\n",
        "img2 = Imaginary_number(4)\n",
        "print(img2)\n",
        "print('Removed real part:', img2.removed_real_part)\n",
        "print('Modulus:', img2.modulus())"
      ]
    },
    {
      "cell_type": "markdown",
      "metadata": {
        "id": "pzePduBEai0n"
      },
      "source": [
        "# CHAPTER 9: TESTING, DEBUGGING, EXCEPTIONS AND ASSERTIONS"
      ]
    },
    {
      "cell_type": "markdown",
      "metadata": {
        "id": "gh7rBDPJo9h5"
      },
      "source": [
        "## TESTING AND DEBUGGING"
      ]
    },
    {
      "cell_type": "markdown",
      "metadata": {
        "id": "WrNJzEemX4WM"
      },
      "source": [
        "By now, you have done this every time an error occurs in your code, so this is pretty both too easy and too hard to be explained in this notebook. Therefore, I will not explain about it here."
      ]
    },
    {
      "cell_type": "markdown",
      "metadata": {
        "id": "ECirOaQHtI9r"
      },
      "source": [
        "##  EXCEPTIONS"
      ]
    },
    {
      "cell_type": "markdown",
      "metadata": {
        "id": "enePJtg6wBKT"
      },
      "source": [
        "###  COMMON BUILT-IN EXCEPTIONS"
      ]
    },
    {
      "cell_type": "code",
      "execution_count": null,
      "metadata": {
        "id": "dULr-V98tHy7"
      },
      "outputs": [],
      "source": [
        "# COMMON BUILT-IN EXCEPTIONS\n",
        "lst = [0, 1, 2]"
      ]
    },
    {
      "cell_type": "markdown",
      "metadata": {
        "id": "D9dZJ4_JYFS4"
      },
      "source": [
        "```\n",
        "print(lst[4])\n",
        "IndexError: list index out of range\n",
        "\n",
        "print(int(lst))\n",
        "TypeError: int() argument must be a string, a bytes-like object or a number, not 'list'\n",
        "\n",
        "print(an_undefined_a_variable)\n",
        "NameError: name 'an_undefined_a_variable' is not defined\n",
        "\n",
        "print(a\n",
        "\n",
        "    print(a\n",
        "           ^\n",
        "SyntaxError: unexpected EOF while parsing\n",
        "\n",
        "print(lst.mnpq)\n",
        "AttributeError: 'list' object has no attribute 'mnpq'\n",
        "\n",
        "print(6 / 0)\n",
        "ZeroDivisionError: division by zero\n",
        "\n",
        "print(int('?'))\n",
        "ValueError: invalid literal for int() with base 10: '?'\n",
        "\n",
        "f = open('????')\n",
        "FileNotFoundError: [Errno 2] No such file or directory: '????'\n",
        "```"
      ]
    },
    {
      "cell_type": "markdown",
      "metadata": {
        "id": "tdwpchw7wUat"
      },
      "source": [
        "###  (INPUT) HANDLING SPECIFIC EXCEPTIONS"
      ]
    },
    {
      "cell_type": "code",
      "execution_count": null,
      "metadata": {
        "colab": {
          "base_uri": "https://localhost:8080/"
        },
        "id": "6cV5a13auGqQ",
        "outputId": "cbdb78b4-1531-4c91-f5e1-745a850ce518"
      },
      "outputs": [
        {
          "name": "stdout",
          "output_type": "stream",
          "text": [
            "a = 4\n",
            "b = 8\n",
            "0.5\n",
            "Done\n"
          ]
        }
      ],
      "source": [
        "# HANDLING SPECIFIC EXCEPTIONS\n",
        "try:\n",
        "    a = float(input('a = '))\n",
        "    b = float(input('b = '))\n",
        "    res = a / b\n",
        "\n",
        "except ValueError: # Handling a specific exception in try clause\n",
        "    print('Unable to convert to number')\n",
        "except ZeroDivisionError:\n",
        "    print('Unable to divide by 0')\n",
        "\n",
        "except: # Handling any other exception in try clause\n",
        "    print('Another error')\n",
        "\n",
        "else: # Only execute if the try clause does not raise any exception\n",
        "    print(res)\n",
        "\n",
        "finally: # Always execute\n",
        "    print('Done')\n"
      ]
    },
    {
      "cell_type": "markdown",
      "metadata": {
        "id": "Lry28xIgYVD2"
      },
      "source": [
        "```\n",
        "a = sfgopsgspg\n",
        "Unable to convert to number\n",
        "Done\n",
        "\n",
        "a = 4\n",
        "b = 0\n",
        "Unable to divide by 0\n",
        "Done\n",
        "\n",
        "a = 4\n",
        "b = 8\n",
        "0.5\n",
        "Done\n",
        "```"
      ]
    },
    {
      "cell_type": "markdown",
      "metadata": {
        "id": "ncafXK_M_c7I"
      },
      "source": [
        "###  `raise` AN EXCEPTION"
      ]
    },
    {
      "cell_type": "markdown",
      "metadata": {
        "id": "LtasWxpcYbOQ"
      },
      "source": [
        "```\n",
        "raise ValueError('This is a value exception')\n",
        "\n",
        "---------------------------------------------------------------------------\n",
        "ValueError                                Traceback (most recent call last)\n",
        "<ipython-input-116-d1990690242c> in <module>()\n",
        "----> 1 raise ValueError('This is a value exception')\n",
        "\n",
        "ValueError: This is a value exception\n",
        "```"
      ]
    },
    {
      "cell_type": "markdown",
      "metadata": {
        "id": "knSTsU4GACDK"
      },
      "source": [
        "###  (INPUT) DEFINE AN EXCEPTION"
      ]
    },
    {
      "cell_type": "code",
      "execution_count": null,
      "metadata": {
        "colab": {
          "base_uri": "https://localhost:8080/"
        },
        "id": "hriWIBoxAAB8",
        "outputId": "ba30e538-7f8b-41b9-98aa-9d2de1958829"
      },
      "outputs": [
        {
          "name": "stdout",
          "output_type": "stream",
          "text": [
            "Date = 66-99-6969\n",
            "The date is: 66-99-6969\n"
          ]
        }
      ],
      "source": [
        "# DEFINE AN EXCEPTION\n",
        "class DateFormatError(Exception):\n",
        "    pass\n",
        "\n",
        "# Raise the exception if the string is not of the format '??-??-????'\n",
        "# ? is a number, from 0-9\n",
        "\n",
        "def num_args_check(date):\n",
        "    dmy_lst = date.split('-')\n",
        "    if len(dmy_lst) == 3:\n",
        "        return True\n",
        "    return False\n",
        "\n",
        "def numeric_check(date):\n",
        "    dmy_lst = date.split('-')\n",
        "    for arg in dmy_lst:\n",
        "        if not arg.isnumeric():\n",
        "            return False\n",
        "    return True\n",
        "\n",
        "def args_len_check(date):\n",
        "    dmy_lst = date.split('-')\n",
        "    len_lst = [len(dmy_lst[i]) for i in range(3)]\n",
        "    if tuple(len_lst) == (2, 2, 4):\n",
        "        return True\n",
        "    return False\n",
        "\n",
        "date = input('Date = ')\n",
        "\n",
        "if not num_args_check(date):\n",
        "    raise DateFormatError(\n",
        "            'There must be 3 arguments for day-month-year, respectively')\n",
        "if not numeric_check(date):\n",
        "    raise DateFormatError(\n",
        "            'At least one of 3 arguments is not numeric')\n",
        "if not args_len_check(date):\n",
        "    raise DateFormatError(\n",
        "            'len() of 3 arguments must be 2, 2, 4, respectively')\n",
        "    \n",
        "print('The date is: %s' % date)"
      ]
    },
    {
      "cell_type": "markdown",
      "metadata": {
        "id": "QqzVewBOYqAU"
      },
      "source": [
        "```\n",
        "Date = 41-14-6161-3\n",
        "DateFormatError: There must be 3 arguments for day-month-year, respectively\n",
        "\n",
        "Date = 1-12-4251\n",
        "DateFormatError: len() of 3 arguments must be 2, 2, 4, respectively\n",
        "\n",
        "Date = 30-12-200x\n",
        "DateFormatError: At least one of 3 arguments is not numeric\n",
        "\n",
        "Date = 66-99-6969\n",
        "The date is: 66-99-6969\n",
        "```"
      ]
    },
    {
      "cell_type": "markdown",
      "metadata": {
        "id": "ZfcZuNtaG282"
      },
      "source": [
        "###  `unittest` MODULE"
      ]
    },
    {
      "cell_type": "markdown",
      "metadata": {
        "id": "aI79dfV8Yv79"
      },
      "source": [
        "A module to test your program (in a big project).\n",
        "\n",
        "(I believe) this one will not appear in the final test, this is the documentation, though:\n",
        "\n",
        "[https://docs.python.org/3/library/unittest.html](https://docs.python.org/3/library/unittest.html)"
      ]
    },
    {
      "cell_type": "markdown",
      "metadata": {
        "id": "O14Q7Mf5y6EP"
      },
      "source": [
        "# APPENDIX: SOME IMPORTANT MODULES FOR MATHEMATICS, DATA SCIENCE AND MACHINE LEARNING"
      ]
    },
    {
      "cell_type": "markdown",
      "metadata": {
        "id": "yN6nyMGHzqTF"
      },
      "source": [
        "## `random`\n",
        "\n"
      ]
    },
    {
      "cell_type": "code",
      "execution_count": null,
      "metadata": {
        "id": "NtTlZPIS5T_4"
      },
      "outputs": [],
      "source": [
        "# random\n",
        "# Documentation: https://docs.python.org/3/library/random.html\n",
        "import random"
      ]
    },
    {
      "cell_type": "markdown",
      "metadata": {
        "id": "1LEHUF7r47xN"
      },
      "source": [
        "### INTEGERS"
      ]
    },
    {
      "cell_type": "code",
      "execution_count": null,
      "metadata": {
        "colab": {
          "base_uri": "https://localhost:8080/"
        },
        "id": "6DZkYt0iy5jd",
        "outputId": "c94958d4-10b3-4cba-a87a-8a5b7c0b5a8a"
      },
      "outputs": [
        {
          "name": "stdout",
          "output_type": "stream",
          "text": [
            "1\n",
            "22\n"
          ]
        }
      ],
      "source": [
        "# INTEGERS\n",
        "print(random.randrange(10))\n",
        "# a random number in range(10)\n",
        "print(random.randrange(22, 29, 2))\n",
        "# a random number in range(22, 29, 2), which are 22, 24, 26 and 28"
      ]
    },
    {
      "cell_type": "markdown",
      "metadata": {
        "id": "N2R2-A0N4_qt"
      },
      "source": [
        "### SEQUENCE"
      ]
    },
    {
      "cell_type": "code",
      "execution_count": null,
      "metadata": {
        "colab": {
          "base_uri": "https://localhost:8080/"
        },
        "id": "tt_EoJSZ1S7B",
        "outputId": "5acd633b-da28-4716-a061-e4dd758cab1b"
      },
      "outputs": [
        {
          "name": "stdout",
          "output_type": "stream",
          "text": [
            "5\n",
            "[8, 5]\n"
          ]
        }
      ],
      "source": [
        "# SEQUENCE\n",
        "seq = [3, 5, 0, 8]\n",
        "print(random.choice(seq))\n",
        "# choose a random element in a sequence\n",
        "print(random.choices(seq, k = 2))\n",
        "# choose a random element twice in a sequence"
      ]
    },
    {
      "cell_type": "code",
      "execution_count": null,
      "metadata": {
        "colab": {
          "base_uri": "https://localhost:8080/"
        },
        "id": "0xLQjMyQ1ba0",
        "outputId": "72a887e9-d640-47c9-f680-fac5b9de3fcd"
      },
      "outputs": [
        {
          "name": "stdout",
          "output_type": "stream",
          "text": [
            "[5, 0]\n",
            "[3, 0, 8, 5]\n"
          ]
        }
      ],
      "source": [
        "# SEQUENCE\n",
        "print(random.sample(seq, 2))\n",
        "# choose two random elements in a sequence\n",
        "print(random.sample(seq, len(seq)))\n",
        "# alias of random.shuffle, since it is...\n",
        "# Deprecated since version 3.9, will be removed in version 3.11"
      ]
    },
    {
      "cell_type": "markdown",
      "metadata": {
        "id": "ycG0CKls5E77"
      },
      "source": [
        "### REAL NUMBERS"
      ]
    },
    {
      "cell_type": "code",
      "execution_count": null,
      "metadata": {
        "colab": {
          "base_uri": "https://localhost:8080/"
        },
        "id": "RfuJUHMN3aSy",
        "outputId": "876a88e5-e7f1-424c-dd84-b1e3ce8674c7"
      },
      "outputs": [
        {
          "name": "stdout",
          "output_type": "stream",
          "text": [
            "0.15902495606438138\n",
            "3.504131258751076\n"
          ]
        }
      ],
      "source": [
        "# REAL NUMBERS\n",
        "print(random.random())\n",
        "# a random number in the interval [0.0, 1.0)\n",
        "print(random.uniform(3.0, 5.0))\n",
        "# a random number between 3.0 and 5.0\n",
        "# the end-point might or might not be included,\n",
        "# read more in documentation"
      ]
    },
    {
      "cell_type": "markdown",
      "metadata": {
        "id": "vrYHBNQP5bBy"
      },
      "source": [
        "## `time`"
      ]
    },
    {
      "cell_type": "code",
      "execution_count": null,
      "metadata": {
        "id": "N-3LmDWH5hFt"
      },
      "outputs": [],
      "source": [
        "# time\n",
        "# Documentation: https://docs.python.org/3/library/time.html\n",
        "import time"
      ]
    },
    {
      "cell_type": "code",
      "execution_count": null,
      "metadata": {
        "colab": {
          "base_uri": "https://localhost:8080/"
        },
        "id": "fLXKXv0155uB",
        "outputId": "2887ab41-3994-46b5-e17c-e6093d4f0b3c"
      },
      "outputs": [
        {
          "name": "stdout",
          "output_type": "stream",
          "text": [
            "before\n",
            "after\n"
          ]
        }
      ],
      "source": [
        "# time\n",
        "print('before')\n",
        "time.sleep(0.5)\n",
        "# suspend execution for the given number of seconds\n",
        "print('after')"
      ]
    },
    {
      "cell_type": "code",
      "execution_count": null,
      "metadata": {
        "colab": {
          "base_uri": "https://localhost:8080/"
        },
        "id": "0WP7MN3J6TGG",
        "outputId": "d632dc0f-f437-4eb0-9234-98b77f4f5a26"
      },
      "outputs": [
        {
          "name": "stdout",
          "output_type": "stream",
          "text": [
            "1628488096.9642045\n"
          ]
        }
      ],
      "source": [
        "# time \n",
        "print(time.time())\n",
        "# Return the time in seconds since the epoch as a floating point number"
      ]
    },
    {
      "cell_type": "code",
      "execution_count": null,
      "metadata": {
        "colab": {
          "base_uri": "https://localhost:8080/"
        },
        "id": "Jn6B3Dze60ly",
        "outputId": "752b257d-3597-4791-9e4f-6e21d959c174"
      },
      "outputs": [
        {
          "name": "stdout",
          "output_type": "stream",
          "text": [
            "1628488096.9813864\n",
            "0 1 2 3 4 \n",
            "1628488096.9855316\n",
            "0.004145145416259766\n"
          ]
        }
      ],
      "source": [
        "# time\n",
        "# measure execution time\n",
        "time_before = time.time()\n",
        "print(time_before)\n",
        "\n",
        "for i in range(5):\n",
        "    print(i, end = ' ')\n",
        "time_after = time.time()\n",
        "\n",
        "print('\\n%s' % time_after)\n",
        "\n",
        "print(time_after - time_before)"
      ]
    },
    {
      "cell_type": "markdown",
      "metadata": {
        "id": "1COm96U_7xyp"
      },
      "source": [
        "## `math`"
      ]
    },
    {
      "cell_type": "code",
      "execution_count": null,
      "metadata": {
        "id": "42emHj7R7xgq"
      },
      "outputs": [],
      "source": [
        "# math\n",
        "# Documentation: https://docs.python.org/3/library/math.html\n",
        "import math"
      ]
    },
    {
      "cell_type": "markdown",
      "metadata": {
        "id": "g39zYr1x79-H"
      },
      "source": [
        "### CONSTANTS"
      ]
    },
    {
      "cell_type": "code",
      "execution_count": null,
      "metadata": {
        "colab": {
          "base_uri": "https://localhost:8080/"
        },
        "id": "Nxmqy66Y78I9",
        "outputId": "e3b20e70-6002-48bf-8303-bbef584dffdc"
      },
      "outputs": [
        {
          "name": "stdout",
          "output_type": "stream",
          "text": [
            "3.141592653589793\n",
            "2.718281828459045\n",
            "inf\n",
            "nan\n"
          ]
        }
      ],
      "source": [
        "# CONSTANTS\n",
        "print(math.pi)\n",
        "print(math.e)\n",
        "print(math.inf)\n",
        "print(math.nan)"
      ]
    },
    {
      "cell_type": "markdown",
      "metadata": {
        "id": "OO6YP9Mz8bQB"
      },
      "source": [
        "### NUMBER-THEORETIC AND REPRESENTATION FUNCTIONS"
      ]
    },
    {
      "cell_type": "code",
      "execution_count": null,
      "metadata": {
        "colab": {
          "base_uri": "https://localhost:8080/"
        },
        "id": "PMnAepSj8ajN",
        "outputId": "7d6e563d-a1ee-4221-92e7-1d30fe40c7a8"
      },
      "outputs": [
        {
          "name": "stdout",
          "output_type": "stream",
          "text": [
            "4\n",
            "8\n"
          ]
        }
      ],
      "source": [
        "# NUMBER-THEORETIC AND REPRESENTATION FUNCTIONS\n",
        "print(math.ceil(3.01))\n",
        "# the smallest integer greater than or equal to given number\n",
        "print(math.floor(8.99))\n",
        "# the largest integer less than or equal to given number"
      ]
    },
    {
      "cell_type": "code",
      "execution_count": null,
      "metadata": {
        "colab": {
          "base_uri": "https://localhost:8080/"
        },
        "id": "x9O329kY9_4O",
        "outputId": "0c3c0f81-f292-4507-857e-132b575f895a"
      },
      "outputs": [
        {
          "name": "stdout",
          "output_type": "stream",
          "text": [
            "5\n"
          ]
        }
      ],
      "source": [
        "# NUMBER-THEORETIC AND REPRESENTATION FUNCTIONS\n",
        "print(math.gcd(15, 20))"
      ]
    },
    {
      "cell_type": "code",
      "execution_count": null,
      "metadata": {
        "colab": {
          "base_uri": "https://localhost:8080/"
        },
        "id": "9MiE5zlf-hQf",
        "outputId": "259cef11-36b2-480a-fd67-71ac2778c9e0"
      },
      "outputs": [
        {
          "name": "stdout",
          "output_type": "stream",
          "text": [
            "0.30000000000000004\n",
            "False\n"
          ]
        },
        {
          "data": {
            "text/plain": [
              "True"
            ]
          },
          "execution_count": 128,
          "metadata": {
            "tags": []
          },
          "output_type": "execute_result"
        }
      ],
      "source": [
        "# NUMBER-THEORETIC AND REPRESENTATION FUNCTIONS\n",
        "print(.1 + .2)\n",
        "print(.1 + .2 == .3)\n",
        "math.isclose(.1 + .2, .3)"
      ]
    },
    {
      "cell_type": "code",
      "execution_count": null,
      "metadata": {
        "colab": {
          "base_uri": "https://localhost:8080/"
        },
        "id": "M6djw4lI-wnm",
        "outputId": "06e98dad-c59a-4981-bf46-450f42c57978"
      },
      "outputs": [
        {
          "name": "stdout",
          "output_type": "stream",
          "text": [
            "True\n",
            "False\n",
            "False\n",
            "\n",
            "False\n",
            "True\n",
            "False\n",
            "\n",
            "False\n",
            "False\n",
            "True\n"
          ]
        }
      ],
      "source": [
        "# NUMBER-THEORETIC AND REPRESENTATION FUNCTIONS\n",
        "print(math.isfinite(999999999999999))\n",
        "print(math.isfinite(math.inf))\n",
        "print(math.isfinite(math.nan))\n",
        "# nan is not finite\n",
        "print()\n",
        "\n",
        "print(math.isinf(999999999999999))\n",
        "print(math.isinf(math.inf))\n",
        "print(math.isinf(math.nan))\n",
        "# nan is not infinite\n",
        "print()\n",
        "\n",
        "print(math.isnan(999999999999999))\n",
        "print(math.isnan(math.inf))\n",
        "print(math.isnan(math.nan))"
      ]
    },
    {
      "cell_type": "code",
      "execution_count": null,
      "metadata": {
        "colab": {
          "base_uri": "https://localhost:8080/"
        },
        "id": "y_vzTWIY_1bH",
        "outputId": "b1502652-7123-402b-ddc5-33e955b0058b"
      },
      "outputs": [
        {
          "name": "stdout",
          "output_type": "stream",
          "text": [
            "3\n",
            "3\n"
          ]
        }
      ],
      "source": [
        "# NUMBER-THEORETIC AND REPRESENTATION FUNCTIONS\n",
        "print(math.trunc(3.9))\n",
        "print(math.trunc(3.1))\n",
        "# truncated to an integral"
      ]
    },
    {
      "cell_type": "markdown",
      "metadata": {
        "id": "vFASdvLDAwS_"
      },
      "source": [
        "### POWER AND LOGARITHMIC FUNCTIONS"
      ]
    },
    {
      "cell_type": "code",
      "execution_count": null,
      "metadata": {
        "colab": {
          "base_uri": "https://localhost:8080/"
        },
        "id": "gYiknK3bAvgW",
        "outputId": "32f69dcc-8376-4517-ffe5-9f465470d74e"
      },
      "outputs": [
        {
          "name": "stdout",
          "output_type": "stream",
          "text": [
            "20.085536923187668\n",
            "20.085536923187664\n"
          ]
        }
      ],
      "source": [
        "# POWER AND LOGARITHMIC FUNCTIONS\n",
        "print(math.exp(3)) # e^3\n",
        "print(math.e ** 3)\n",
        "# more accurate"
      ]
    },
    {
      "cell_type": "code",
      "execution_count": null,
      "metadata": {
        "colab": {
          "base_uri": "https://localhost:8080/"
        },
        "id": "SAemd5ssBSz-",
        "outputId": "ad2bff9a-d6d8-428e-9144-2cf80b447ce9"
      },
      "outputs": [
        {
          "name": "stdout",
          "output_type": "stream",
          "text": [
            "1.0986122886681098\n",
            "\n",
            "2.321928094887362\n",
            "2.321928094887362\n",
            "\n",
            "2.0043213737826426\n"
          ]
        }
      ],
      "source": [
        "# POWER AND LOGARITHMIC FUNCTIONS\n",
        "print(math.log(3))\n",
        "# natural logarithm of 3\n",
        "print()\n",
        "\n",
        "print(math.log(5, 2))\n",
        "# logarithm of 5 to the base 2\n",
        "print(math.log2(5))\n",
        "# more accurate\n",
        "print()\n",
        "\n",
        "print(math.log10(101))"
      ]
    },
    {
      "cell_type": "code",
      "execution_count": null,
      "metadata": {
        "colab": {
          "base_uri": "https://localhost:8080/"
        },
        "id": "Od93V0BrCPEs",
        "outputId": "7b3a6011-05a7-4a64-e5c1-77bbc56e1184"
      },
      "outputs": [
        {
          "name": "stdout",
          "output_type": "stream",
          "text": [
            "40.84101000000001\n",
            "40.84101000000001\n",
            "\n",
            "2.3664319132398464\n",
            "2.3664319132398464\n"
          ]
        }
      ],
      "source": [
        "# POWER AND LOGARITHMIC FUNCTIONS\n",
        "print(math.pow(2.1, 5.0))\n",
        "print(2.1 ** 5.0)\n",
        "# more accurate\n",
        "print()\n",
        "\n",
        "print(math.sqrt(5.6))\n",
        "print(5.6 ** 0.5)\n",
        "# more accurate"
      ]
    },
    {
      "cell_type": "markdown",
      "metadata": {
        "id": "-t2Q_GHRC74c"
      },
      "source": [
        "### TRIGONOMETRIC FUNCTIONS"
      ]
    },
    {
      "cell_type": "code",
      "execution_count": null,
      "metadata": {
        "colab": {
          "base_uri": "https://localhost:8080/"
        },
        "id": "TZh6K5HsC-v5",
        "outputId": "87aa3ad8-fd41-4254-e8df-84e2cf06f0bf"
      },
      "outputs": [
        {
          "name": "stdout",
          "output_type": "stream",
          "text": [
            "1.0\n",
            "6.123233995736766e-17\n",
            "1.633123935319537e+16\n",
            "\n",
            "0.0\n",
            "1.5707963267948966\n",
            "0.7853981633974483\n"
          ]
        }
      ],
      "source": [
        "# TRIGONOMETRIC FUNCTIONS\n",
        "# all angle units are radians\n",
        "print(math.sin(math.pi / 2))\n",
        "print(math.cos(math.pi / 2))\n",
        "print(math.tan(math.pi / 2))\n",
        "print()\n",
        "\n",
        "print(math.acos(1.0))\n",
        "# arc cosine\n",
        "print(math.asin(1.0))\n",
        "print(math.atan(1.0))\n"
      ]
    },
    {
      "cell_type": "markdown",
      "metadata": {
        "id": "DvCtPpitENa-"
      },
      "source": [
        "### ANGULAR CONVERSION"
      ]
    },
    {
      "cell_type": "code",
      "execution_count": null,
      "metadata": {
        "colab": {
          "base_uri": "https://localhost:8080/"
        },
        "id": "TFIeZ3IwEO3T",
        "outputId": "26705be4-b132-49ab-ef32-25e5393a33e1"
      },
      "outputs": [
        {
          "name": "stdout",
          "output_type": "stream",
          "text": [
            "90.0\n",
            "1.5707963267948966\n"
          ]
        }
      ],
      "source": [
        "# ANGULAR CONVERSION\n",
        "print(math.degrees(math.pi / 2))\n",
        "print(math.radians(90))"
      ]
    },
    {
      "cell_type": "markdown",
      "metadata": {
        "id": "joMoeBga4qZK"
      },
      "source": [
        "## `numpy`"
      ]
    },
    {
      "cell_type": "code",
      "execution_count": null,
      "metadata": {
        "id": "ZvVip1Ba4qGJ"
      },
      "outputs": [],
      "source": [
        "# numpy\n",
        "# Documentation: https://numpy.org/doc/\n",
        "import numpy as np"
      ]
    },
    {
      "cell_type": "markdown",
      "metadata": {
        "id": "fKaFg-yM69Ou"
      },
      "source": [
        "### ARRAY CREATION"
      ]
    },
    {
      "cell_type": "code",
      "execution_count": null,
      "metadata": {
        "colab": {
          "base_uri": "https://localhost:8080/"
        },
        "id": "Z2OQKnAA6yJ2",
        "outputId": "59a0a1a1-d6ee-4c5f-f2cf-53d46cda192f"
      },
      "outputs": [
        {
          "name": "stdout",
          "output_type": "stream",
          "text": [
            "[1 4 6 9]\n",
            "[[1 3]\n",
            " [6 9]]\n",
            "[[3.2 2.1]\n",
            " [6.  1.3]]\n",
            "\n",
            "[6. 9. 3. 0.]\n",
            "[[3 2]\n",
            " [6 1]]\n"
          ]
        }
      ],
      "source": [
        "# ARRAY CREATION\n",
        "print(np.array( [1, 4, 6, 9] ))\n",
        "print(np.array( ((1, 3), (6, 9)) ))\n",
        "print(np.array( [(3.2, 2.1), (6.0, 1.3)] ))\n",
        "# a list/tuple of lists/tuples of... is allowed\n",
        "print()\n",
        "\n",
        "print(np.array( [6, 9, 3, 0], dtype = float ))\n",
        "print(np.array( [(3.2, 2.1), (6.7, 1.3)], dtype = np.int8 ))\n",
        "# there are a lot of data types available,\n",
        "# check it out in the documentation"
      ]
    },
    {
      "cell_type": "code",
      "execution_count": null,
      "metadata": {
        "colab": {
          "base_uri": "https://localhost:8080/"
        },
        "id": "5ANUPnyy7Crt",
        "outputId": "700527b9-2fe1-4ea1-8e18-4d4f5e2fe286"
      },
      "outputs": [
        {
          "name": "stdout",
          "output_type": "stream",
          "text": [
            "[0 1 2 3 4 5 6 7 8 9]\n",
            "[21.2 18.7 16.2 13.7 11.2  8.7]\n",
            "\n",
            "[2.3   2.925 3.55  4.175 4.8  ]\n"
          ]
        }
      ],
      "source": [
        "# ARRAY CREATION\n",
        "print(np.arange(10))\n",
        "print(np.arange(21.2, 8.1, -2.5))\n",
        "# floats can be passed to arange \n",
        "print()\n",
        "\n",
        "print(np.linspace(2.3, 4.8, 5))\n",
        "# arrays with a specified number of elements, \n",
        "# and spaced equally between the specified beginning and end values"
      ]
    },
    {
      "cell_type": "code",
      "execution_count": null,
      "metadata": {
        "colab": {
          "base_uri": "https://localhost:8080/"
        },
        "id": "IVrXwxrOAVF0",
        "outputId": "2024195e-7514-4cf1-ed95-e3c46ea2b29f"
      },
      "outputs": [
        {
          "name": "stdout",
          "output_type": "stream",
          "text": [
            "[[1. 0. 0.]\n",
            " [0. 1. 0.]\n",
            " [0. 0. 1.]]\n",
            "[[3 0 0]\n",
            " [0 4 0]\n",
            " [0 0 5]]\n"
          ]
        }
      ],
      "source": [
        "# ARRAY CREATION\n",
        "# most types of special two-dimensional matrices in linear algebra\n",
        "# can be created using np functions, find out more in the documentation\n",
        "print(np.eye(3))\n",
        "print(np.diag([3, 4, 5]))"
      ]
    },
    {
      "cell_type": "code",
      "execution_count": null,
      "metadata": {
        "colab": {
          "base_uri": "https://localhost:8080/"
        },
        "id": "bOwz6noC7C2y",
        "outputId": "16d84ccd-b3cf-428d-f9aa-bb94637277a5"
      },
      "outputs": [
        {
          "name": "stdout",
          "output_type": "stream",
          "text": [
            "[[0. 0. 0.]\n",
            " [0. 0. 0.]]\n",
            "\n",
            "[[[1. 1. 1. 1.]\n",
            "  [1. 1. 1. 1.]]\n",
            "\n",
            " [[1. 1. 1. 1.]\n",
            "  [1. 1. 1. 1.]]\n",
            "\n",
            " [[1. 1. 1. 1.]\n",
            "  [1. 1. 1. 1.]]]\n"
          ]
        }
      ],
      "source": [
        "# ARRAY CREATION\n",
        "print(np.zeros((2, 3)))\n",
        "print()\n",
        "print(np.ones((3, 2, 4)))"
      ]
    },
    {
      "cell_type": "markdown",
      "metadata": {
        "id": "0fgkN750AtRd"
      },
      "source": [
        "### INDEXING"
      ]
    },
    {
      "cell_type": "code",
      "execution_count": null,
      "metadata": {
        "colab": {
          "base_uri": "https://localhost:8080/"
        },
        "id": "YJv8x6xzApWe",
        "outputId": "178e634b-cbc8-417a-aa0b-97aa7c2e88c1"
      },
      "outputs": [
        {
          "name": "stdout",
          "output_type": "stream",
          "text": [
            "[ 3.3  4.4  5.5  6.6  7.7  8.8  9.9 11. ]\n",
            "9.900000000000002\n",
            "[ 9.9 11. ]\n"
          ]
        }
      ],
      "source": [
        "# INDEXING\n",
        "np_arr = np.arange(3.3, 12, 1.1)\n",
        "print(np_arr)\n",
        "print(np_arr[-2])\n",
        "print(np_arr[-2:])\n",
        "# slicing np array is exactly the same as slicing python list "
      ]
    },
    {
      "cell_type": "code",
      "execution_count": null,
      "metadata": {
        "colab": {
          "base_uri": "https://localhost:8080/"
        },
        "id": "a8fdtztQAyxL",
        "outputId": "8b2c1737-ebed-4d82-8869-2f57d6f0b18b"
      },
      "outputs": [
        {
          "name": "stdout",
          "output_type": "stream",
          "text": [
            "(8,)\n",
            "(2, 4)\n",
            "[[ 3.3  4.4  5.5  6.6]\n",
            " [ 7.7  8.8  9.9 11. ]]\n"
          ]
        }
      ],
      "source": [
        "# INDEXING\n",
        "print(np_arr.shape)\n",
        "np_arr.shape = (2, 4)\n",
        "print(np_arr.shape)\n",
        "print(np_arr)"
      ]
    },
    {
      "cell_type": "code",
      "execution_count": null,
      "metadata": {
        "colab": {
          "base_uri": "https://localhost:8080/"
        },
        "id": "brVp9FEKAy4T",
        "outputId": "ef20a3bd-745a-44ff-c327-de45cf0539e1"
      },
      "outputs": [
        {
          "name": "stdout",
          "output_type": "stream",
          "text": [
            "[ 7.7  8.8  9.9 11. ]\n",
            "9.900000000000002\n"
          ]
        }
      ],
      "source": [
        "# INDEXING\n",
        "print(np_arr[1])\n",
        "print(np_arr[1, 2])"
      ]
    },
    {
      "cell_type": "code",
      "execution_count": null,
      "metadata": {
        "colab": {
          "base_uri": "https://localhost:8080/"
        },
        "id": "0CUdq3AlAy-q",
        "outputId": "af6a6044-28c5-4431-a6c6-546398bc2a33"
      },
      "outputs": [
        {
          "name": "stdout",
          "output_type": "stream",
          "text": [
            "[0 1 2 3]\n",
            "[1 3 5 7]\n",
            "\n",
            "[ 1 -1  3]\n",
            "[3 7 7]\n",
            "\n",
            "[[1 0]\n",
            " [3 2]]\n",
            "[[3 1]\n",
            " [7 5]]\n",
            "\n"
          ]
        }
      ],
      "source": [
        "# INDEXING\n",
        "print(np.arange(4))\n",
        "np_arr_2 = np.arange(1, 8, 2)\n",
        "print(np_arr_2)\n",
        "print()\n",
        "\n",
        "index_arr = np.array([1, -1, 3])\n",
        "print(index_arr)\n",
        "print(np_arr_2[index_arr])\n",
        "# a np array can be used to select element\n",
        "print()\n",
        "\n",
        "index_arr_2 = np.array( [[1, 0], [3, 2]] )\n",
        "print(index_arr_2)\n",
        "print(np_arr_2[index_arr_2])\n",
        "print()\n",
        "# indexing np arrays which have more dimensions is more complicated,\n",
        "# read more in documentation"
      ]
    },
    {
      "cell_type": "code",
      "execution_count": null,
      "metadata": {
        "colab": {
          "base_uri": "https://localhost:8080/"
        },
        "id": "UA1I5cY2FFa2",
        "outputId": "9964d081-a7f0-4105-9128-a42f89bd5e2a"
      },
      "outputs": [
        {
          "name": "stdout",
          "output_type": "stream",
          "text": [
            "[0 1 2 3 4 5 6 7 8]\n",
            "[ True False  True False  True False  True False  True]\n",
            "[0 2 4 6 8]\n"
          ]
        }
      ],
      "source": [
        "# INDEXING\n",
        "np_arr_3 = np.arange(9)\n",
        "print(np_arr_3)\n",
        "index_arr_3 = np_arr_3 % 2 == 0\n",
        "print(index_arr_3)\n",
        "print(np_arr_3[index_arr_3])\n",
        "# in data science, filtering data is very important,\n",
        "# so this is a must-have tool"
      ]
    },
    {
      "cell_type": "markdown",
      "metadata": {
        "id": "cLHCrvUtGbiA"
      },
      "source": [
        "### BROADCASTING"
      ]
    },
    {
      "cell_type": "code",
      "execution_count": null,
      "metadata": {
        "colab": {
          "base_uri": "https://localhost:8080/"
        },
        "id": "YQ48LGyfGbQx",
        "outputId": "398fd045-528f-4cc2-db23-fcb995b1bc5a"
      },
      "outputs": [
        {
          "name": "stdout",
          "output_type": "stream",
          "text": [
            "[6 8 9]\n",
            "[1 1 1]\n",
            "[ 7  9 10]\n"
          ]
        }
      ],
      "source": [
        "# BROADCASTING\n",
        "# the term broadcasting describes how np treats arrays \n",
        "# with different shapes during arithmetic operations\n",
        "np_arr_a = np.array([6, 8, 9])\n",
        "print(np_arr_a)\n",
        "np_arr_b = np.ones(3, dtype = np.int8)\n",
        "print(np_arr_b)\n",
        "print(np_arr_a + np_arr_b)"
      ]
    },
    {
      "cell_type": "code",
      "execution_count": null,
      "metadata": {
        "colab": {
          "base_uri": "https://localhost:8080/"
        },
        "id": "ilpYzVx-GeuH",
        "outputId": "68ae51a6-efe9-4de1-ca6a-90c4f7a24ca2"
      },
      "outputs": [
        {
          "name": "stdout",
          "output_type": "stream",
          "text": [
            "[ 7  9 10]\n"
          ]
        }
      ],
      "source": [
        "# BROADCASTING\n",
        "print(np_arr_a + 1)\n",
        "# read more about general broadcasting rules for \n",
        "# more-dimensional-arrays in the documentation"
      ]
    },
    {
      "cell_type": "markdown",
      "metadata": {
        "id": "Ine92GJFIT9S"
      },
      "source": [
        "### STRUCTURED ARRAYS"
      ]
    },
    {
      "cell_type": "code",
      "execution_count": null,
      "metadata": {
        "colab": {
          "base_uri": "https://localhost:8080/"
        },
        "id": "f3k8T2d4ITln",
        "outputId": "612c2cc4-90b1-4313-fd0f-495e0c14d7f1"
      },
      "outputs": [
        {
          "name": "stdout",
          "output_type": "stream",
          "text": [
            "[('Alan', 19, 169.2) ('Paul', 21, 172.3)]\n"
          ]
        }
      ],
      "source": [
        "# STRUCTURED ARRAYS\n",
        "# there are a lot of concepts for this type of array,\n",
        "# the following is only a simple example\n",
        "struct_arr = np.array([('Alan', 19, 169.2), ('Paul', 21, 172.3)],\n",
        "                      dtype = [('name', 'U10'), ('age', 'i4'), ('height', 'f4')]\n",
        "                      )\n",
        "print(struct_arr)"
      ]
    },
    {
      "cell_type": "markdown",
      "metadata": {
        "id": "7LEpeuaHK1RP"
      },
      "source": [
        "## MOST USED MODULES FOR MATHEMATICS, DATA SCIENCE AND MACHINE LEARNING"
      ]
    },
    {
      "cell_type": "markdown",
      "metadata": {
        "id": "WrwG6sS_LHNy"
      },
      "source": [
        "* TensorFlow: [https://www.tensorflow.org/](https://www.tensorflow.org/)\n",
        "* SciPy: [https://www.scipy.org/](https://www.scipy.org/)\n",
        "* Matplotlib: [https://matplotlib.org/](https://matplotlib.org/)\n",
        "* Pandas: [https://pandas.pydata.org/](https://pandas.pydata.org/)\n",
        "* Keras: [https://keras.io/](https://keras.io/)\n",
        "* scikit-learn: [https://scikit-learn.org/](https://scikit-learn.org/)\n",
        "* statsmodels: [https://www.statsmodels.org/](https://www.statsmodels.org/)\n",
        "* Plotly: [https://plotly.com/](https://plotly.com/)\n",
        "* Seaborn: [https://seaborn.pydata.org/](https://seaborn.pydata.org/)\n"
      ]
    }
  ],
  "metadata": {
    "colab": {
      "collapsed_sections": [],
      "name": "@htnm PYTHON LAST REVIEW.ipynb",
      "provenance": [],
      "toc_visible": true
    },
    "kernelspec": {
      "display_name": "Python 3",
      "name": "python3"
    },
    "language_info": {
      "name": "python"
    }
  },
  "nbformat": 4,
  "nbformat_minor": 0
}
