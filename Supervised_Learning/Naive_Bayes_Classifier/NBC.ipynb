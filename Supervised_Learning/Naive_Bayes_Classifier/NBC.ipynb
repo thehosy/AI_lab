{
 "cells": [
  {
   "cell_type": "markdown",
   "metadata": {},
   "source": [
    "***Written by Ho Sy The***\n",
    "\n",
    "Hanoi University of Science and Technology\n",
    "\n",
    "IT1 04 - K65.\n",
    "\n",
    "*Github: https://github.com/hsthe29*\n",
    "\n",
    "- **date: 2022-07-02**"
   ]
  },
  {
   "cell_type": "markdown",
   "metadata": {},
   "source": [
    "On this paper, I use Iris dataset and Email dataset"
   ]
  },
  {
   "cell_type": "markdown",
   "metadata": {},
   "source": [
    "Bayes Theorem formula:\n",
    "    P(y|X) = P(X|y) * P(y) / P(X)\n",
    "\n",
    "- P(y|X) : Posterior probability\n",
    "- P(X|y) : Likelihood\n",
    "- P(y)   : Prior probability\n",
    "- P(X)   : Independence, we can ignore this"
   ]
  },
  {
   "cell_type": "markdown",
   "metadata": {},
   "source": [
    "# Implementation"
   ]
  },
  {
   "cell_type": "code",
   "execution_count": 157,
   "metadata": {},
   "outputs": [
    {
     "data": {
      "text/plain": [
       "{'divide': 'warn', 'over': 'warn', 'under': 'ignore', 'invalid': 'warn'}"
      ]
     },
     "execution_count": 157,
     "metadata": {},
     "output_type": "execute_result"
    }
   ],
   "source": [
    "import numpy as np\n",
    "from sklearn import datasets\n",
    "from sklearn.model_selection import train_test_split\n",
    "from sklearn.metrics import accuracy_score\n",
    "from matplotlib import pyplot as plt\n",
    "import pandas as pd \n",
    "import seaborn as sns\n",
    "\n",
    "np.seterr('ignore')"
   ]
  },
  {
   "cell_type": "code",
   "execution_count": 215,
   "metadata": {},
   "outputs": [],
   "source": [
    "# load iris dataset\n",
    "iris = datasets.load_iris()\n",
    "X_train, X_test, y_train, y_test = train_test_split(iris.data, iris.target, test_size=.2, random_state=0)\n",
    "class_names = iris.target_names\n",
    "\n",
    "# load spambase\n",
    "emails = pd.read_csv(r\"C:\\Users\\ACER\\Downloads\\spambase.data\")\n",
    "emails = emails.to_numpy()\n",
    "labels = emails[:, -1].astype(np.uint8)\n",
    "emails = emails[:, :-1]\n",
    "E_train, E_test, train_labels, test_labels = train_test_split(emails, labels, test_size=.2, shuffle=True, random_state=0)\n",
    "email_class_names = ['not_spam', 'spam']"
   ]
  },
  {
   "cell_type": "code",
   "execution_count": 216,
   "metadata": {},
   "outputs": [
    {
     "name": "stdout",
     "output_type": "stream",
     "text": [
      "[1 1 1 ... 1 0 0]\n"
     ]
    }
   ],
   "source": [
    "print(train_labels)"
   ]
  },
  {
   "cell_type": "code",
   "execution_count": 210,
   "metadata": {},
   "outputs": [
    {
     "name": "stdout",
     "output_type": "stream",
     "text": [
      "[1 0 0 1 0 0 0 0 1 0 1 0 1 1 0 0 1 1 1 1 0 0 0 0 0 1 0 0 0 1 0 1 1 0 0 1 0\n",
      " 0 0 0 1 1 0 0 1 1 0 1 1 0 0 0 0 0 1 0 1 0 1 1 0 0 0 0 0 1 0 0 0 1 0 0 1 1\n",
      " 1 0 1 0 0 0 1 0 1 1 1 0 0 0 1 1 1 0 0 1 0 0 0 1 0 0 0 0 0 0 0 1 1 0 0 0 0\n",
      " 1 1 0 0 1 0 1 0 0 1 0 0 1 1 0 0 1 1 1 1 0 0 0 1 0 1 0 1 1 0 1 0 1 0 1 1 1\n",
      " 1 0 0 1 0 0 0 1 0 0 1 1 1 0 0 1 0 0 1 1 1 0 1 1 0 0 1 1 0 1 0 0 0 1 1 0 1\n",
      " 0 0 1 1 1 0 1 0 1 0 1 1 1 1 1 1 1 1 0 1 0 1 1 1 0 0 1 0 0 0 0 0 0 0 0 0 0\n",
      " 1 1 0 1 0 0 1 1 0 0 1 0 0 0 0 0 0 0 1 0 0 1 0 0 0 1 0 0 1 0 0 0 0 0 1 0 0\n",
      " 0 1 1 1 0 0 1 0 1 0 1 1 0 0 0 1 1 1 0 0 0 1 0 0 1 1 1 0 1 0 0 0 0 0 0 0 0\n",
      " 1 0 1 0 0 0 0 0 0 1 1 1 0 0 1 0 1 1 0 1 0 0 0 1 0 1 0 0 1 0 1 1 0 1 1 1 0\n",
      " 0 1 0 0 0 1 1 0 1 0 1 0 1 1 1 0 1 1 0 0 1 1 0 0 0 0 1 0 1 0 0 1 0 1 0 0 1\n",
      " 0 1 1 0 0 1 0 1 0 1 0 0 0 1 1 1 1 0 1 0 1 1 0 1 0 0 0 0 0 1 1 0 1 0 0 1 1\n",
      " 0 1 1 0 1 1 0 1 0 0 0 0 0 0 0 1 1 0 0 0 0 0 1 0 0 1 0 0 0 1 0 0 0 0 0 0 1\n",
      " 0 1 1 0 0 0 1 1 0 1 1 1 0 1 1 1 1 0 1 0 0 0 1 1 0 1 1 1 0 0 0 0 1 1 0 0 0\n",
      " 0 0 0 0 0 1 1 1 1 1 1 1 0 1 0 0 0 0 0 0 1 1 0 0 1 0 0 0 1 1 0 1 0 1 0 1 0\n",
      " 0 0 0 1 0 1 0 1 0 0 1 0 0 0 1 0 0 0 1 0 0 1 0 0 1 0 1 0 0 0 1 1 1 1 0 0 0\n",
      " 1 1 0 1 0 1 0 1 1 0 1 0 1 0 1 0 0 0 0 0 0 0 0 1 0 0 1 1 0 0 0 0 0 1 1 0 0\n",
      " 0 0 1 0 1 0 0 1 0 0 0 0 1 0 0 0 0 0 0 0 1 0 1 1 0 0 0 0 0 1 0 0 0 1 0 0 0\n",
      " 1 1 0 0 1 0 0 0 1 0 0 1 1 0 1 1 1 0 0 0 1 0 0 1 1 1 1 1 1 0 0 0 0 0 0 1 1\n",
      " 1 0 0 1 1 0 0 0 0 0 1 0 0 0 0 1 0 0 1 0 0 0 1 0 1 0 1 1 1 0 1 1 0 0 0 1 0\n",
      " 0 1 0 0 1 0 0 1 0 1 0 0 1 0 0 0 0 0 1 1 0 1 0 0 1 1 0 0 0 0 1 1 0 0 0 0 0\n",
      " 0 1 0 1 0 1 1 1 1 1 0 0 0 0 0 1 1 0 0 1 0 0 0 0 0 1 1 0 0 1 1 0 1 1 1 0 1\n",
      " 0 0 0 1 0 1 1 0 0 0 1 0 0 0 1 1 0 0 1 1 1 0 0 1 0 0 0 1 0 0 1 1 1 1 0 1 0\n",
      " 1 0 1 0 0 1 0 1 1 1 1 0 0 1 1 0 0 0 1 0 1 0 0 0 1 1 0 1 1 0 1 0 1 0 0 0 1\n",
      " 0 1 0 1 0 1 0 0 1 0 0 1 1 0 1 1 0 0 1 1 1 0 0 1 0 0 1 0 0 1 0 0 0 0 0 0 0\n",
      " 0 0 0 0 0 0 1 1 0 0 1 0 0 1 1 1 1 0 1 0 1 1 0 1 0 1 0 1 1 0 0 0]\n"
     ]
    }
   ],
   "source": [
    "print(test_labels)"
   ]
  },
  {
   "cell_type": "code",
   "execution_count": 150,
   "metadata": {},
   "outputs": [],
   "source": []
  },
  {
   "cell_type": "code",
   "execution_count": 133,
   "metadata": {},
   "outputs": [],
   "source": [
    "# Support Functions\n",
    "\n",
    "# Kỳ vọng\n",
    "def mean(vals):\n",
    "    return np.mean(vals, axis=0)\n",
    "\n",
    "# Phương sai\n",
    "def variance(vals):\n",
    "    \"\"\"\n",
    "    Tại sao lại chia cho (n - 1) mà không phải chia cho n?\n",
    "      - Trong nhiều tình huống thực tế, phương sai thực sự của một tập hợp \n",
    "      không được biết trước và phải được tính toán bằng cách nào đó. \n",
    "      - Khi tính toán phương sai mẫu để ước tính phương sai tổng thể, mẫu số \n",
    "      của phương trình phương sai tđược đổi thành (n - 1) để ước lượng không\n",
    "      bị thiên vị và không đánh giá thấp phương sai tổng thể.\n",
    "    \"\"\"\n",
    "    E = mean(vals)\n",
    "    variance = np.sum((vals - E)**2, axis=0) / (len(vals) - 1)\n",
    "    return variance\n",
    "\n",
    "# Độ lêch chuẩn\n",
    "def deviation(vals):\n",
    "    return variance(vals) ** 0.5\n",
    "\n",
    "# Gaussian density function (Hàm mật độ Gauss)\n",
    "def cal_Gaussian_density(x, mean, var):\n",
    "    temp = np.exp(-((x - mean) ** 2) / (2 * var))\n",
    "    return 1.0/np.sqrt(2 * np.pi * var) * temp\n",
    "\n",
    "# posterior probabilities\n",
    "def cal_posterior(self, x):\n",
    "    posteriors = []\n",
    "    for i in range(self.count):\n",
    "        prior = np.log(self.prior[i])\n",
    "        conditional = np.sum(np.log(self.gaussian_density(i, x)))\n",
    "        posterior = prior + conditional\n",
    "        posteriors.append(posterior)\n",
    "    return self.classes[np.argmax(posteriors)]\n",
    "\n",
    "def group_by(X, y, op):\n",
    "    nC = np.unique(y)\n",
    "    C = len(np.unique(y))\n",
    "    ans = np.zeros((C, X.shape[1]))\n",
    "    for i in nC:\n",
    "        temp = X[y == i, :]\n",
    "        ans[i, :] = op(temp)\n",
    "\n",
    "    return ans\n"
   ]
  },
  {
   "cell_type": "code",
   "execution_count": 99,
   "metadata": {},
   "outputs": [],
   "source": [
    "class NaiveBayesClassifier:\n",
    "    \"\"\"\n",
    "    Naive Bayes Classifier with Normal Distribution\n",
    "    \"\"\"\n",
    "\n",
    "    def __init__(self):\n",
    "        self.mean = None\n",
    "        self.var = None\n",
    "        self.dev = None\n",
    "        self.prior = None\n",
    "\n",
    "    # Thống kê xác suất\n",
    "    def __do_statistic(self, X, y):\n",
    "        self.mean = group_by(X, y, mean)\n",
    "        self.var = group_by(X, y, variance)\n",
    "        self.dev = self.var ** 0.5\n",
    "\n",
    "    # Prior probabilities\n",
    "    def __cal_prior(self, y):\n",
    "        self.prior = np.unique(y, return_counts=True)[1] / len(y)\n",
    "\n",
    "    # Posterior probabilities\n",
    "    def __cal_posterior(self, x):\n",
    "        \"\"\"\n",
    "        Calculate posterior probabilities of X (one datapoint) belong to classes\n",
    "\n",
    "        Args:\n",
    "            x (_type_): _description_\n",
    "\n",
    "        Returns:\n",
    "            _type_: _description_\n",
    "        \"\"\"\n",
    "        posteriors = []\n",
    "        for i in range(self.n_classes):\n",
    "            prior = np.log(self.prior[i])\n",
    "            conditional = np.sum(np.log(cal_Gaussian_density(x, self.mean[i], self.var[i])))\n",
    "            posterior = prior + conditional\n",
    "            posteriors.append(posterior)\n",
    "        \n",
    "        return np.argmax(posteriors)\n",
    "\n",
    "    def fit(self, X, y, target_names=None):\n",
    "        self.classes = target_names\n",
    "        self.n_classes = len(np.unique(y))\n",
    "\n",
    "        self.__do_statistic(X, y)\n",
    "        self.__cal_prior(y)\n",
    "\n",
    "    def predict(self, X, return_classnames=False):\n",
    "        predicted_output = [self.__cal_posterior(dt) for dt in X]\n",
    "        if self.classes is None or return_classnames == False:\n",
    "            return np.asarray(predicted_output)\n",
    "        else:\n",
    "            return np.array([self.classes[i] for i in predicted_output])\n"
   ]
  },
  {
   "cell_type": "markdown",
   "metadata": {},
   "source": [
    "## Iris dataset"
   ]
  },
  {
   "cell_type": "markdown",
   "metadata": {},
   "source": [
    "Visualize Iris dataset"
   ]
  },
  {
   "cell_type": "code",
   "execution_count": 111,
   "metadata": {},
   "outputs": [
    {
     "name": "stdout",
     "output_type": "stream",
     "text": [
      "['setosa' 'versicolor' 'virginica']\n"
     ]
    },
    {
     "data": {
      "text/html": [
       "<div>\n",
       "<style scoped>\n",
       "    .dataframe tbody tr th:only-of-type {\n",
       "        vertical-align: middle;\n",
       "    }\n",
       "\n",
       "    .dataframe tbody tr th {\n",
       "        vertical-align: top;\n",
       "    }\n",
       "\n",
       "    .dataframe thead th {\n",
       "        text-align: right;\n",
       "    }\n",
       "</style>\n",
       "<table border=\"1\" class=\"dataframe\">\n",
       "  <thead>\n",
       "    <tr style=\"text-align: right;\">\n",
       "      <th></th>\n",
       "      <th>sepal.length</th>\n",
       "      <th>sepal.width</th>\n",
       "      <th>petal.length</th>\n",
       "      <th>petal.width</th>\n",
       "      <th>variety</th>\n",
       "    </tr>\n",
       "  </thead>\n",
       "  <tbody>\n",
       "    <tr>\n",
       "      <th>0</th>\n",
       "      <td>5.1</td>\n",
       "      <td>3.5</td>\n",
       "      <td>1.4</td>\n",
       "      <td>0.2</td>\n",
       "      <td>setosa</td>\n",
       "    </tr>\n",
       "    <tr>\n",
       "      <th>1</th>\n",
       "      <td>4.9</td>\n",
       "      <td>3.0</td>\n",
       "      <td>1.4</td>\n",
       "      <td>0.2</td>\n",
       "      <td>setosa</td>\n",
       "    </tr>\n",
       "    <tr>\n",
       "      <th>2</th>\n",
       "      <td>4.7</td>\n",
       "      <td>3.2</td>\n",
       "      <td>1.3</td>\n",
       "      <td>0.2</td>\n",
       "      <td>setosa</td>\n",
       "    </tr>\n",
       "    <tr>\n",
       "      <th>3</th>\n",
       "      <td>4.6</td>\n",
       "      <td>3.1</td>\n",
       "      <td>1.5</td>\n",
       "      <td>0.2</td>\n",
       "      <td>setosa</td>\n",
       "    </tr>\n",
       "    <tr>\n",
       "      <th>4</th>\n",
       "      <td>5.0</td>\n",
       "      <td>3.6</td>\n",
       "      <td>1.4</td>\n",
       "      <td>0.2</td>\n",
       "      <td>setosa</td>\n",
       "    </tr>\n",
       "    <tr>\n",
       "      <th>...</th>\n",
       "      <td>...</td>\n",
       "      <td>...</td>\n",
       "      <td>...</td>\n",
       "      <td>...</td>\n",
       "      <td>...</td>\n",
       "    </tr>\n",
       "    <tr>\n",
       "      <th>145</th>\n",
       "      <td>6.7</td>\n",
       "      <td>3.0</td>\n",
       "      <td>5.2</td>\n",
       "      <td>2.3</td>\n",
       "      <td>virginica</td>\n",
       "    </tr>\n",
       "    <tr>\n",
       "      <th>146</th>\n",
       "      <td>6.3</td>\n",
       "      <td>2.5</td>\n",
       "      <td>5.0</td>\n",
       "      <td>1.9</td>\n",
       "      <td>virginica</td>\n",
       "    </tr>\n",
       "    <tr>\n",
       "      <th>147</th>\n",
       "      <td>6.5</td>\n",
       "      <td>3.0</td>\n",
       "      <td>5.2</td>\n",
       "      <td>2.0</td>\n",
       "      <td>virginica</td>\n",
       "    </tr>\n",
       "    <tr>\n",
       "      <th>148</th>\n",
       "      <td>6.2</td>\n",
       "      <td>3.4</td>\n",
       "      <td>5.4</td>\n",
       "      <td>2.3</td>\n",
       "      <td>virginica</td>\n",
       "    </tr>\n",
       "    <tr>\n",
       "      <th>149</th>\n",
       "      <td>5.9</td>\n",
       "      <td>3.0</td>\n",
       "      <td>5.1</td>\n",
       "      <td>1.8</td>\n",
       "      <td>virginica</td>\n",
       "    </tr>\n",
       "  </tbody>\n",
       "</table>\n",
       "<p>150 rows × 5 columns</p>\n",
       "</div>"
      ],
      "text/plain": [
       "     sepal.length  sepal.width  petal.length  petal.width    variety\n",
       "0             5.1          3.5           1.4          0.2     setosa\n",
       "1             4.9          3.0           1.4          0.2     setosa\n",
       "2             4.7          3.2           1.3          0.2     setosa\n",
       "3             4.6          3.1           1.5          0.2     setosa\n",
       "4             5.0          3.6           1.4          0.2     setosa\n",
       "..            ...          ...           ...          ...        ...\n",
       "145           6.7          3.0           5.2          2.3  virginica\n",
       "146           6.3          2.5           5.0          1.9  virginica\n",
       "147           6.5          3.0           5.2          2.0  virginica\n",
       "148           6.2          3.4           5.4          2.3  virginica\n",
       "149           5.9          3.0           5.1          1.8  virginica\n",
       "\n",
       "[150 rows x 5 columns]"
      ]
     },
     "execution_count": 111,
     "metadata": {},
     "output_type": "execute_result"
    }
   ],
   "source": [
    "iris_df = pd.DataFrame({'sepal.length': iris.data[:, 0],\n",
    "                        'sepal.width': iris.data[:, 1],\n",
    "                        'petal.length': iris.data[:, 2],\n",
    "                        'petal.width': iris.data[:, 3],\n",
    "                        'variety': [iris.target_names[i] for i in iris.target]})\n",
    "print(class_names)\n",
    "iris_df"
   ]
  },
  {
   "cell_type": "markdown",
   "metadata": {},
   "source": [
    "Training Model"
   ]
  },
  {
   "cell_type": "code",
   "execution_count": 112,
   "metadata": {},
   "outputs": [],
   "source": [
    "model = NaiveBayesClassifier()\n",
    "\n",
    "model.fit(X_train, y_train, target_names=class_names)"
   ]
  },
  {
   "cell_type": "code",
   "execution_count": 123,
   "metadata": {},
   "outputs": [
    {
     "name": "stdout",
     "output_type": "stream",
     "text": [
      "[2 1 0 2 2 1 0 1 1 1 2 0 2 0 0 1 2 2 1 2 1 2 1 1 2 1 1 2 1 2 1 0 2 1 1 1 1\n",
      " 2 0 0 2 1 0 0 2 0 2 1 0 1 2 1 0 2 2 2 2 0 0 2 2 0 2 0 2 2 0 0 2 0 0 0 1 2\n",
      " 2 0 0 0 1 1 0 0 1 0 2 1 2 1 0 2 0 2 0 0 2 0 2 1 1 1 2 2 1 2 0 1 2 2 0 1 1\n",
      " 2 1 0 0 0 2 1 2 0]\n",
      "\n",
      "Training accuracy: 95.0%\n"
     ]
    }
   ],
   "source": [
    "# training data\n",
    "\n",
    "y_train_pred = model.predict(X_train, return_classnames=False)\n",
    "\n",
    "print(y_train_pred)\n",
    "print()\n",
    "print(f'Training accuracy: {round(accuracy_score(y_train_pred, y_train) * 100, 2)}%')\n"
   ]
  },
  {
   "cell_type": "code",
   "execution_count": 124,
   "metadata": {},
   "outputs": [
    {
     "name": "stdout",
     "output_type": "stream",
     "text": [
      "[2 1 0 2 0 2 0 1 1 1 1 1 1 1 1 0 1 1 0 0 2 1 0 0 2 0 0 1 1 0]\n",
      "\n",
      "Testing accuracy: 96.67%\n"
     ]
    }
   ],
   "source": [
    "# test data\n",
    "\n",
    "y_pred = model.predict(X_test)\n",
    "\n",
    "print(y_pred)\n",
    "print()\n",
    "print(f'Testing accuracy: {round(accuracy_score(y_pred, y_test) * 100, 2)}%')\n"
   ]
  },
  {
   "cell_type": "markdown",
   "metadata": {},
   "source": [
    "## Spam email dataset"
   ]
  },
  {
   "cell_type": "code",
   "execution_count": 217,
   "metadata": {},
   "outputs": [],
   "source": [
    "model_email = NaiveBayesClassifier()\n",
    "\n",
    "model_email.fit(E_train, train_labels, target_names=email_class_names)"
   ]
  },
  {
   "cell_type": "code",
   "execution_count": 219,
   "metadata": {},
   "outputs": [
    {
     "name": "stdout",
     "output_type": "stream",
     "text": [
      "[1 1 1 ... 1 1 0]\n",
      "\n",
      "Training accuracy: 81.71%\n"
     ]
    }
   ],
   "source": [
    "# training data\n",
    "\n",
    "train_labels_pred = model_email.predict(E_train, return_classnames=False)\n",
    "\n",
    "print(train_labels_pred)\n",
    "print()\n",
    "print(f'Training accuracy: {round(accuracy_score(train_labels_pred, train_labels) * 100, 2)}%')\n"
   ]
  },
  {
   "cell_type": "code",
   "execution_count": 222,
   "metadata": {},
   "outputs": [
    {
     "name": "stdout",
     "output_type": "stream",
     "text": [
      "[[7.72044444e-02 2.42835556e-01 2.00182222e-01 5.06666667e-04\n",
      "  1.74680000e-01 4.61733333e-02 9.65333333e-03 4.05688889e-02\n",
      "  3.64888889e-02 1.65497778e-01 2.21644444e-02 5.36711111e-01\n",
      "  5.82177778e-02 4.32088889e-02 7.32888889e-03 6.10133333e-02\n",
      "  5.06577778e-02 9.09733333e-02 1.28929333e+00 8.70666667e-03\n",
      "  4.52133333e-01 3.99422222e-02 7.21333333e-03 1.79644444e-02\n",
      "  8.53693333e-01 4.32204444e-01 1.23763556e+00 1.73168889e-01\n",
      "  1.47253333e-01 1.56746667e-01 9.93377778e-02 6.90533333e-02\n",
      "  1.51613333e-01 6.94488889e-02 1.54906667e-01 1.29626667e-01\n",
      "  1.89457778e-01 2.26977778e-02 1.16004444e-01 7.45111111e-02\n",
      "  7.74577778e-02 2.11266667e-01 6.88222222e-02 1.19382222e-01\n",
      "  4.30040000e-01 3.01475556e-01 8.18666667e-03 5.25866667e-02\n",
      "  4.36666667e-02 1.54530667e-01 2.06622222e-02 1.14828000e-01\n",
      "  1.10693333e-02 2.22786667e-02 2.27649733e+00 1.77422222e+01\n",
      "  1.62249333e+02]\n",
      " [1.55041958e-01 1.66335664e-01 4.06069930e-01 1.80195804e-01\n",
      "  5.17783217e-01 1.67986014e-01 2.69818182e-01 2.01517483e-01\n",
      "  1.68531469e-01 3.60216783e-01 1.17531469e-01 5.56342657e-01\n",
      "  1.46825175e-01 8.13566434e-02 1.11300699e-01 5.09706294e-01\n",
      "  2.88055944e-01 3.15580420e-01 2.29456643e+00 1.97349650e-01\n",
      "  1.37176224e+00 2.28979021e-01 2.43531469e-01 2.23930070e-01\n",
      "  1.94895105e-02 1.12307692e-02 1.83916084e-03 1.51958042e-02\n",
      "  7.90209790e-04 6.93706294e-03 2.79720280e-04 6.57342657e-04\n",
      "  1.43286713e-02 2.08391608e-03 7.39160839e-03 3.10279720e-02\n",
      "  4.76573427e-02 4.98601399e-03 1.34195804e-02 3.52307692e-02\n",
      "  6.99300699e-05 2.72727273e-03 8.92307692e-03 6.41258741e-03\n",
      "  1.22958042e-01 1.59230769e-02 1.24475524e-03 2.06993007e-03\n",
      "  2.05993007e-02 1.07067832e-01 7.96433566e-03 5.06930769e-01\n",
      "  1.71566434e-01 7.11951049e-02 9.74543706e+00 9.85818182e+01\n",
      "  4.58504196e+02]]\n"
     ]
    }
   ],
   "source": [
    "print(model_email.mean)"
   ]
  },
  {
   "cell_type": "code",
   "execution_count": 223,
   "metadata": {},
   "outputs": [
    {
     "name": "stdout",
     "output_type": "stream",
     "text": [
      "[1 1 1 ... 1 0 0]\n"
     ]
    }
   ],
   "source": [
    "print(train_labels)"
   ]
  },
  {
   "cell_type": "code",
   "execution_count": 224,
   "metadata": {},
   "outputs": [
    {
     "name": "stdout",
     "output_type": "stream",
     "text": [
      "[1 0 0 1 1 1 1 1 1 1 1 1 1 1 0 0 1 1 1 1 0 0 1 0 0 1 1 0 0 1 0 1 1 0 1 1 0\n",
      " 0 0 0 1 1 0 0 1 1 0 1 1 0 1 0 0 0 1 0 1 0 1 1 1 0 0 1 1 1 0 0 1 1 1 0 1 1\n",
      " 1 1 1 0 1 1 1 0 1 0 1 1 0 0 1 1 1 1 0 1 0 0 1 1 1 1 1 1 1 0 0 1 1 0 0 1 0\n",
      " 1 1 0 0 1 0 1 0 1 1 0 0 1 1 0 0 1 1 1 1 0 0 1 1 0 1 1 1 1 0 1 0 1 1 1 1 1\n",
      " 1 1 0 1 1 0 0 1 0 0 1 1 1 0 0 1 1 1 1 1 1 0 1 1 0 0 1 1 0 1 1 1 0 1 1 0 1\n",
      " 1 1 1 1 1 0 1 1 1 1 1 1 1 1 1 1 1 1 0 1 0 1 1 1 0 0 1 0 1 0 0 0 0 0 0 0 0\n",
      " 1 1 0 1 0 0 1 1 0 0 1 0 0 0 0 0 0 0 1 0 0 1 0 0 0 1 0 0 1 0 0 1 0 0 1 0 0\n",
      " 0 1 1 1 0 0 1 0 1 0 1 1 1 0 1 1 1 1 0 0 0 1 1 0 1 1 1 0 1 1 0 0 0 0 0 0 0\n",
      " 1 1 1 0 1 1 1 0 0 1 1 1 1 0 1 0 1 1 0 0 0 1 0 1 1 1 1 1 1 0 1 1 1 1 1 1 0\n",
      " 0 1 1 0 0 1 1 0 1 0 1 1 1 1 0 0 1 1 0 0 1 1 0 1 0 0 1 0 1 0 1 1 0 1 0 0 1\n",
      " 0 1 1 0 0 1 0 1 0 0 0 0 1 1 1 1 0 1 1 0 1 1 1 1 0 0 0 0 0 1 1 0 1 0 0 1 1\n",
      " 0 1 1 0 1 1 0 1 1 0 0 0 1 1 0 1 1 0 0 0 0 1 1 0 0 1 0 1 0 0 0 0 0 0 0 0 1\n",
      " 1 1 1 0 1 1 1 1 0 0 0 1 1 1 1 1 1 0 1 1 1 0 1 1 0 1 1 1 0 0 0 0 1 1 0 1 0\n",
      " 0 0 0 0 0 1 1 1 1 1 1 1 0 1 0 0 0 0 0 1 1 1 0 0 1 0 1 0 1 1 0 1 0 1 0 1 0\n",
      " 0 0 0 1 1 1 0 1 1 1 1 0 0 0 1 0 0 0 1 0 0 1 0 0 1 0 1 0 0 0 1 1 1 1 0 1 0\n",
      " 1 1 0 1 0 1 0 1 1 0 1 1 1 1 1 0 1 1 1 1 0 0 1 1 1 0 1 1 0 1 0 0 1 1 0 0 0\n",
      " 0 1 1 0 1 0 0 1 0 0 0 0 1 1 0 0 1 1 1 0 1 0 1 1 0 0 0 0 0 1 0 1 1 1 1 1 0\n",
      " 1 1 0 0 1 0 0 0 1 1 0 1 1 1 1 1 1 0 0 0 1 0 1 1 1 1 1 1 1 0 0 0 0 1 0 1 0\n",
      " 1 0 0 1 1 1 1 1 0 1 1 0 0 0 0 1 0 0 1 0 1 0 1 0 1 1 1 1 1 0 1 1 0 0 0 1 0\n",
      " 0 1 0 0 1 0 0 1 1 1 0 1 1 1 0 0 1 0 1 1 0 1 0 0 1 1 0 0 0 0 1 1 0 0 0 0 1\n",
      " 0 1 0 1 1 1 1 1 1 1 0 1 0 0 0 1 1 0 1 1 0 0 0 1 0 1 1 0 1 1 1 0 1 1 1 0 1\n",
      " 0 1 0 1 0 1 1 0 0 1 1 0 1 1 1 1 0 1 1 1 1 1 0 1 0 0 0 1 1 1 1 1 1 1 0 1 0\n",
      " 1 0 1 0 0 0 1 1 1 1 1 0 1 1 1 0 0 0 1 0 1 0 0 0 1 1 1 1 1 0 1 1 1 0 1 0 1\n",
      " 0 1 0 1 1 1 1 0 1 0 1 1 1 1 1 1 0 0 1 1 1 0 1 1 1 0 1 0 1 1 1 1 0 0 0 0 0\n",
      " 0 0 0 0 0 1 1 1 0 1 1 0 0 1 1 1 1 0 1 1 1 1 0 1 0 1 0 1 1 0 0 0]\n",
      "\n",
      "Testing accuracy: 82.93%\n"
     ]
    }
   ],
   "source": [
    "# test data\n",
    "\n",
    "pred_labels = model_email.predict(E_test)\n",
    "\n",
    "print(pred_labels)\n",
    "print()\n",
    "print(f'Testing accuracy: {round(accuracy_score(pred_labels, test_labels) * 100, 2)}%')"
   ]
  },
  {
   "cell_type": "markdown",
   "metadata": {},
   "source": [
    "# Evaluating model"
   ]
  },
  {
   "cell_type": "code",
   "execution_count": 173,
   "metadata": {},
   "outputs": [
    {
     "name": "stdout",
     "output_type": "stream",
     "text": [
      "Training\n"
     ]
    },
    {
     "data": {
      "image/png": "[encoded data removed]",
      "text/plain": [
       "<Figure size 1080x432 with 2 Axes>"
      ]
     },
     "metadata": {
      "needs_background": "light"
     },
     "output_type": "display_data"
    },
    {
     "name": "stdout",
     "output_type": "stream",
     "text": [
      "Test\n"
     ]
    },
    {
     "data": {
      "image/png": "[encoded data removed]",
      "text/plain": [
       "<Figure size 1080x432 with 2 Axes>"
      ]
     },
     "metadata": {
      "needs_background": "light"
     },
     "output_type": "display_data"
    }
   ],
   "source": [
    "def visualize(true_classes, predicted_classes, class_names, column_name):\n",
    "    if class_names is not None:\n",
    "        t_c = [class_names[i] for i in true_classes]\n",
    "        p_c = [class_names[i] for i in predicted_classes]\n",
    "    else:\n",
    "        t_c = true_classes\n",
    "        p_c = predicted_classes\n",
    "    tr_c = pd.DataFrame(data=t_c, columns=[column_name])\n",
    "    pr_c = pd.DataFrame(data=p_c, columns=[column_name])\n",
    "    \n",
    "    fig, ax = plt.subplots(1, 2, sharex='col', sharey='row', figsize=(15,6))\n",
    "    \n",
    "    sns.countplot(x=column_name, data=tr_c, ax=ax[0], palette='viridis', alpha=0.7, dodge=False)\n",
    "    sns.countplot(x=column_name, data=pr_c, ax=ax[1], palette='viridis', alpha=0.7, dodge=False) \n",
    "\n",
    "    fig.suptitle('True vs Predicted Comparison', fontsize=20)\n",
    "\n",
    "    ax[0].tick_params(labelsize=12)\n",
    "    ax[1].tick_params(labelsize=12)\n",
    "    ax[0].set_title(\"True values\", fontsize=18)\n",
    "    ax[1].set_title(\"Predicted values\", fontsize=18)\n",
    "    plt.show()\n",
    "\n",
    "print(\"Training\")\n",
    "visualize(y_train, y_train_pred, class_names, 'variety')\n",
    "print(\"Test\")\n",
    "visualize(y_test, y_pred, class_names, 'variety')"
   ]
  },
  {
   "cell_type": "code",
   "execution_count": 174,
   "metadata": {},
   "outputs": [
    {
     "name": "stdout",
     "output_type": "stream",
     "text": [
      "Training\n"
     ]
    },
    {
     "data": {
      "image/png": "[encoded data removed]",
      "text/plain": [
       "<Figure size 1080x432 with 2 Axes>"
      ]
     },
     "metadata": {
      "needs_background": "light"
     },
     "output_type": "display_data"
    },
    {
     "name": "stdout",
     "output_type": "stream",
     "text": [
      "Test\n"
     ]
    },
    {
     "data": {
      "image/png": "[encoded data removed]",
      "text/plain": [
       "<Figure size 1080x432 with 2 Axes>"
      ]
     },
     "metadata": {
      "needs_background": "light"
     },
     "output_type": "display_data"
    }
   ],
   "source": [
    "print(\"Training\")\n",
    "visualize(train_labels, train_labels_pred, email_class_names, 'spam filtering')\n",
    "print(\"Test\")\n",
    "visualize(test_labels, pred_labels, email_class_names, 'spam filtering')"
   ]
  }
 ],
 "metadata": {
  "kernelspec": {
   "display_name": "Python 3.10.5 64-bit (windows store)",
   "language": "python",
   "name": "python3"
  },
  "language_info": {
   "codemirror_mode": {
    "name": "ipython",
    "version": 3
   },
   "file_extension": ".py",
   "mimetype": "text/x-python",
   "name": "python",
   "nbconvert_exporter": "python",
   "pygments_lexer": "ipython3",
   "version": "3.10.5"
  },
  "orig_nbformat": 4,
  "vscode": {
   "interpreter": {
    "hash": "9deea79bfd8769c20cdb41e577c31349975f53057f7c4a88718c49dab3f025eb"
   }
  }
 },
 "nbformat": 4,
 "nbformat_minor": 2
}
